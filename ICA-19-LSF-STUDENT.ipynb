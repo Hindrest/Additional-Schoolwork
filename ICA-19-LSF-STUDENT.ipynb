{
 "cells": [
  {
   "cell_type": "markdown",
   "metadata": {},
   "source": [
    "# 19 In-Class Assignment: Least Squares Fit (LSF)\n",
    "\n",
    "<img alt=\"image showing a 3D vector projected onto a 2D plane\" src=\"https://lh5.googleusercontent.com/RFgtgkULxOPzUC8lwl1j265FjpzaD2YIDHjy94VyqOOU7xIQf03bsHDSmxYNOmYDXeLPn7iMTg=w740\" width=\"50%\">\n",
    "</p>\n"
   ]
  },
  {
   "cell_type": "markdown",
   "metadata": {},
   "source": [
    "### Agenda for today's class (80 minutes)\n",
    "\n",
    "\n",
    "\n",
    "1. [(20 minutes) LSF Pre-class Review](#Pre-class_Review)\n",
    "1. [(30 minutes) Finding the best solution in an overdetermined system](#Finding_the_best_solution_in_an_overdetermined_system)\n",
    "1. [(30 minutes) Pseudoinverse](#Pseudoinverse)"
   ]
  },
  {
   "cell_type": "markdown",
   "metadata": {},
   "source": [
    "---\n",
    "<a name=\"Pre-class_Review\"></a>\n",
    "\n",
    "## 1. LSF Pre-class Review\n",
    "\n",
    "* [19--LSF_pre-class-assignment.ipynb](19--LSF_pre-class-assignment.ipynb)"
   ]
  },
  {
   "cell_type": "markdown",
   "metadata": {},
   "source": [
    "----\n",
    "<a name=\"Finding_the_best_solution_in_an_overdetermined_system\"></a>\n",
    "## 2. Finding the best solution in an overdetermined system\n",
    "\n",
    "Let $Ax = y$ be a system of $m$ linear equations in $n$ variables. A *least squares solution* of $Ax = y$ is an solution $\\hat{x}$ in $R^n$ such that:\n",
    "\n",
    "$$ \\min_{\\hat{x}}\\|y - A\\hat{x}\\|.$$\n",
    "\n",
    "Note we substitute $y$ for our typical variable $b$ here because we will use $b$ later to represent the intercept to a line and we want to try and avoid confusion in notation. It also consistent with the picture above. \n",
    "\n",
    "In other words, $\\hat{x}$ is a value of $x$ for which $Ax$ is as close as possible to $y$. From previous lectures, we know this to be true if the vector $$y - A\\hat{x}$$ is orthogonal (perpendicular) to the column space of $A$.\n",
    "\n",
    "We also know that the dot product is zero if two vectors are orthogonal. So we have  \n",
    "$$a \\cdot (Ax - y)  = 0, $$\n",
    "for all vectors $a$ in the column spaces of $A$.\n",
    "\n",
    "The columns of $A$ span the column space of $A$. Denote the columns of $A$ as \n",
    "$$A = [a_1, \\cdots, a_n].$$ \n",
    "Then we have \n",
    "$$a_1^\\top (Ax - y)  = 0, \\\\ a_2^\\top(Ax-y)=0\\\\\\vdots \\\\a_n^\\top(Ax-y)=0.$$\n",
    "It is the same as taking the transpose of $A$ and doing a matrix multiply:\n",
    "$$A^\\top (Ax - y) = 0.$$\n",
    "\n",
    "That is:\n",
    "\n",
    "<font size=40>$$A^\\top Ax = A^\\top y$$</font>\n",
    "\n",
    "The above equation is called the *least squares solution* to the original equation $Ax=y$.  The matrix $A^\\top A$ is symmetric and invertable. Then solving for $\\hat{x}$ can be calculated as follows:\n",
    "\n",
    "$$x = (A^\\top A)^{-1}A^\\top y$$\n",
    "\n",
    "\n",
    "The matrix $(A^\\top A)^{-1}A^\\top$ is also called the left inverse."
   ]
  },
  {
   "cell_type": "markdown",
   "metadata": {},
   "source": [
    "**Example:** A researcher has conducted experiments of a particular Hormone dosage in a population of rats. The table shows the number of fatalities at each dosage level tested. Determine the least squares line and use it to predict the number of rat fatalities at hormone dosage of 22. \n",
    "\n",
    "| Hormone level  | 20 | 25 | 30 | 35 | 40 | 45 | 50  |\n",
    "|---|---|---|---|---|---|---|---|\n",
    "| Fatalities | 101 | 115 | 92 | 64 | 60 | 50 | 49| \n"
   ]
  },
  {
   "cell_type": "code",
   "execution_count": 1,
   "metadata": {},
   "outputs": [],
   "source": [
    "%matplotlib inline\n",
    "import matplotlib.pylab as plt\n",
    "import numpy as np\n",
    "import sympy as sym\n",
    "import time\n",
    "from answercheck import checkanswer\n",
    "sym.init_printing(use_unicode=True)"
   ]
  },
  {
   "cell_type": "code",
   "execution_count": 2,
   "metadata": {},
   "outputs": [
    {
     "data": {
      "text/plain": [
       "Text(0, 0.5, 'Fatalities')"
      ]
     },
     "execution_count": 2,
     "metadata": {},
     "output_type": "execute_result"
    },
    {
     "data": {
      "image/png": "[encoded data removed]",
      "text/plain": [
       "<Figure size 432x288 with 1 Axes>"
      ]
     },
     "metadata": {
      "needs_background": "light"
     },
     "output_type": "display_data"
    }
   ],
   "source": [
    "H = [20,25,30,35,40,45,50]\n",
    "f = [101,115, 92,64,60,50,49]\n",
    "\n",
    "plt.scatter(H,f)\n",
    "plt.xlabel('Hormone Level')\n",
    "plt.ylabel('Fatalities')"
   ]
  },
  {
   "cell_type": "markdown",
   "metadata": {},
   "source": [
    "We want to determine a linear model that is expressed by the following equation \n",
    "\n",
    "$$f = a + bH,$$\n",
    "\n",
    "to approximate the connection between Hormone dosage ($H$) and Fatalities $f$. \n",
    "That is, we want to find $a$ (y-intercept) and $b$ (slope) for this line. First we define the variable $ \n",
    "x = \\left[\n",
    "\\begin{matrix}\n",
    "    a  \\\\\n",
    "    b  \n",
    "\\end{matrix}\n",
    "\\right] \n",
    "$ as the column vector that needs to be solved. Then, we need to convert the overdetermined system of equations $$a + bH_0 = f_0$$ $$a + bH_1 = f_1$$ $$\\vdots$$ $$a + bH_6 = f_6$$ into matrix form $$Ax = y$$.\n",
    "\n",
    "<mark>&#9989;**<font color=red>DO THIS:</font>** Rewrite the system of equations in matrix form $Ax=y$ by defining your ```numpy``` matrices ```A``` and ```y``` using the data from above:</mark>"
   ]
  },
  {
   "cell_type": "code",
   "execution_count": 61,
   "metadata": {},
   "outputs": [
    {
     "data": {
      "text/plain": [
       "array([101, 115,  92,  64,  60,  50,  49])"
      ]
     },
     "execution_count": 61,
     "metadata": {},
     "output_type": "execute_result"
    }
   ],
   "source": [
    "# put your code here\n",
    "\n",
    "A = np.array(f)\n"
   ]
  },
  {
   "cell_type": "code",
   "execution_count": 56,
   "metadata": {},
   "outputs": [
    {
     "name": "stdout",
     "output_type": "stream",
     "text": [
      "\n",
      "CheckWarning: passed variable is <class 'numpy.ndarray'> and not a numpy.matrix...\n",
      "    Trying to convert to a array matrix using ```A = np.matrix(A)```.\n",
      "\n",
      "\n",
      "CheckWarning: passed matrix is int64 and not <class 'numpy.float64'>...\n",
      "    Trying to convert to float using ```A = A.astype(float)```.\n",
      "\n",
      "Testing [[20. 25. 30. 35. 40. 45. 50.]]\n",
      "Answer seems to be incorrect\n",
      "\n"
     ]
    },
    {
     "ename": "AssertionError",
     "evalue": "Answer is incorrect 796471298e8ea401c4486bd0921a06c0",
     "output_type": "error",
     "traceback": [
      "\u001b[0;31m---------------------------------------------------------------------------\u001b[0m",
      "\u001b[0;31mAssertionError\u001b[0m                            Traceback (most recent call last)",
      "\u001b[0;32m<ipython-input-56-534f5bf9c835>\u001b[0m in \u001b[0;36m<module>\u001b[0;34m\u001b[0m\n\u001b[0;32m----> 1\u001b[0;31m \u001b[0mcheckanswer\u001b[0m\u001b[0;34m.\u001b[0m\u001b[0mmatrix\u001b[0m\u001b[0;34m(\u001b[0m\u001b[0mA\u001b[0m\u001b[0;34m,\u001b[0m\u001b[0;34m'50278283443c1d502428e602f0d363db'\u001b[0m\u001b[0;34m)\u001b[0m\u001b[0;34m;\u001b[0m\u001b[0;34m\u001b[0m\u001b[0;34m\u001b[0m\u001b[0m\n\u001b[0m",
      "\u001b[0;32m~/MTH 314/In-Class Assignments/answercheck.py\u001b[0m in \u001b[0;36mmatrix\u001b[0;34m(A, hashtag, decimal_accuracy)\u001b[0m\n\u001b[1;32m    150\u001b[0m         \u001b[0;34m\"\"\"Function to check matrix type before hashing.\"\"\"\u001b[0m\u001b[0;34m\u001b[0m\u001b[0;34m\u001b[0m\u001b[0m\n\u001b[1;32m    151\u001b[0m         \u001b[0mA\u001b[0m \u001b[0;34m=\u001b[0m \u001b[0mcheckanswer\u001b[0m\u001b[0;34m.\u001b[0m\u001b[0mmake_matrix\u001b[0m\u001b[0;34m(\u001b[0m\u001b[0mA\u001b[0m\u001b[0;34m,\u001b[0m \u001b[0mdecimal_accuracy\u001b[0m\u001b[0;34m)\u001b[0m\u001b[0;34m\u001b[0m\u001b[0;34m\u001b[0m\u001b[0m\n\u001b[0;32m--> 152\u001b[0;31m         \u001b[0;32mreturn\u001b[0m \u001b[0mcheckanswer\u001b[0m\u001b[0;34m.\u001b[0m\u001b[0mbasic\u001b[0m\u001b[0;34m(\u001b[0m\u001b[0mA\u001b[0m\u001b[0;34m,\u001b[0m \u001b[0mhashtag\u001b[0m\u001b[0;34m)\u001b[0m\u001b[0;34m\u001b[0m\u001b[0;34m\u001b[0m\u001b[0m\n\u001b[0m\u001b[1;32m    153\u001b[0m \u001b[0;34m\u001b[0m\u001b[0m\n\u001b[1;32m    154\u001b[0m     \u001b[0;31m# TODO: Not complete or tested.\u001b[0m\u001b[0;34m\u001b[0m\u001b[0;34m\u001b[0m\u001b[0;34m\u001b[0m\u001b[0m\n",
      "\u001b[0;32m~/MTH 314/In-Class Assignments/answercheck.py\u001b[0m in \u001b[0;36mbasic\u001b[0;34m(var, hashtag)\u001b[0m\n\u001b[1;32m     48\u001b[0m             \u001b[0;32melse\u001b[0m\u001b[0;34m:\u001b[0m\u001b[0;34m\u001b[0m\u001b[0;34m\u001b[0m\u001b[0m\n\u001b[1;32m     49\u001b[0m                 \u001b[0mprint\u001b[0m\u001b[0;34m(\u001b[0m\u001b[0;34m\"Answer seems to be incorrect\\n\"\u001b[0m\u001b[0;34m)\u001b[0m\u001b[0;34m\u001b[0m\u001b[0;34m\u001b[0m\u001b[0m\n\u001b[0;32m---> 50\u001b[0;31m                 \u001b[0;32massert\u001b[0m \u001b[0mchecktag\u001b[0m \u001b[0;34m==\u001b[0m \u001b[0mhashtag\u001b[0m\u001b[0;34m,\u001b[0m \u001b[0;34mf\"Answer is incorrect {checktag}\"\u001b[0m\u001b[0;34m\u001b[0m\u001b[0;34m\u001b[0m\u001b[0m\n\u001b[0m\u001b[1;32m     51\u001b[0m         \u001b[0;32melse\u001b[0m\u001b[0;34m:\u001b[0m\u001b[0;34m\u001b[0m\u001b[0;34m\u001b[0m\u001b[0m\n\u001b[1;32m     52\u001b[0m             \u001b[0;32mraise\u001b[0m \u001b[0mTypeError\u001b[0m\u001b[0;34m(\u001b[0m\u001b[0;34mf\"No answer hastag provided: {checktag}\"\u001b[0m\u001b[0;34m)\u001b[0m\u001b[0;34m\u001b[0m\u001b[0;34m\u001b[0m\u001b[0m\n",
      "\u001b[0;31mAssertionError\u001b[0m: Answer is incorrect 796471298e8ea401c4486bd0921a06c0"
     ]
    }
   ],
   "source": [
    "checkanswer.matrix(A,'50278283443c1d502428e602f0d363db');"
   ]
  },
  {
   "cell_type": "code",
   "execution_count": 57,
   "metadata": {},
   "outputs": [
    {
     "name": "stdout",
     "output_type": "stream",
     "text": [
      "\n",
      "CheckWarning: passed variable is <class 'list'> and not a numpy.matrix...\n",
      "    Trying to convert to a array matrix using ```A = np.matrix(A)```.\n",
      "\n",
      "\n",
      "CheckWarning: passed matrix is int64 and not <class 'numpy.float64'>...\n",
      "    Trying to convert to float using ```A = A.astype(float)```.\n",
      "\n",
      "Testing [[101. 115.  92.  64.  60.  50.  49.]]\n",
      "Answer seems to be incorrect\n",
      "\n"
     ]
    },
    {
     "ename": "AssertionError",
     "evalue": "Answer is incorrect 2d6c22ed557fd992fe84b8b8baf2001e",
     "output_type": "error",
     "traceback": [
      "\u001b[0;31m---------------------------------------------------------------------------\u001b[0m",
      "\u001b[0;31mAssertionError\u001b[0m                            Traceback (most recent call last)",
      "\u001b[0;32m<ipython-input-57-745cadc0553e>\u001b[0m in \u001b[0;36m<module>\u001b[0;34m\u001b[0m\n\u001b[0;32m----> 1\u001b[0;31m \u001b[0mcheckanswer\u001b[0m\u001b[0;34m.\u001b[0m\u001b[0mmatrix\u001b[0m\u001b[0;34m(\u001b[0m\u001b[0my\u001b[0m\u001b[0;34m,\u001b[0m \u001b[0;34m'37e2ed57a1516fb4a17eb2a3e9e99d2d'\u001b[0m\u001b[0;34m)\u001b[0m\u001b[0;34m;\u001b[0m\u001b[0;34m\u001b[0m\u001b[0;34m\u001b[0m\u001b[0m\n\u001b[0m",
      "\u001b[0;32m~/MTH 314/In-Class Assignments/answercheck.py\u001b[0m in \u001b[0;36mmatrix\u001b[0;34m(A, hashtag, decimal_accuracy)\u001b[0m\n\u001b[1;32m    150\u001b[0m         \u001b[0;34m\"\"\"Function to check matrix type before hashing.\"\"\"\u001b[0m\u001b[0;34m\u001b[0m\u001b[0;34m\u001b[0m\u001b[0m\n\u001b[1;32m    151\u001b[0m         \u001b[0mA\u001b[0m \u001b[0;34m=\u001b[0m \u001b[0mcheckanswer\u001b[0m\u001b[0;34m.\u001b[0m\u001b[0mmake_matrix\u001b[0m\u001b[0;34m(\u001b[0m\u001b[0mA\u001b[0m\u001b[0;34m,\u001b[0m \u001b[0mdecimal_accuracy\u001b[0m\u001b[0;34m)\u001b[0m\u001b[0;34m\u001b[0m\u001b[0;34m\u001b[0m\u001b[0m\n\u001b[0;32m--> 152\u001b[0;31m         \u001b[0;32mreturn\u001b[0m \u001b[0mcheckanswer\u001b[0m\u001b[0;34m.\u001b[0m\u001b[0mbasic\u001b[0m\u001b[0;34m(\u001b[0m\u001b[0mA\u001b[0m\u001b[0;34m,\u001b[0m \u001b[0mhashtag\u001b[0m\u001b[0;34m)\u001b[0m\u001b[0;34m\u001b[0m\u001b[0;34m\u001b[0m\u001b[0m\n\u001b[0m\u001b[1;32m    153\u001b[0m \u001b[0;34m\u001b[0m\u001b[0m\n\u001b[1;32m    154\u001b[0m     \u001b[0;31m# TODO: Not complete or tested.\u001b[0m\u001b[0;34m\u001b[0m\u001b[0;34m\u001b[0m\u001b[0;34m\u001b[0m\u001b[0m\n",
      "\u001b[0;32m~/MTH 314/In-Class Assignments/answercheck.py\u001b[0m in \u001b[0;36mbasic\u001b[0;34m(var, hashtag)\u001b[0m\n\u001b[1;32m     48\u001b[0m             \u001b[0;32melse\u001b[0m\u001b[0;34m:\u001b[0m\u001b[0;34m\u001b[0m\u001b[0;34m\u001b[0m\u001b[0m\n\u001b[1;32m     49\u001b[0m                 \u001b[0mprint\u001b[0m\u001b[0;34m(\u001b[0m\u001b[0;34m\"Answer seems to be incorrect\\n\"\u001b[0m\u001b[0;34m)\u001b[0m\u001b[0;34m\u001b[0m\u001b[0;34m\u001b[0m\u001b[0m\n\u001b[0;32m---> 50\u001b[0;31m                 \u001b[0;32massert\u001b[0m \u001b[0mchecktag\u001b[0m \u001b[0;34m==\u001b[0m \u001b[0mhashtag\u001b[0m\u001b[0;34m,\u001b[0m \u001b[0;34mf\"Answer is incorrect {checktag}\"\u001b[0m\u001b[0;34m\u001b[0m\u001b[0;34m\u001b[0m\u001b[0m\n\u001b[0m\u001b[1;32m     51\u001b[0m         \u001b[0;32melse\u001b[0m\u001b[0;34m:\u001b[0m\u001b[0;34m\u001b[0m\u001b[0;34m\u001b[0m\u001b[0m\n\u001b[1;32m     52\u001b[0m             \u001b[0;32mraise\u001b[0m \u001b[0mTypeError\u001b[0m\u001b[0;34m(\u001b[0m\u001b[0;34mf\"No answer hastag provided: {checktag}\"\u001b[0m\u001b[0;34m)\u001b[0m\u001b[0;34m\u001b[0m\u001b[0;34m\u001b[0m\u001b[0m\n",
      "\u001b[0;31mAssertionError\u001b[0m: Answer is incorrect 2d6c22ed557fd992fe84b8b8baf2001e"
     ]
    }
   ],
   "source": [
    "checkanswer.matrix(y, '37e2ed57a1516fb4a17eb2a3e9e99d2d');"
   ]
  },
  {
   "cell_type": "markdown",
   "metadata": {},
   "source": [
    "<mark>&#9989; **<font color=red>QUESTION:</font>** Calculate the square matrix $A^\\top A$ (Call it ```AtA```) and the modified right hand side vector as $A^\\top y$ (Call it ```Aty```):</mark>"
   ]
  },
  {
   "cell_type": "code",
   "execution_count": null,
   "metadata": {},
   "outputs": [],
   "source": [
    "#Put your code here\n",
    "# AtA=\n",
    "# Aty="
   ]
  },
  {
   "cell_type": "code",
   "execution_count": null,
   "metadata": {},
   "outputs": [],
   "source": [
    "checkanswer.matrix(AtA,'3f579409e55e9cc409bc727c35e09c74');"
   ]
  },
  {
   "cell_type": "code",
   "execution_count": null,
   "metadata": {
    "scrolled": true
   },
   "outputs": [],
   "source": [
    "checkanswer.matrix(Aty,'1dec77018852144a8b90600161c8bff6');"
   ]
  },
  {
   "cell_type": "markdown",
   "metadata": {},
   "source": [
    "<mark>&#9989;**<font color=red>QUESTION:</font>** Find the *least squares solution* by solving $A^\\top Ax=A^\\top y$ for $x$.</mark>"
   ]
  },
  {
   "cell_type": "code",
   "execution_count": null,
   "metadata": {},
   "outputs": [],
   "source": [
    "# Put your code here\n",
    "# x="
   ]
  },
  {
   "cell_type": "code",
   "execution_count": null,
   "metadata": {},
   "outputs": [],
   "source": [
    "checkanswer.matrix(x,'3213b988975659ed46496a07542eff33');"
   ]
  },
  {
   "cell_type": "markdown",
   "metadata": {},
   "source": [
    "<mark>&#9989;**<font color=red>QUESTION:</font>** Given the solution above, define the two scalars y-intercept ```a``` and slope ```b```.</mark>"
   ]
  },
  {
   "cell_type": "code",
   "execution_count": null,
   "metadata": {},
   "outputs": [],
   "source": [
    "#put your code here\n",
    "#a=\n",
    "#b="
   ]
  },
  {
   "cell_type": "code",
   "execution_count": null,
   "metadata": {
    "scrolled": true
   },
   "outputs": [],
   "source": [
    "checkanswer.float(a,'87e53cb122536f53f434cdbccf0aca94');"
   ]
  },
  {
   "cell_type": "code",
   "execution_count": null,
   "metadata": {
    "scrolled": true
   },
   "outputs": [],
   "source": [
    "checkanswer.float(b,'f7dfa5a5ed0f65f0e0a87f29efd9cd74');"
   ]
  },
  {
   "cell_type": "markdown",
   "metadata": {},
   "source": [
    "The following code will plot the original data and the linear model whose coefficients we found by performing a least squares fit."
   ]
  },
  {
   "cell_type": "code",
   "execution_count": null,
   "metadata": {},
   "outputs": [],
   "source": [
    "H = [20,25,30,35,40,45,50]\n",
    "f = [101,115, 92,64,60,50,49]\n",
    "plt.scatter(H,f)\n",
    "\n",
    "H2 = np.linspace(np.min(H), np.max(H))\n",
    "\n",
    "f2 = a + b*H2\n",
    "\n",
    "plt.plot(H2, f2)\n"
   ]
  },
  {
   "cell_type": "markdown",
   "metadata": {},
   "source": [
    "<mark>&#9989;**<font color=red>QUESTION:</font>** Now, let's fit a quadratic model instead of a linear model to our data, i.e. $$a + bH + c H^2 = f$$ </mark>\n",
    "\n",
    "To do this, the vector of unknowns is now $x = \\begin{bmatrix}a\\\\b\\\\c\\end{bmatrix}$, and the overdetermined system of equations is $$a + bH_0 + cH_0^2 = f_0$$ $$a + bH_1 + cH_1^2 = f_1$$ $$\\vdots$$ $$a + bH_6 + cH_6^2= f_6$$\n",
    "\n",
    "Again, put this system of equations into matrix form $Ax = y$, solve $A^\\top Ax = A^\\top y$ to find the least squares solution for $x$, and then extract the coefficients $a$, $b$, and $c$ for your model."
   ]
  },
  {
   "cell_type": "code",
   "execution_count": null,
   "metadata": {},
   "outputs": [],
   "source": [
    "# put your code here"
   ]
  },
  {
   "cell_type": "code",
   "execution_count": null,
   "metadata": {},
   "outputs": [],
   "source": [
    "checkanswer.float(a,'8acc26f9f9da4edfa44529a811ebb8a9')"
   ]
  },
  {
   "cell_type": "code",
   "execution_count": null,
   "metadata": {},
   "outputs": [],
   "source": [
    "checkanswer.float(b,'b1e317387458d5471bd7cec94e4959fa')"
   ]
  },
  {
   "cell_type": "code",
   "execution_count": null,
   "metadata": {},
   "outputs": [],
   "source": [
    "checkanswer.float(c,'451fd8dc5a793f8483160363b42fa8cd')"
   ]
  },
  {
   "cell_type": "markdown",
   "metadata": {},
   "source": [
    "<mark>&#9989;**<font color=red>QUESTION:</font>** Now, plot the original data along with the curve for the quadratic model $f = a+bH+cH^2$ whose coefficients we found by performing the least squares fit. </mark>"
   ]
  },
  {
   "cell_type": "code",
   "execution_count": null,
   "metadata": {},
   "outputs": [],
   "source": [
    "# put your code here"
   ]
  },
  {
   "cell_type": "markdown",
   "metadata": {},
   "source": [
    "<mark>&#9989;**<font color=red>QUESTION:</font>** Now, see if you can generalize your code above to fit a degree-$d$ polynomial model $$x_0 + x_1H + x_2H^2 + \\cdots + x_dH^d = f$$ for some coefficients $x_0,x_1,x_2,\\ldots,x_d$, where $3 \\le d \\le 6$. Again, you should first put the system of equations into matrix form, then find the least squares solution, and finally make a plot showing the original data and the curve for the polynomial model."
   ]
  },
  {
   "cell_type": "code",
   "execution_count": null,
   "metadata": {},
   "outputs": [],
   "source": [
    "# put your code here\n",
    "\n",
    "d = 3 # Set d to be 3, 4, 5, or 6\n",
    "\n",
    "# Form a len(H)x(d+1) matrix A whose entries are A[i,j] = H[i]**j\n",
    "\n",
    "# Solve Ax = y using least squares\n",
    "\n",
    "# Plot the original data points along with the curve for the polynomial model"
   ]
  },
  {
   "cell_type": "markdown",
   "metadata": {},
   "source": [
    "<mark>&#9989;**<font color=red>QUESTION:</font>** The interactive function below allows you to adjust the degree of the polynomial model as well as the limits of the $x$-axis in the plot. Play with the interactive function below by adjusting the degree of the least-squares fit approximation and extending the `x_min` and `x_max` parameters. Do you think that an eighth-order polynomial is a good model for this dataset? Why or why not?</mark>"
   ]
  },
  {
   "cell_type": "code",
   "execution_count": null,
   "metadata": {},
   "outputs": [],
   "source": [
    "from ipywidgets import interact, fixed\n",
    "import ipywidgets as widgets\n",
    "\n",
    "@interact(x=fixed(H), y=fixed(f), degree=widgets.IntSlider(min=1, max=8, step=1, value=8), x_min=widgets.IntSlider(min=min(H)-10, max=min(H), step=1, value=min(H)), x_max=widgets.IntSlider(min=max(H), max=max(H)+10, step=1, value=max(H)))\n",
    "def graphPolyN(x, y, x_min, x_max, degree):\n",
    "    p = np.polyfit(x, y, degree)\n",
    "    f = np.poly1d(p)\n",
    "    \n",
    "    x_pred = np.linspace(x_min, x_max, 1000)\n",
    "    y_pred = f(x_pred)\n",
    "    \n",
    "    plt.scatter(x, y, color=\"red\")\n",
    "    plt.plot(x_pred, y_pred)\n",
    "    "
   ]
  },
  {
   "cell_type": "markdown",
   "metadata": {},
   "source": [
    "Put your answer to the above question here"
   ]
  },
  {
   "cell_type": "markdown",
   "metadata": {},
   "source": [
    "----\n",
    "<a name=\"Pseudoinverse\"></a>\n",
    "## 3. Pseudoinverse\n",
    "\n",
    "In this class we often talk about solving problems of the form:\n",
    "\n",
    "$$Ax = b$$\n",
    "\n",
    "Currently we have determined that this problem becomes very nice when the $n \\times n$ matrix $A$ has an inverse. We can easily multiply each side by the inverse:\n",
    "\n",
    "$$A^{-1}Ax = A^{-1}b$$\n",
    "\n",
    "Since $A^{-1}A = I$ the solution for $x$ is simply:\n",
    "\n",
    "$$x = A^{-1}b$$\n",
    "\n",
    "Now, let us consider a a more general problem where the $m \\times n$ matrix $A$ is not square, i.e. $m \\neq n$ and its rank $r$ maybe less than $m$ and/or $n$.  In this case we want to find a Pseudoinverse (which we denote as $A^+$) which acts like an inverse for a non-square matrix. In other words we want to find an $A^+$ for $A$ such that:\n",
    "\n",
    "$$A^+A \\approx I$$\n",
    "\n",
    "Assuming we can find the $n \\times m$ matrix $A^+$, we should then be able to solve for $x$ as follows:\n",
    "\n",
    "$$Ax = b$$\n",
    "$$A^+Ax = A^+b$$\n",
    "$$x \\approx A^+b$$\n",
    "\n",
    "### How do we know there is a Psudoinverse\n",
    "Assuming the general case of a $m\\times n$ matrix $A$ where its rank $r$ maybe less than $m$ and/or $n$ ($r\\leq m$ and $r\\leq n$). We can conclude the following about the fundamental spaces of $A$:\n",
    "- The rowspace of $A$ is in $R^n$ with dimension $r$ \n",
    "- The columnspace of $A$ is in $R^m$ also with dimension $r$.\n",
    "- The nullspace of $A$ is in $R^n$ with dimension $n-r$\n",
    "- The nullspace of $A^T$ is in $R^m$ with dimension $m-r$.\n",
    "\n",
    "Because the rowspace of $A$ and the column space $A$ have the same dimension then $A$ is a the one-to-one mapping from the row space to the columnspace. In other words:\n",
    "- For any $x$ in the rowspace, we have that $Ax$ is one point in the columnspace. If $x'$ is another point in the row space different from $x$, we have $Ax\\neq Ax'$ (The mapping is one-to-one). \n",
    "- For any $y$ in the columnspace, we can find $x$ in the rowspace such that $Ax=y$ (The mapping is onto). \n",
    "\n",
    "The above is not really a proof but hopefully there is sufficient information to convince yourself that this is true. "
   ]
  },
  {
   "cell_type": "markdown",
   "metadata": {},
   "source": [
    "### How to compute pseudoinverse\n",
    "We want to find the $n\\times m$ matrix that maps from columnspace to the rowspace of $A$, and $x=A^+Ax,$ if $x$ is in the rowspace. \n",
    "\n",
    "+ Let's apply SVD on $A$: $$A= U\\Sigma V^\\top,$$\n",
    "where $U$ is a $m\\times m$ matrix, $V^\\top$ is a $n\\times n$ matrix, and $\\Sigma$ is a diagonal $m\\times n$ matrix. \n",
    "We can decompose the matrices as \n",
    "$$A = \\begin{bmatrix}\\vdots & \\vdots \\\\ U_1 & U_2 \\\\ \\vdots &\\vdots\\end{bmatrix} \\begin{bmatrix}\\Sigma_1 & 0 \\\\ 0 & 0\\end{bmatrix}  \\begin{bmatrix}\\cdots & V_1^\\top & \\cdots \\\\ \\cdots & V_2^\\top &\\cdots \\end{bmatrix}.$$\n",
    "Here $U_1$ is of $m\\times r$, $U_2$ is of $m\\times (m-r)$, $\\Sigma_1$ is of $r\\times r$, $V_1^\\top$ is of $r\\times n$, and $V_2^\\top$ is of $(n-r)\\times n$. \n",
    "    + The columnspace of $U_1$ is the columnspace of $A$, and columnspace of $U_2$ is the nullspace of $A^\\top$. \n",
    "    + The rowspace of $V_1$ is the rowspace of $A$, and rowspae of $V_2$ is the nullspace of $A$.\n",
    "\n",
    "+ If $x$ is in the rowspace of $A$, we have that $V_2^\\top x=0$. We have $Ax = U_1\\Sigma_1 V_1^\\top x$.\n",
    "    + If we define a matrix $B=V_1\\Sigma_1^{-1}U_1^\\top$, we have that $BAx=V_1\\Sigma_1^{-1}U_1^\\top U_1\\Sigma_1 V_1^\\top x=V_1V_1^\\top x$. That is $BAx=x$ is $x$ is in the rowspace of $A$. \n",
    "    \n",
    "+ The matrix $B$ is the pseudoinverse of matrix $A$. \n",
    "$$A^+ = V_1\\Sigma_1^{-1}U_1^\\top$$\n",
    "$$A^+ = \\begin{bmatrix}\\vdots & \\vdots \\\\ V_1 & V_2 \\\\ \\vdots &\\vdots\\end{bmatrix} \\begin{bmatrix}\\Sigma_1^{-1} & 0 \\\\ 0 & 0\\end{bmatrix}  \\begin{bmatrix}\\cdots & U_1^\\top & \\cdots \\\\ \\cdots & U_2^\\top &\\cdots \\end{bmatrix}.$$"
   ]
  },
  {
   "cell_type": "markdown",
   "metadata": {},
   "source": [
    "**Example 1:** Let $$A=\\begin{bmatrix}1 & 0 & 1\\\\ 1 & 2 & 3\\end{bmatrix}$$\n",
    "we know that \n",
    "$r=m=2$ and $n=3$."
   ]
  },
  {
   "cell_type": "code",
   "execution_count": null,
   "metadata": {},
   "outputs": [],
   "source": [
    "A = np.matrix([[1,0,1],[1,2,3]])"
   ]
  },
  {
   "cell_type": "markdown",
   "metadata": {},
   "source": [
    "<mark>&#9989;**<font color=red>TODO:</font>**  Calculate the pseudoinverse $A^+$ of $A$ using the ```numpy.linalg``` function ```pinv```:</mark>"
   ]
  },
  {
   "cell_type": "code",
   "execution_count": null,
   "metadata": {},
   "outputs": [],
   "source": [
    "# put your code here\n",
    "# Apinv="
   ]
  },
  {
   "cell_type": "code",
   "execution_count": null,
   "metadata": {},
   "outputs": [],
   "source": [
    "checkanswer.matrix(Apinv,'7724dc0d898980cb5a80dac73bfa7aa7');"
   ]
  },
  {
   "cell_type": "markdown",
   "metadata": {},
   "source": [
    "<mark>&#9989;**<font color=red>DO THIS:</font>**  Compute $AA^+$ and $A^+A$</mark>"
   ]
  },
  {
   "cell_type": "code",
   "execution_count": null,
   "metadata": {},
   "outputs": [],
   "source": [
    "#put your code here"
   ]
  },
  {
   "cell_type": "markdown",
   "metadata": {},
   "source": [
    "<mark>&#9989;**<font color=red>QUESTION:</font>** If $x$ is in the nullspace of $A$ what is the effect of $A^+Ax$?</mark>"
   ]
  },
  {
   "cell_type": "markdown",
   "metadata": {},
   "source": [
    "Put your answer to the above question here"
   ]
  },
  {
   "cell_type": "markdown",
   "metadata": {},
   "source": [
    "<mark>&#9989;**<font color=red>QUESTION:</font>**  If $x$ is in the rowspace of $A$ what is the effect of $A^+Ax$?</mark>"
   ]
  },
  {
   "cell_type": "markdown",
   "metadata": {},
   "source": [
    "Put your answer to the above question here"
   ]
  },
  {
   "cell_type": "markdown",
   "metadata": {},
   "source": [
    "### Left inverse is pseudoinverse\n",
    "\n",
    "We can compute the left inverse of $A$ if $r=n\\leq m$. In this case, we may have more rows than columns, and the matrix $A$ has full column rank. \n",
    "\n",
    "In this case, the SVD of $A$ is \n",
    "$$A = U\\Sigma V^\\top   .$$\n",
    "Here $U$ is of $m\\times n$, $\\Sigma$ is of $n\\times n$ and nonsingular, $V^\\top$ is of $n\\times n$. \n",
    "The pseudoinverse of $A$ is $$A^+ = V\\Sigma^{-1}U^\\top$$\n",
    "\n",
    "The left inverse of $A$ is \n",
    "$$(A^\\top A)^{-1}A^\\top= (V\\Sigma U^\\top U\\Sigma V^\\top  )^{-1} V\\Sigma U^\\top = V(\\Sigma \\Sigma )^{-1} V^\\top V\\Sigma U^\\top =  V\\Sigma ^{-1} U^\\top =A^+$$"
   ]
  },
  {
   "cell_type": "markdown",
   "metadata": {},
   "source": [
    "**Example 2:** Let $$A=\\begin{bmatrix}1 & 1 \\\\ 0 & 2 \\\\ 1 & 3\\end{bmatrix}$$\n",
    "we know that \n",
    "$r=n=2$ and $m=3$."
   ]
  },
  {
   "cell_type": "code",
   "execution_count": null,
   "metadata": {},
   "outputs": [],
   "source": [
    "A = np.matrix([[1,1],[0,2],[1,3]])\n",
    "A"
   ]
  },
  {
   "cell_type": "markdown",
   "metadata": {},
   "source": [
    "<mark>&#9989;**<font color=red>DO THIS:</font>** Calculate the pseudoinverse $A^+$ of $A$.</mark>"
   ]
  },
  {
   "cell_type": "code",
   "execution_count": null,
   "metadata": {},
   "outputs": [],
   "source": [
    "#Put your answer here\n",
    "# pInv_A = "
   ]
  },
  {
   "cell_type": "code",
   "execution_count": null,
   "metadata": {},
   "outputs": [],
   "source": [
    "checkanswer.matrix(pInv_A,'fda9d63c9e6cdc7bdb2acc57c4bdf490');"
   ]
  },
  {
   "cell_type": "markdown",
   "metadata": {},
   "source": [
    "<mark>&#9989;**<font color=red>DO THIS:</font>**  Calculate the left inverse of $A$, and verify that it is the same as $A^+$.</mark>"
   ]
  },
  {
   "cell_type": "code",
   "execution_count": null,
   "metadata": {},
   "outputs": [],
   "source": [
    "#Put your anaswer here\n",
    "# leftInv_A = "
   ]
  },
  {
   "cell_type": "code",
   "execution_count": null,
   "metadata": {},
   "outputs": [],
   "source": [
    "checkanswer.matrix(leftInv_A,'fda9d63c9e6cdc7bdb2acc57c4bdf490');"
   ]
  },
  {
   "cell_type": "markdown",
   "metadata": {},
   "source": [
    "----\n",
    "\n",
    "Written by Dr. Dirk Colbry with interactive code David Yonkers, Michigan State University. Some modifications by Dr. Santhosh Karnik, Michigan State University\n",
    "<a rel=\"license\" href=\"http://creativecommons.org/licenses/by-nc/4.0/\"><img alt=\"Creative Commons License\" style=\"border-width:0\" src=\"https://i.creativecommons.org/l/by-nc/4.0/88x31.png\" /></a><br />This work is licensed under a <a rel=\"license\" href=\"http://creativecommons.org/licenses/by-nc/4.0/\">Creative Commons Attribution-NonCommercial 4.0 International License</a>."
   ]
  }
 ],
 "metadata": {
  "kernelspec": {
   "display_name": "Python 3",
   "language": "python",
   "name": "python3"
  },
  "language_info": {
   "codemirror_mode": {
    "name": "ipython",
    "version": 3
   },
   "file_extension": ".py",
   "mimetype": "text/x-python",
   "name": "python",
   "nbconvert_exporter": "python",
   "pygments_lexer": "ipython3",
   "version": "3.8.8"
  }
 },
 "nbformat": 4,
 "nbformat_minor": 4
}
