{
 "cells": [
  {
   "cell_type": "markdown",
   "metadata": {},
   "source": [
    "# 09 In-Class Assignment: Determinants\n",
    "\n",
    "![Depiction of Cramer's Rule with two equations and two variables](https://i.imgur.com/3txKM4R.jpg \"Depiction of Cramer's Rule with two equations and two variables\")\n",
    " \n",
    " <div style=\"text-align: center\">Image from: <a href=\"http://www.mathnstuff.com/\" target=\"_blank\">http://www.mathnstuff.com/</a>  </div>\n",
    " "
   ]
  },
  {
   "cell_type": "markdown",
   "metadata": {},
   "source": [
    "### Agenda for today's class (80 minutes)\n",
    "\n",
    "1. [(20 minutes) Review Pre-class Assignment](#Review_Pre-class_Assignment)\n",
    "1. [(30 minutes) Algorithm to calculate the determinant](#Algorithm_to_calculate_the_determinant)\n",
    "1. [(30 minutes) Using Cramer's rule to solve $Ax=b$](#Using_Cramers_rule)\n"
   ]
  },
  {
   "cell_type": "markdown",
   "metadata": {},
   "source": [
    "----\n",
    "\n",
    "<a name=\"Review_Pre-class_Assignment\"></a>\n",
    "## 1. Review Pre-class Assignment\n",
    "\n",
    "* [09--Determinants_pre-class-assignment.ipynb](09--Determinants_pre-class-assignment.ipynb)"
   ]
  },
  {
   "cell_type": "markdown",
   "metadata": {},
   "source": [
    "---\n",
    "<a name=\"Algorithm_to_calculate_the_determinant\"></a>\n",
    "## 2. Algorithm to calculate the determinant\n",
    "Consider the following recursive algorithm (algorithm that calls itself) to determine the determinate of a $n\\times n$ matrix $A$ (denoted $|A|$), which is the sum of the products of the elements of any row or column. i.e.:\n",
    "\n",
    "$$i^{th}\\text{ row expansion:     } |A| = a_{i1}C_{i1} + a_{i2}C_{i2} + \\ldots + a_{in}C_{in} $$\n",
    "$$j^{th}\\text{ column expansion:     } |A| = a_{1j}C_{1j} + a_{2j}C_{2j} + \\ldots + a_{nj}C_{nj} $$\n",
    "\n",
    "where $C_{ij}$ is the cofactor of $a_{ij}$ and is given by:\n",
    "\n",
    "$$ C_{ij} = (-1)^{i+j}|M_{ij}|$$\n",
    "\n",
    "and $M_{ij}$ is the matrix that remains after deleting row $i$ and column $j$ of $A$.\n",
    "\n",
    "Here is some code that tries to implement this algorithm.  "
   ]
  },
  {
   "cell_type": "code",
   "execution_count": 1,
   "metadata": {},
   "outputs": [],
   "source": [
    "## Import our standard packages packages\n",
    "%matplotlib inline\n",
    "import numpy as np\n",
    "import matplotlib.pyplot as plt\n",
    "import sympy as sym\n",
    "sym.init_printing(use_unicode=True)"
   ]
  },
  {
   "cell_type": "code",
   "execution_count": 2,
   "metadata": {},
   "outputs": [],
   "source": [
    "import copy\n",
    "import random\n",
    "\n",
    "def makeM(A,i,j):\n",
    "    ''' Deletes the ith row and jth column from A'''\n",
    "    M = copy.deepcopy(A)\n",
    "    del M[i]\n",
    "    for k in range(len(M)):\n",
    "        del M[k][j]\n",
    "    return M\n",
    "\n",
    "def mydet(A):\n",
    "    '''Calculate the determinant from list-of-lists matrix A'''\n",
    "    if type(A) == np.matrix:\n",
    "        A = A.tolist()   \n",
    "    n = len(A)\n",
    "    if n == 2:\n",
    "        det = (A[0][0]*A[1][1] - A[1][0]*A[0][1]) \n",
    "        return det\n",
    "    det = 0\n",
    "    i = 0\n",
    "    for j in range(n):\n",
    "        M = makeM(A,i,j)\n",
    "        \n",
    "        #Calculate the determinant\n",
    "        det += (A[i][j] * ((-1)**(i+j+2)) * mydet(M))\n",
    "    return det"
   ]
  },
  {
   "cell_type": "markdown",
   "metadata": {},
   "source": [
    "The following code generates an $n \\times n$ matrix with random values from 0 to 10.  \n",
    "Run the code multiple times to get different matrices:"
   ]
  },
  {
   "cell_type": "code",
   "execution_count": 12,
   "metadata": {},
   "outputs": [
    {
     "data": {
      "text/latex": [
       "$\\displaystyle \\left[\\begin{matrix}2 & 10 & 9 & 3 & 6\\\\8 & 6 & 1 & 7 & 1\\\\5 & 8 & 7 & 1 & 9\\\\7 & 8 & 8 & 5 & 1\\\\5 & 10 & 9 & 2 & 9\\end{matrix}\\right]$"
      ],
      "text/plain": [
       "⎡2  10  9  3  6⎤\n",
       "⎢              ⎥\n",
       "⎢8  6   1  7  1⎥\n",
       "⎢              ⎥\n",
       "⎢5  8   7  1  9⎥\n",
       "⎢              ⎥\n",
       "⎢7  8   8  5  1⎥\n",
       "⎢              ⎥\n",
       "⎣5  10  9  2  9⎦"
      ]
     },
     "execution_count": 12,
     "metadata": {},
     "output_type": "execute_result"
    }
   ],
   "source": [
    "#generate Random Matrix and calculate it's determinant using numpy\n",
    "n = 5\n",
    "s = 10\n",
    "A = [[round(random.random()*s) for i in range(n)] for j in range(n)]\n",
    "A = np.matrix(A)\n",
    "#print matrix\n",
    "sym.Matrix(A)\n"
   ]
  },
  {
   "cell_type": "markdown",
   "metadata": {},
   "source": [
    "&#9989; **<font color='red'>DO THIS:</font>** Use the randomly generated matrix ($A$) to test the above ```mydet``` function and compare your result to the ```numpy.linalg.det``` function."
   ]
  },
  {
   "cell_type": "code",
   "execution_count": 13,
   "metadata": {},
   "outputs": [
    {
     "data": {
      "image/png": "[encoded data removed]",
      "text/latex": [
       "$\\displaystyle 60$"
      ],
      "text/plain": [
       "60"
      ]
     },
     "execution_count": 13,
     "metadata": {},
     "output_type": "execute_result"
    }
   ],
   "source": [
    "# Put your test code here\n",
    "mydet(A)"
   ]
  },
  {
   "cell_type": "code",
   "execution_count": 14,
   "metadata": {},
   "outputs": [
    {
     "data": {
      "image/png": "[encoded data removed]",
      "text/latex": [
       "$\\displaystyle 59.9999999999999$"
      ],
      "text/plain": [
       "59.99999999999993"
      ]
     },
     "execution_count": 14,
     "metadata": {},
     "output_type": "execute_result"
    }
   ],
   "source": [
    "np.linalg.det(A)"
   ]
  },
  {
   "cell_type": "markdown",
   "metadata": {},
   "source": [
    "&#9989; **<font color=red>QUESTION:</font>** Are the answers to ```mydet``` and ```numpuy.linalg.det``` exactly the same every time you generate a different random matrix?  If not, explain why."
   ]
  },
  {
   "cell_type": "markdown",
   "metadata": {},
   "source": [
    "Yes they are the same, give or take one decimal place (likely due to a rounding error)"
   ]
  },
  {
   "cell_type": "markdown",
   "metadata": {},
   "source": [
    "&#9989; **<font color=red>QUESTION:</font>** On line 26 of the above code, you can see that algorithm calls itself.  Explain why this doesn't run forever."
   ]
  },
  {
   "cell_type": "markdown",
   "metadata": {},
   "source": [
    "Because we have a base case to prevent it from infinitely recursing on itself"
   ]
  },
  {
   "cell_type": "markdown",
   "metadata": {},
   "source": [
    "---\n",
    "\n",
    "<a name=\"Using_Cramers_rule\"></a>\n",
    "## 3. Using Cramer's rule to solve $Ax=b$\n",
    "\n",
    "Let $Ax = b$ be a system of $n$ linear equations in $n$ variables such that $|A| \\neq 0$. The system has a unique solution given by:\n",
    "\n",
    "$$x_1 = \\frac{|A_1|}{|A|}, x_2 = \\frac{|A_2|}{|A|}, \\ldots,  x_n = \\frac{|A_n|}{|A|}$$\n",
    "\n",
    "where $A_i$ is the matrix obtained by replacing column $i$ of $A$ with $b$. The following function generates $A_i$ by replacing the $i$th column of $A$ with $b$:"
   ]
  },
  {
   "cell_type": "code",
   "execution_count": 15,
   "metadata": {},
   "outputs": [],
   "source": [
    "def makeAi(A,i,b):\n",
    "    '''Replace the ith column in A with b'''\n",
    "    if type(A) == np.matrix:\n",
    "        A = A.tolist()\n",
    "    if type(b) == np.matrix:\n",
    "        b = b.tolist()\n",
    "    Ai = copy.deepcopy(A)\n",
    "    for j in range(len(Ai)):\n",
    "        Ai[j][i] = b[j][0]\n",
    "    return Ai"
   ]
  },
  {
   "cell_type": "markdown",
   "metadata": {},
   "source": [
    "&#9989; **<font color=red>DO THIS:</font>** Create a new function called ```cramersRule```, which takes $A$ and $b$ and returns $x$ using the Cramer's rule. **Note:** Use ```numpy``` and NOT ```mydet``` to find the required determinants. ```mydet``` is too slow. "
   ]
  },
  {
   "cell_type": "code",
   "execution_count": 51,
   "metadata": {},
   "outputs": [],
   "source": [
    "# Stub code. Replace the np.linalg.solve code with your answer\n",
    "def cramersRule(A,b):\n",
    "    detA = np.linalg.det(A)\n",
    "    x = []    \n",
    "    #####Start of your code here##### \n",
    "    for i in range(len(A)):\n",
    "        new = makeAi(A,i,b)\n",
    "        \n",
    "        stuff = np.linalg.det(new)\n",
    "        \n",
    "        val = stuff/detA\n",
    "        \n",
    "        x.append(val)\n",
    "    #####End of your code here#####  \n",
    "    \n",
    "    return x"
   ]
  },
  {
   "cell_type": "markdown",
   "metadata": {},
   "source": [
    "&#9989; **<font color=red>QUESTION:</font>** Test your ```cramersRule``` function on the following system of linear equations:\n",
    "\n",
    "$$ x_1 + 2x_2 = 3$$\n",
    "$$3x_1 + x_2 = -1$$"
   ]
  },
  {
   "cell_type": "code",
   "execution_count": 52,
   "metadata": {},
   "outputs": [
    {
     "data": {
      "image/png": "[encoded data removed]",
      "text/latex": [
       "$\\displaystyle \\left[ -1.0, \\  2.0\\right]$"
      ],
      "text/plain": [
       "[-1.0, 2.0]"
      ]
     },
     "execution_count": 52,
     "metadata": {},
     "output_type": "execute_result"
    }
   ],
   "source": [
    "#Put your answer to the above quesiton here\n",
    "A = np.array([[1,2],[3,1]])\n",
    "b = np.array([[3],[-1]])\n",
    "\n",
    "cramersRule(A,b)"
   ]
  },
  {
   "cell_type": "markdown",
   "metadata": {},
   "source": [
    "&#9989; **<font color=red>QUESTION:</font>** Verify the above answer by using the ```np.linalg.solve``` function:"
   ]
  },
  {
   "cell_type": "code",
   "execution_count": 53,
   "metadata": {},
   "outputs": [
    {
     "data": {
      "text/plain": [
       "array([[-1.],\n",
       "       [ 2.]])"
      ]
     },
     "execution_count": 53,
     "metadata": {},
     "output_type": "execute_result"
    }
   ],
   "source": [
    "#Put your answer to the above quesiton here\n",
    "np.linalg.solve(A,b)"
   ]
  },
  {
   "cell_type": "markdown",
   "metadata": {},
   "source": [
    "&#9989; **<font color=red>QUESTION:</font>** Test your ```cramersRule``` function on the following system of linear equations and verify the answer by using the ```np.linalg.solve``` function: \n",
    "\n",
    "$$ x_1 + 2x_2 +x_3 = 9$$\n",
    "$$ x_1 + 3x_2 - x_3 = 4$$\n",
    "$$ x_1 + 4x_2 - x_3 = 7$$"
   ]
  },
  {
   "cell_type": "code",
   "execution_count": 54,
   "metadata": {},
   "outputs": [
    {
     "data": {
      "image/png": "[encoded data removed]",
      "text/latex": [
       "$\\displaystyle \\left[ -0.999999999999999, \\  3.0, \\  4.0\\right]$"
      ],
      "text/plain": [
       "[-0.9999999999999992, 3.0, 3.999999999999999]"
      ]
     },
     "execution_count": 54,
     "metadata": {},
     "output_type": "execute_result"
    }
   ],
   "source": [
    "#Put your answer to the above quesiton here\n",
    "\n",
    "A = np.array([[1,2,1],[1,3,-1],[1,4,-1]])\n",
    "b = np.array([[9],[4],[7]])\n",
    "\n",
    "cramersRule(A,b)"
   ]
  },
  {
   "cell_type": "code",
   "execution_count": 55,
   "metadata": {},
   "outputs": [
    {
     "data": {
      "text/plain": [
       "array([[-1.],\n",
       "       [ 3.],\n",
       "       [ 4.]])"
      ]
     },
     "execution_count": 55,
     "metadata": {},
     "output_type": "execute_result"
    }
   ],
   "source": [
    "np.linalg.solve(A,b)"
   ]
  },
  {
   "cell_type": "markdown",
   "metadata": {},
   "source": [
    "&#9989; **<font color=red>QUESTION:</font>** Cramer's rule is a $O(n!)$ algorithm and the Gauss-Jordan (or Gaussian) elimination is $O(n^3)$.  What advantages does Cramer's rule have over elimination?"
   ]
  },
  {
   "cell_type": "markdown",
   "metadata": {},
   "source": [
    "It depends on the input\n",
    "\n",
    "Cramers rule is better for smaller inputs, but eventually Cramers rule would grow to be worse than Gauss-Jordan as the input size increases\n",
    "\n",
    "(Thanks CSE 331)"
   ]
  },
  {
   "cell_type": "markdown",
   "metadata": {},
   "source": [
    "----\n",
    "\n",
    "Written by Dr. Dirk Colbry, Michigan State University\n",
    "<a rel=\"license\" href=\"http://creativecommons.org/licenses/by-nc/4.0/\"><img alt=\"Creative Commons License\" style=\"border-width:0\" src=\"https://i.creativecommons.org/l/by-nc/4.0/88x31.png\" /></a><br />This work is licensed under a <a rel=\"license\" href=\"http://creativecommons.org/licenses/by-nc/4.0/\">Creative Commons Attribution-NonCommercial 4.0 International License</a>."
   ]
  }
 ],
 "metadata": {
  "kernelspec": {
   "display_name": "Python 3",
   "language": "python",
   "name": "python3"
  },
  "language_info": {
   "codemirror_mode": {
    "name": "ipython",
    "version": 3
   },
   "file_extension": ".py",
   "mimetype": "text/x-python",
   "name": "python",
   "nbconvert_exporter": "python",
   "pygments_lexer": "ipython3",
   "version": "3.8.8"
  }
 },
 "nbformat": 4,
 "nbformat_minor": 4
}
