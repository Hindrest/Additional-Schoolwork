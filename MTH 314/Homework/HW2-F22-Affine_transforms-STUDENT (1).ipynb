{
 "cells": [
  {
   "cell_type": "markdown",
   "metadata": {},
   "source": [
    "# Homework 2: Affine Transforms\n"
   ]
  },
  {
   "cell_type": "markdown",
   "metadata": {},
   "source": [
    "In order to successfully complete this assignment, you must follow all the instructions in this notebook and upload your edited ipynb file to [D2L](http://d2l.msu.edu/) with your answers on or before **10:00am on Friday, October 7**.\n",
    "\n",
    "You may collaborate with other students in this course. However, you may only share ideas with each other, not code or answers.\n",
    "\n",
    "**Also, note that your section's TA will run your code cells in order (top to bottom) in order to grade your homework submission. So please make sure your code cells work as you intend when you run them in order.**\n",
    "\n",
    "**BIG HINT:** Read the entire homework before starting.  "
   ]
  },
  {
   "cell_type": "code",
   "execution_count": 1,
   "metadata": {},
   "outputs": [],
   "source": [
    "# Here are some libraries you may need to use\n",
    "%matplotlib inline\n",
    "import matplotlib.pylab as plt\n",
    "\n",
    "import numpy as np\n",
    "import sympy as sym"
   ]
  },
  {
   "cell_type": "markdown",
   "metadata": {},
   "source": [
    "---\n",
    "<a name=Reading-in-example-image-files></a>\n",
    "# 1.  (26 pts) Linear Transform\n",
    "\n",
    "In class we discussed several linear transformations: rotation, shearing, scaling and translation. Consider a two-dimensional case. Rotation, shearing and scaling can be represented by $2\\times2$ matrices:\n",
    "\n",
    "$$\\begin{bmatrix}x'\\\\y'\\end{bmatrix}=\\begin{bmatrix}m_{11}&m_{12}\\\\m_{21}&m_{22}\\end{bmatrix}\\begin{bmatrix}x\\\\y\\end{bmatrix}$$\n",
    "\n",
    "where $x,y$ are the original coordinates and $x',y'$ are the transformed ones.\n",
    "\n",
    "Translation is additive, however, we can also represent it with a matrix multiplication if we enlarge the dimension of vectors by 1 and represent the most generic matrix for any of the four transformations as:\n",
    "\n",
    "$$\\begin{bmatrix}x'\\\\y'\\\\1\\end{bmatrix}=\\begin{bmatrix}m_{11}&m_{12}&m_{13}\\\\m_{21}&m_{22}&m_{23}\\\\\n",
    "0&0&1\\end{bmatrix}\\begin{bmatrix}x\\\\y\\\\1\\end{bmatrix}$$\n",
    "\n",
    "where $x,y$ are the original coordinates and $x',y'$ are the transformed ones. In this case the upper left $2\\times2$ block represents rotation, sharing and scaling, while the third column represents translation.\n"
   ]
  },
  {
   "cell_type": "markdown",
   "metadata": {},
   "source": [
    "Let us consider a square with its vertices located at $(0,0)$, $(-2,0)$, $(-2,2)$ and $(0,2)$ and find the transformation that maps it onto a diamond with vertices at $(1,0)$, $(0,1)$, $(1,2)$ and $(2,1)$."
   ]
  },
  {
   "cell_type": "code",
   "execution_count": 2,
   "metadata": {},
   "outputs": [
    {
     "data": {
      "text/plain": [
       "(-3.75, 3.75, -2.0, 3.0)"
      ]
     },
     "execution_count": 2,
     "metadata": {},
     "output_type": "execute_result"
    },
    {
     "data": {
      "image/png": "[encoded data removed]",
      "text/plain": [
       "<Figure size 432x288 with 1 Axes>"
      ]
     },
     "metadata": {
      "needs_background": "light"
     },
     "output_type": "display_data"
    }
   ],
   "source": [
    "# original points\n",
    "x  = [ -2, -2, 0, 0, -2 ]\n",
    "y  = [ 0, 2, 2, 0, 0 ]\n",
    "# transformed points\n",
    "xp = [ 0, 1, 2, 1, 0 ]\n",
    "yp = [ 1, 2, 1, 0, 1 ]\n",
    "\n",
    "# plot\n",
    "plt.plot( x, y, \"*-\" )    # square\n",
    "plt.plot( xp, yp, \"*-\" )  # diamond\n",
    "plt.axis( [-3.75,3.75,-2,3])\n"
   ]
  },
  {
   "cell_type": "markdown",
   "metadata": {},
   "source": [
    "&#9989;  **<font color=red>QUESTION 1a:</font>** (5 pts)  We need at least three points to determine the transformation matrix $M$. Take the following three vertices and assume that the transformation $M$ maps: $(0,0)$ to $(1,0)$, $(-2,0)$ to $(0,1)$ and $(-2,2)$ to $(1,2)$ (find these points on the graph to understand what is going on).\n",
    "\n",
    "Write down a system of $6$ equations for the $6$ unknowns in the matrix $M$. Put down the system in the row form."
   ]
  },
  {
   "cell_type": "markdown",
   "metadata": {},
   "source": [
    "m11,m12,m13,\n",
    "\n",
    "m21,m22,m23\n",
    "\n",
    "0,0,1,0,0,0 = 1\n",
    "\n",
    "0,0,0,0,0,1 = 0\n",
    "\n",
    "-2,0,1,0,0,0 = 0\n",
    "\n",
    "0,0,0,-2,0,1 = 1\n",
    "\n",
    "-2,2,1,0,0,0 = 1\n",
    "\n",
    "0,0,0,-2,2,1 = 2\n",
    "\n",
    "\n"
   ]
  },
  {
   "cell_type": "markdown",
   "metadata": {},
   "source": [
    "&#9989;  **<font color=red>QUESTION 1b:</font>** (8 pts) Despite that the system of equations you wrote in **1a** is $6\\times6$, it is easy to solve with pen and paper. Solve the system with pen and paper and outline what substitutions you made to find the answer. Write down the final answer as $3\\times3$ matrix."
   ]
  },
  {
   "cell_type": "markdown",
   "metadata": {},
   "source": [
    "Put an outline of what substitutions you made to find the answer here. \n",
    "\n",
    "Also, edit the $3 \\times 3$ matrix below with your final answer:\n",
    "\n",
    "$$\n",
    "\\begin{bmatrix}\n",
    ".5 & .5 & 1\\\\\n",
    "-.5 & -.5 & 0\\\\\n",
    "0 & 0 & 1\n",
    "\\end{bmatrix}\n",
    "$$"
   ]
  },
  {
   "cell_type": "markdown",
   "metadata": {},
   "source": [
    "&#9989;  **<font color=red>QUESTION 1c:</font>** (8 pts)  Now use Python to find the 6 values in the matrix $M$ based on the above system of equations, and store them in a $3\\times 3$ `numpy.matrix` varibale named `M`. (Replace 0 with your solution below, do not forget to add the third row as `0 0 1`.)"
   ]
  },
  {
   "cell_type": "code",
   "execution_count": 3,
   "metadata": {},
   "outputs": [
    {
     "name": "stdout",
     "output_type": "stream",
     "text": [
      "[[ 0  0  1  0  0  0]\n",
      " [ 0  0  0  0  0  1]\n",
      " [-2  0  1  0  0  0]\n",
      " [ 0  0  0 -2  0  1]\n",
      " [-2  2  1  0  0  0]\n",
      " [ 0  0  0 -2  2  1]]\n",
      "\n"
     ]
    },
    {
     "data": {
      "text/plain": [
       "matrix([[ 0.5],\n",
       "        [ 0.5],\n",
       "        [ 1. ],\n",
       "        [-0.5],\n",
       "        [ 0.5],\n",
       "        [ 0. ]])"
      ]
     },
     "execution_count": 3,
     "metadata": {},
     "output_type": "execute_result"
    }
   ],
   "source": [
    "A = np.matrix([[0,0,1,0,0,0],[0,0,0,0,0,1],[-2,0,1,0,0,0],[0,0,0,-2,0,1],[-2,2,1,0,0,0],[0,0,0,-2,2,1]])\n",
    "b = np.matrix([[1],[0],[0],[1],[1],[2]])\n",
    "\n",
    "print(A)\n",
    "print('')\n",
    "np.linalg.solve(A,b)"
   ]
  },
  {
   "cell_type": "code",
   "execution_count": 4,
   "metadata": {},
   "outputs": [
    {
     "data": {
      "text/plain": [
       "matrix([[ 0.5,  0.5,  1. ],\n",
       "        [-0.5,  0.5,  0. ],\n",
       "        [ 0. ,  0. ,  1. ]])"
      ]
     },
     "execution_count": 4,
     "metadata": {},
     "output_type": "execute_result"
    }
   ],
   "source": [
    "##Edit this cell to answer the question.\n",
    "\n",
    "#M = np.matrix([[np.cos(angle),np.sin(angle),2],[np.cos(angle),np.sin(angle),-1],[0,0,1]])\n",
    "M = np.matrix([[.5,.5,1],[-.5,.5,0],[0,0,1]])\n",
    "#M = np.matrix(k)\n",
    "\n",
    "M"
   ]
  },
  {
   "cell_type": "code",
   "execution_count": 5,
   "metadata": {},
   "outputs": [
    {
     "name": "stdout",
     "output_type": "stream",
     "text": [
      "\n",
      "CheckWarning: Matrix contains negative values for zero...\n",
      "    Converting to positive values of zero using  ```A[A==-0] = 0```.\n",
      "\n",
      "Testing [[ 0.5  0.5  1. ]\n",
      " [-0.5  0.5  0. ]\n",
      " [ 0.   0.   1. ]]\n",
      "Answer seems to be correct\n",
      "\n"
     ]
    }
   ],
   "source": [
    "from answercheck import checkanswer\n",
    "checkanswer.matrix(M,'bfd8207308885370dc1e1252081d82c5');"
   ]
  },
  {
   "cell_type": "markdown",
   "metadata": {},
   "source": [
    "&#9989;  **<font color=red>QUESTION 1d:</font>** (5 pts)  Now use matrix `M` that you just constructed in Python to calculate where the fourth vertex $(0,2)$ will move after the transform. Store the resulting vector of the form $(x',y',1)$ in variable `V`. What result do you expect based on the figure at the beginning of this exercise?"
   ]
  },
  {
   "cell_type": "code",
   "execution_count": 6,
   "metadata": {},
   "outputs": [
    {
     "name": "stdout",
     "output_type": "stream",
     "text": [
      "[[2.]\n",
      " [1.]\n",
      " [1.]]\n"
     ]
    }
   ],
   "source": [
    "##Edit this cell to answer the question.\n",
    "\n",
    "V = M*np.matrix([[0],[2],[1]])\n",
    "print(V)"
   ]
  },
  {
   "cell_type": "markdown",
   "metadata": {},
   "source": [
    "Put your answer here"
   ]
  },
  {
   "cell_type": "code",
   "execution_count": 7,
   "metadata": {},
   "outputs": [
    {
     "name": "stdout",
     "output_type": "stream",
     "text": [
      "\n",
      "CheckWarning: numpy.matrix is row vector...\n",
      "    Trying to convert to a column vector using ```A = A.T```.\n",
      "\n",
      "Testing [[2. 1. 1.]]\n",
      "Answer seems to be correct\n",
      "\n"
     ]
    }
   ],
   "source": [
    "from answercheck import checkanswer\n",
    "checkanswer.vector(V,'359886fa5fb3b5423ef5ff67735b2f5b')"
   ]
  },
  {
   "cell_type": "markdown",
   "metadata": {},
   "source": [
    "\n",
    "---\n",
    "<a name=Design-Transforms></a>\n",
    "# 2.  (28 pts) Combined Transforms\n",
    "\n",
    "In this problem, we will construct the transformation that we solved for in the previous problem from rotation, scaling and translation.\n"
   ]
  },
  {
   "cell_type": "markdown",
   "metadata": {},
   "source": [
    "&#9989;  **<font color=red>QUESTION 2a:</font>** (4 pts)  First, we need to make the center of the square (the blue square) coincide with the origin (the orange square). Construct a translation matrix that translates the center of the square, point $(-1,1)$, to $(0,0)$.\n",
    "\n",
    "Store it in Python variable `T1` as $3\\times3$ matrix.\n",
    "\n",
    "To help you visualize the transformation consider the figure below."
   ]
  },
  {
   "cell_type": "code",
   "execution_count": 8,
   "metadata": {},
   "outputs": [
    {
     "data": {
      "text/plain": [
       "(-3.75, 3.75, -2.0, 3.0)"
      ]
     },
     "execution_count": 8,
     "metadata": {},
     "output_type": "execute_result"
    },
    {
     "data": {
      "image/png": "[encoded data removed]",
      "text/plain": [
       "<Figure size 432x288 with 1 Axes>"
      ]
     },
     "metadata": {
      "needs_background": "light"
     },
     "output_type": "display_data"
    }
   ],
   "source": [
    "# original points\n",
    "x  = [ -2, -2, 0, 0, -2 ]\n",
    "y  = [ 0, 2, 2, 0, 0 ]\n",
    "# transformed points\n",
    "xp = [-1, -1, 1, 1, -1]\n",
    "yp = [-1, 1, 1, -1, -1]\n",
    "\n",
    "\n",
    "# plot\n",
    "plt.plot( x, y, \"*-\", color='#1f77b4' )\n",
    "plt.plot( xp, yp, \"*-\", color='#ff7f0e' )\n",
    "plt.axis( [-3.75,3.75,-2,3])\n"
   ]
  },
  {
   "cell_type": "code",
   "execution_count": 9,
   "metadata": {},
   "outputs": [
    {
     "name": "stdout",
     "output_type": "stream",
     "text": [
      "[[ 1  0  1]\n",
      " [ 0  1 -1]\n",
      " [ 0  0  1]]\n"
     ]
    }
   ],
   "source": [
    "##Edit this cell to answer the question.\n",
    "\n",
    "T1= np.matrix([[1,0,1],[0,1,-1],[0,0,1]])\n",
    "\n",
    "\n",
    "print(T1)\n"
   ]
  },
  {
   "cell_type": "code",
   "execution_count": 10,
   "metadata": {},
   "outputs": [
    {
     "name": "stdout",
     "output_type": "stream",
     "text": [
      "\n",
      "CheckWarning: passed matrix is int64 and not <class 'numpy.float64'>...\n",
      "    Trying to convert to float using ```A = A.astype(float)```.\n",
      "\n",
      "\n",
      "CheckWarning: Matrix contains negative values for zero...\n",
      "    Converting to positive values of zero using  ```A[A==-0] = 0```.\n",
      "\n",
      "Testing [[ 1.  0.  1.]\n",
      " [ 0.  1. -1.]\n",
      " [ 0.  0.  1.]]\n",
      "Answer seems to be correct\n",
      "\n"
     ]
    }
   ],
   "source": [
    "from answercheck import checkanswer\n",
    "checkanswer.matrix(T1,'90f95b61a6cf37050e7ae25f95046515');"
   ]
  },
  {
   "cell_type": "markdown",
   "metadata": {},
   "source": [
    "&#9989;  **<font color=red>QUESTION 2b:</font>** (4 pts)  Now, we can rotate the square (the blue square) around the origin by 45 degrees clockwise (the orange square). Construct a rotation matrix that performs a rotation by 45 degrees clockwise and store it in Python variable `R` as $3\\times3$ matrix.\n",
    "\n",
    "To help you visualize the transformation consider the figure below."
   ]
  },
  {
   "cell_type": "code",
   "execution_count": 11,
   "metadata": {},
   "outputs": [
    {
     "data": {
      "text/plain": [
       "(-3.75, 3.75, -2.0, 3.0)"
      ]
     },
     "execution_count": 11,
     "metadata": {},
     "output_type": "execute_result"
    },
    {
     "data": {
      "image/png": "[encoded data removed]",
      "text/plain": [
       "<Figure size 432x288 with 1 Axes>"
      ]
     },
     "metadata": {
      "needs_background": "light"
     },
     "output_type": "display_data"
    }
   ],
   "source": [
    "# original points\n",
    "x = [-1, -1, 1, 1, -1]\n",
    "y = [-1, 1, 1, -1, -1]\n",
    "# transformed points\n",
    "xp = [-1.41421, 0, 1.41421, 0, -1.41421]\n",
    "yp = [0, 1.41421, 0, -1.41421, 0]\n",
    "\n",
    "# plot\n",
    "plt.plot( x, y, \"*-\", color='#1f77b4' )\n",
    "plt.plot( xp, yp, \"*-\", color='#ff7f0e' )\n",
    "plt.axis( [-3.75,3.75,-2,3])\n"
   ]
  },
  {
   "cell_type": "code",
   "execution_count": 12,
   "metadata": {},
   "outputs": [
    {
     "name": "stdout",
     "output_type": "stream",
     "text": [
      "[[ 0.70710678  0.70710678  0.        ]\n",
      " [-0.70710678  0.70710678  0.        ]\n",
      " [ 0.          0.          1.        ]]\n"
     ]
    }
   ],
   "source": [
    "##Edit this cell to answer the question.\n",
    "\n",
    "\n",
    "angle = np.pi/4\n",
    "\n",
    "R=np.matrix([[np.cos(angle), np.sin(angle),0], [-np.cos(angle), np.sin(angle),0],[0,0,1]]);\n",
    "\n",
    "print(R)\n",
    "\n"
   ]
  },
  {
   "cell_type": "code",
   "execution_count": 13,
   "metadata": {},
   "outputs": [
    {
     "name": "stdout",
     "output_type": "stream",
     "text": [
      "\n",
      "CheckWarning: Matrix contains negative values for zero...\n",
      "    Converting to positive values of zero using  ```A[A==-0] = 0```.\n",
      "\n",
      "Testing [[ 0.70711  0.70711  0.     ]\n",
      " [-0.70711  0.70711  0.     ]\n",
      " [ 0.       0.       1.     ]]\n",
      "Answer seems to be correct\n",
      "\n"
     ]
    }
   ],
   "source": [
    "from answercheck import checkanswer\n",
    "checkanswer.matrix(R,'96491aabf1a23f1090aeea4596f579df');"
   ]
  },
  {
   "cell_type": "markdown",
   "metadata": {},
   "source": [
    "&#9989;  **<font color=red>QUESTION 2c:</font>** (4 pts)  Next, we need to schrink the rotated square (the blue square) by a factor of $\\sqrt{2}$ (the orange square). Construct a scaling matrix that scales along the $x$ and $y$ axis by $1/\\sqrt{2}$ and store it in Python variable `S`.\n",
    "\n",
    "To help you visualize the transformation consider the figure below."
   ]
  },
  {
   "cell_type": "code",
   "execution_count": 14,
   "metadata": {},
   "outputs": [
    {
     "data": {
      "text/plain": [
       "(-3.75, 3.75, -2.0, 3.0)"
      ]
     },
     "execution_count": 14,
     "metadata": {},
     "output_type": "execute_result"
    },
    {
     "data": {
      "image/png": "[encoded data removed]",
      "text/plain": [
       "<Figure size 432x288 with 1 Axes>"
      ]
     },
     "metadata": {
      "needs_background": "light"
     },
     "output_type": "display_data"
    }
   ],
   "source": [
    "# original points\n",
    "x = [-1.41421, 0, 1.41421, 0, -1.41421]\n",
    "y = [0, 1.41421, 0, -1.41421, 0]\n",
    "# transformed points\n",
    "xp = [-1, 0, 1, 0, -1]\n",
    "yp = [0, 1, 0, -1, 0]\n",
    "\n",
    "# plot\n",
    "plt.plot( x, y, \"*-\", color='#1f77b4' )\n",
    "plt.plot( xp, yp, \"*-\", color='#ff7f0e' )\n",
    "plt.axis( [-3.75,3.75,-2,3])\n"
   ]
  },
  {
   "cell_type": "code",
   "execution_count": 15,
   "metadata": {},
   "outputs": [
    {
     "name": "stdout",
     "output_type": "stream",
     "text": [
      "[[0.70710678 0.         0.        ]\n",
      " [0.         0.70710678 0.        ]\n",
      " [0.         0.         1.        ]]\n"
     ]
    }
   ],
   "source": [
    "##Edit this cell to answer the question.\n",
    "\n",
    "S = np.matrix([[1/(2**(1/2)),0,0],[0,1/(2**(1/2)),0],[0,0,1]])\n",
    "\n",
    "print(S)\n"
   ]
  },
  {
   "cell_type": "code",
   "execution_count": 16,
   "metadata": {},
   "outputs": [
    {
     "name": "stdout",
     "output_type": "stream",
     "text": [
      "\n",
      "CheckWarning: Matrix contains negative values for zero...\n",
      "    Converting to positive values of zero using  ```A[A==-0] = 0```.\n",
      "\n",
      "Testing [[0.70711 0.      0.     ]\n",
      " [0.      0.70711 0.     ]\n",
      " [0.      0.      1.     ]]\n",
      "Answer seems to be correct\n",
      "\n"
     ]
    }
   ],
   "source": [
    "from answercheck import checkanswer\n",
    "checkanswer.matrix(S,'74bb9a4ee83d0d589f58ce3bdc95d160');"
   ]
  },
  {
   "cell_type": "markdown",
   "metadata": {},
   "source": [
    "&#9989;  **<font color=red>QUESTION 2d:</font>** (4 pts) Our final move is to translate the diamond (the blue square) so that its center is at position $(1,1)$ (the orange square). Construct a translation matrix that translates $(0,0)$ to $(1,1)$ and store it in Python variable `T2`.\n",
    "\n",
    "To help you visualize the transformation consider the figure below."
   ]
  },
  {
   "cell_type": "code",
   "execution_count": 17,
   "metadata": {},
   "outputs": [
    {
     "data": {
      "text/plain": [
       "(-3.75, 3.75, -2.0, 3.0)"
      ]
     },
     "execution_count": 17,
     "metadata": {},
     "output_type": "execute_result"
    },
    {
     "data": {
      "image/png": "[encoded data removed]",
      "text/plain": [
       "<Figure size 432x288 with 1 Axes>"
      ]
     },
     "metadata": {
      "needs_background": "light"
     },
     "output_type": "display_data"
    }
   ],
   "source": [
    "# original points\n",
    "x = [-1, 0, 1, 0, -1]\n",
    "y = [0, 1, 0, -1, 0]\n",
    "# transformed points\n",
    "xp = [0, 1, 2, 1, 0]\n",
    "yp = [1, 2, 1, 0, 1]\n",
    "\n",
    "# plot\n",
    "plt.plot( x, y, \"*-\", color='#1f77b4' )\n",
    "plt.plot( xp, yp, \"*-\", color='#ff7f0e' )\n",
    "plt.axis( [-3.75,3.75,-2,3])\n"
   ]
  },
  {
   "cell_type": "code",
   "execution_count": 18,
   "metadata": {},
   "outputs": [
    {
     "name": "stdout",
     "output_type": "stream",
     "text": [
      "[[1 0 1]\n",
      " [0 1 1]\n",
      " [0 0 1]]\n"
     ]
    }
   ],
   "source": [
    "##Edit this cell to answer the question.\n",
    "#T2=0\n",
    "\n",
    "T2=np.matrix([[1,0,1],[0,1,1],[0,0,1]])\n",
    "\n",
    "print(T2)\n"
   ]
  },
  {
   "cell_type": "code",
   "execution_count": 19,
   "metadata": {},
   "outputs": [
    {
     "name": "stdout",
     "output_type": "stream",
     "text": [
      "\n",
      "CheckWarning: passed matrix is int64 and not <class 'numpy.float64'>...\n",
      "    Trying to convert to float using ```A = A.astype(float)```.\n",
      "\n",
      "\n",
      "CheckWarning: Matrix contains negative values for zero...\n",
      "    Converting to positive values of zero using  ```A[A==-0] = 0```.\n",
      "\n",
      "Testing [[1. 0. 1.]\n",
      " [0. 1. 1.]\n",
      " [0. 0. 1.]]\n",
      "Answer seems to be correct\n",
      "\n"
     ]
    }
   ],
   "source": [
    "from answercheck import checkanswer\n",
    "checkanswer.matrix(T2,'312c24e5e5aa4504ce2c9a68689660ec');"
   ]
  },
  {
   "cell_type": "markdown",
   "metadata": {},
   "source": [
    "&#9989;  **<font color=red>QUESTION 2e:</font>** (5 pts) We now have the sequence of transformations that turns the square with vertices at $(0,0)$, $(-2,0)$, $(-2,2)$ and $(0,2)$ into a diamond with vertices at $(1,0)$, $(0,1)$, $(1,2)$ and $(2,1)$. They are:\n",
    "\n",
    "- translation `T1`\n",
    "- rotation `R`\n",
    "- scaling `S`\n",
    "- translation `T2`\n",
    "\n",
    "Calculate the final transformation matrix `P` as the composition of the above operations and print the result below."
   ]
  },
  {
   "cell_type": "code",
   "execution_count": 20,
   "metadata": {},
   "outputs": [
    {
     "name": "stdout",
     "output_type": "stream",
     "text": [
      "[[ 5.00000000e-01  5.00000000e-01  1.00000000e+00]\n",
      " [-5.00000000e-01  5.00000000e-01  1.11022302e-16]\n",
      " [ 0.00000000e+00  0.00000000e+00  1.00000000e+00]]\n"
     ]
    }
   ],
   "source": [
    "##Edit this cell to answer the question.\n",
    "\n",
    "#P = T1*R*S*T2\n",
    "#To combine transformations, must multiply them all in reverse order of what occured\n",
    "\n",
    "P = T2*S*R*T1\n",
    "print(P)\n"
   ]
  },
  {
   "cell_type": "code",
   "execution_count": 21,
   "metadata": {},
   "outputs": [
    {
     "name": "stdout",
     "output_type": "stream",
     "text": [
      "\n",
      "CheckWarning: Matrix contains negative values for zero...\n",
      "    Converting to positive values of zero using  ```A[A==-0] = 0```.\n",
      "\n",
      "Testing [[ 0.5  0.5  1. ]\n",
      " [-0.5  0.5  0. ]\n",
      " [ 0.   0.   1. ]]\n",
      "Answer seems to be correct\n",
      "\n"
     ]
    }
   ],
   "source": [
    "from answercheck import checkanswer\n",
    "checkanswer.matrix(P,'bfd8207308885370dc1e1252081d82c5');"
   ]
  },
  {
   "cell_type": "markdown",
   "metadata": {},
   "source": [
    " In what order the matrices need to be multiplied? Does your result coincide with the matrix $M$ that you calculated in the first problem?"
   ]
  },
  {
   "cell_type": "markdown",
   "metadata": {},
   "source": [
    "They must be multiplied in reverse order; Yes, it coincides with the matrix that we calculated in the first problem"
   ]
  },
  {
   "cell_type": "markdown",
   "metadata": {},
   "source": [
    "&#9989;  **<font color=red>QUESTION 2f:</font>** (7 pts) What would happen if we confuse the order of multiplication? Construct a transformation `Z` where you multiply the same operations `T1`, `R`, `S` and `T2` but in the order opposite to the correct one. Calculate matrix `Z` and use it to find how the vertices of the square transform in this case. Plot side by side the original square and the geometrical shape achieved by the transformation `Z` similar to how the square and diamond are plotted in the previous figures."
   ]
  },
  {
   "cell_type": "code",
   "execution_count": 22,
   "metadata": {},
   "outputs": [
    {
     "name": "stdout",
     "output_type": "stream",
     "text": [
      "[[ 0.5  0.5  2. ]\n",
      " [-0.5  0.5 -1. ]\n",
      " [ 0.   0.   1. ]]\n"
     ]
    }
   ],
   "source": [
    "##Edit this cell to answer the question.\n",
    "\n",
    "Z = T1*R*S*T2\n",
    "print(Z)\n"
   ]
  },
  {
   "cell_type": "code",
   "execution_count": 23,
   "metadata": {},
   "outputs": [
    {
     "name": "stdout",
     "output_type": "stream",
     "text": [
      "\n",
      "CheckWarning: Matrix contains negative values for zero...\n",
      "    Converting to positive values of zero using  ```A[A==-0] = 0```.\n",
      "\n",
      "Testing [[ 0.5  0.5  2. ]\n",
      " [-0.5  0.5 -1. ]\n",
      " [ 0.   0.   1. ]]\n",
      "Answer seems to be correct\n",
      "\n"
     ]
    }
   ],
   "source": [
    "from answercheck import checkanswer\n",
    "checkanswer.matrix(Z,'690df4ddbafa09759cb50a3d04d9344d');"
   ]
  },
  {
   "cell_type": "code",
   "execution_count": 24,
   "metadata": {},
   "outputs": [
    {
     "data": {
      "text/plain": [
       "[<matplotlib.lines.Line2D at 0x7fa6cc7fb7c0>,\n",
       " <matplotlib.lines.Line2D at 0x7fa6cc7fb8e0>,\n",
       " <matplotlib.lines.Line2D at 0x7fa6cc7fb9d0>]"
      ]
     },
     "execution_count": 24,
     "metadata": {},
     "output_type": "execute_result"
    },
    {
     "data": {
      "image/png": "[encoded data removed]",
      "text/plain": [
       "<Figure size 432x288 with 1 Axes>"
      ]
     },
     "metadata": {
      "needs_background": "light"
     },
     "output_type": "display_data"
    }
   ],
   "source": [
    "# Put your plotting code here to have the original and transformed shapes side by side\n",
    "plt.plot(P)\n",
    "plt.plot(Z)"
   ]
  },
  {
   "cell_type": "markdown",
   "metadata": {},
   "source": [
    "Is `Z` the same as `P`? Explain your results."
   ]
  },
  {
   "cell_type": "markdown",
   "metadata": {},
   "source": [
    "Put your answer here"
   ]
  },
  {
   "cell_type": "markdown",
   "metadata": {},
   "source": [
    "---\n",
    "<a name=Stitch-Images-together></a>\n",
    "# 3.  (22 pts) Inverse Transform\n",
    "\n"
   ]
  },
  {
   "cell_type": "markdown",
   "metadata": {},
   "source": [
    "Consider now a problem of transforming the diamond back into square. This is achieved by the _inverse_ transform."
   ]
  },
  {
   "cell_type": "markdown",
   "metadata": {},
   "source": [
    "&#9989;  **<font color=red>QUESTION 3a:</font>** (8 pts)  Use the `rref` function in `sympy` to find the inverse of the transformation `P` and store it as `P_inv`. (Hint: you can use `numpy.concatenate` to join two $3\\times 3$ matrices into one $3\\times 6$ matrix.)"
   ]
  },
  {
   "cell_type": "code",
   "execution_count": 25,
   "metadata": {},
   "outputs": [
    {
     "name": "stdout",
     "output_type": "stream",
     "text": [
      "[[ 1. -1. -1.]\n",
      " [ 1.  1. -1.]\n",
      " [ 0.  0.  1.]]\n"
     ]
    }
   ],
   "source": [
    "##Edit this cell to answer the question.\n",
    "\n",
    "P_inv = np.linalg.inv(P)\n",
    "print(P_inv)\n"
   ]
  },
  {
   "cell_type": "code",
   "execution_count": 26,
   "metadata": {},
   "outputs": [
    {
     "name": "stdout",
     "output_type": "stream",
     "text": [
      "\n",
      "CheckWarning: Matrix contains negative values for zero...\n",
      "    Converting to positive values of zero using  ```A[A==-0] = 0```.\n",
      "\n",
      "Testing [[ 1. -1. -1.]\n",
      " [ 1.  1. -1.]\n",
      " [ 0.  0.  1.]]\n",
      "Answer seems to be correct\n",
      "\n"
     ]
    }
   ],
   "source": [
    "from answercheck import checkanswer\n",
    "checkanswer.matrix(P_inv,'3f74e2552cd1083f22eb4dcf4736ff1d');"
   ]
  },
  {
   "cell_type": "markdown",
   "metadata": {},
   "source": [
    "&#9989;  **<font color=red>QUESTION 3b:</font>** (10 pts)  Write down the matrices for the inverse transformations of `T1`, `R`, `S` and `T2` in **QUESTION 2**. For instance, `T1` is a translation by $1$ in $x$ direction and $-1$ in $y$ direction, thus, the inverse is a translation by $-1$ in $x$ direction and $1$ in $y$ direction. Store the results in variables `T1_inv`, `R_inv`, `S_inv` and `T2_inv`."
   ]
  },
  {
   "cell_type": "code",
   "execution_count": 27,
   "metadata": {},
   "outputs": [
    {
     "name": "stdout",
     "output_type": "stream",
     "text": [
      "[[ 1  0 -1]\n",
      " [ 0  1  1]\n",
      " [ 0  0  1]]\n",
      "[[ 0.70710678 -0.70710678  0.        ]\n",
      " [ 0.70710678  0.70710678  0.        ]\n",
      " [ 0.          0.          1.        ]]\n",
      "[[1.41421356 0.         0.        ]\n",
      " [0.         1.41421356 0.        ]\n",
      " [0.         0.         1.        ]]\n",
      "[[ 1.  0. -1.]\n",
      " [ 0.  1. -1.]\n",
      " [ 0.  0.  1.]]\n"
     ]
    }
   ],
   "source": [
    "##Edit this cell to answer the question.\n",
    "\n",
    "T1_inv=np.matrix([[1,0,-1],[0,1,1],[0,0,1]])\n",
    "print(T1_inv)\n",
    "#np.matrix([[np.cos(angle), np.sin(angle),0], [-np.cos(angle), np.sin(angle),0],[0,0,1]]);\n",
    "R_inv=np.linalg.inv(R)\n",
    "print(R_inv)\n",
    "#np.matrix([[1/(2**(1/2)),0,0],[0,1/(2**(1/2)),0],[0,0,1]])\n",
    "S_inv=np.linalg.inv(S)\n",
    "print(S_inv)\n",
    "T2_inv=np.linalg.inv(T2)\n",
    "print(T2_inv)\n"
   ]
  },
  {
   "cell_type": "markdown",
   "metadata": {},
   "source": [
    "&#9989;  **<font color=red>QUESTION 3c:</font>** (4 pts)  As we know, if $A$, $B$, $C$, $\\dots$ are invertible, we have \n",
    "$$(ABC\\dots)^{-1}=\\dots C^{-1}B^{-1}A^{-1}.$$\n",
    "Based on this rule, use the inverse transformation matrices to construct the inverse of $P$ and check whether it is the same as you obtained in the previous question. Store the inverse constructed as product in variable `P_inv2`."
   ]
  },
  {
   "cell_type": "code",
   "execution_count": 28,
   "metadata": {},
   "outputs": [
    {
     "name": "stdout",
     "output_type": "stream",
     "text": [
      "[[ 1. -1. -1.]\n",
      " [ 1.  1. -1.]\n",
      " [ 0.  0.  1.]]\n"
     ]
    }
   ],
   "source": [
    "##Edit this cell to answer the question.\n",
    "\n",
    "P_inv2 = T1_inv*R_inv*S_inv*T2_inv\n",
    "print(P_inv2)\n"
   ]
  },
  {
   "cell_type": "code",
   "execution_count": 29,
   "metadata": {},
   "outputs": [
    {
     "name": "stdout",
     "output_type": "stream",
     "text": [
      "\n",
      "CheckWarning: Matrix contains negative values for zero...\n",
      "    Converting to positive values of zero using  ```A[A==-0] = 0```.\n",
      "\n",
      "Testing [[ 1. -1. -1.]\n",
      " [ 1.  1. -1.]\n",
      " [ 0.  0.  1.]]\n",
      "Answer seems to be correct\n",
      "\n"
     ]
    }
   ],
   "source": [
    "from answercheck import checkanswer\n",
    "checkanswer.matrix(P_inv2,'3f74e2552cd1083f22eb4dcf4736ff1d');"
   ]
  },
  {
   "cell_type": "markdown",
   "metadata": {},
   "source": [
    "---\n",
    "<a name=Stitch-Images-together></a>\n",
    "# 4.  (24 pts) Transforms in three spatial dimensions\n",
    "\n"
   ]
  },
  {
   "cell_type": "markdown",
   "metadata": {},
   "source": [
    "In the previous exercises we considered transformations in two spatial dimensions. To accommodate translations we embedded two-dimensional transformations in three-dimensional matrices. Without translations we could have used $2\\times 2$ matrices.\n",
    "\n",
    "In general, if we write linear transformations on $\\mathbb{R}^n$ that include rotations, reflections, scaling and shearing we need $n\\times n$ matrices. If we also include translation, we need $(n+1)\\times(n+1)$ matrices with the last row containing $0$s except of $1$ on the diagonal.\n",
    "\n",
    "In this exercise we consider transformations on $\\mathbb{R}^3$, i.e. three-dimensional space without translation. In this case it is enough to work with $3\\times3$ matrices.\n"
   ]
  },
  {
   "cell_type": "markdown",
   "metadata": {},
   "source": [
    "&#9989;  **<font color=red>QUESTION 4a:</font>** (8 pts)  Use python code to construct the following three $3\\times 3$ transformation matrices: \n",
    "+ Rotation matrix `Ry` with angle `degreey`$=135^\\circ$ (rotate about y axis)\n",
    "+ Rotation matrix `Rz` with angle `degreey`$=60^\\circ$ (rotate about z axis)\n",
    "+ Shearing matrix `SH` with parameter `sh`$=1.0$ (adding the $y$ component to the $x$ component)\n",
    "\n",
    "Note that by default the rotation is counted _counterclockwise_."
   ]
  },
  {
   "cell_type": "code",
   "execution_count": 30,
   "metadata": {},
   "outputs": [
    {
     "name": "stdout",
     "output_type": "stream",
     "text": [
      "[[-0.70710678  0.         -0.70710678]\n",
      " [ 0.          1.          0.        ]\n",
      " [ 0.70710678  0.         -0.70710678]]\n",
      "\n",
      "[[ 0.5       -0.8660254  0.       ]\n",
      " [ 0.8660254  0.5        0.       ]\n",
      " [ 0.         0.         1.       ]]\n"
     ]
    }
   ],
   "source": [
    "## Finish the code in this cell.\n",
    "\n",
    "degreey = 135\n",
    "angle1 = degreey * (np.pi/180)\n",
    "Ry = np.matrix([[np.cos(angle1), 0, -np.sin(angle1)], [0,1,0],[np.sin(angle1), 0, np.cos(angle1)]])\n",
    "print(Ry)\n",
    "print('')\n",
    "\n",
    "degreez = 60\n",
    "angle2 = degreez * (np.pi/180)\n",
    "Rz = np.matrix([[np.cos(angle2), -np.sin(angle2),0], [np.sin(angle2), np.cos(angle2),0],[0,0,1]])\n",
    "print(Rz)\n",
    "\n",
    "sh = 1.0 \n",
    "SH = np.matrix([[1,sh,0],[0,1,0],[0,0,1]])\n",
    "\n"
   ]
  },
  {
   "cell_type": "code",
   "execution_count": 31,
   "metadata": {},
   "outputs": [
    {
     "name": "stdout",
     "output_type": "stream",
     "text": [
      "\n",
      "CheckWarning: Matrix contains negative values for zero...\n",
      "    Converting to positive values of zero using  ```A[A==-0] = 0```.\n",
      "\n",
      "Testing [[-0.70711  0.      -0.70711]\n",
      " [ 0.       1.       0.     ]\n",
      " [ 0.70711  0.      -0.70711]]\n",
      "Answer seems to be correct\n",
      "\n"
     ]
    }
   ],
   "source": [
    "checkanswer.matrix(Ry,'39e48c5d5e63284cbf33fd87455d5495');"
   ]
  },
  {
   "cell_type": "code",
   "execution_count": 32,
   "metadata": {
    "scrolled": true
   },
   "outputs": [
    {
     "name": "stdout",
     "output_type": "stream",
     "text": [
      "\n",
      "CheckWarning: Matrix contains negative values for zero...\n",
      "    Converting to positive values of zero using  ```A[A==-0] = 0```.\n",
      "\n",
      "Testing [[ 0.5     -0.86603  0.     ]\n",
      " [ 0.86603  0.5      0.     ]\n",
      " [ 0.       0.       1.     ]]\n",
      "Answer seems to be correct\n",
      "\n"
     ]
    }
   ],
   "source": [
    "checkanswer.matrix(Rz,'10e0d5483fd7ef4570639297348a8c88');"
   ]
  },
  {
   "cell_type": "code",
   "execution_count": 33,
   "metadata": {},
   "outputs": [
    {
     "name": "stdout",
     "output_type": "stream",
     "text": [
      "\n",
      "CheckWarning: Matrix contains negative values for zero...\n",
      "    Converting to positive values of zero using  ```A[A==-0] = 0```.\n",
      "\n",
      "Testing [[1. 1. 0.]\n",
      " [0. 1. 0.]\n",
      " [0. 0. 1.]]\n",
      "Answer seems to be correct\n",
      "\n"
     ]
    }
   ],
   "source": [
    "checkanswer.matrix(SH,'95217d95cc21e692bd9b148c6f38a725');"
   ]
  },
  {
   "cell_type": "markdown",
   "metadata": {},
   "source": [
    "&#9989;  **<font color=red>QUESTION 4b:</font>** (4 pts)  Combine the three matrices into one transfrom matrix in the way that shear is applied first, then rotation along $z$ and then rotation along $y$. Store the result in variable `M`."
   ]
  },
  {
   "cell_type": "code",
   "execution_count": 34,
   "metadata": {},
   "outputs": [
    {
     "name": "stdout",
     "output_type": "stream",
     "text": [
      "[[-0.35355339  0.25881905 -0.70710678]\n",
      " [ 0.8660254   1.3660254   0.        ]\n",
      " [ 0.35355339 -0.25881905 -0.70710678]]\n"
     ]
    }
   ],
   "source": [
    "### Put your answer here\n",
    "\n",
    "M = Ry*Rz*SH\n",
    "print(M)"
   ]
  },
  {
   "cell_type": "code",
   "execution_count": 35,
   "metadata": {},
   "outputs": [
    {
     "name": "stdout",
     "output_type": "stream",
     "text": [
      "\n",
      "CheckWarning: Matrix contains negative values for zero...\n",
      "    Converting to positive values of zero using  ```A[A==-0] = 0```.\n",
      "\n",
      "Testing [[-0.35355  0.25882 -0.70711]\n",
      " [ 0.86603  1.36603  0.     ]\n",
      " [ 0.35355 -0.25882 -0.70711]]\n",
      "Answer seems to be correct\n",
      "\n"
     ]
    }
   ],
   "source": [
    "from answercheck import checkanswer\n",
    "checkanswer.matrix(M,'df1a0ca82c8b2661d5a399075db1df22');"
   ]
  },
  {
   "cell_type": "markdown",
   "metadata": {},
   "source": [
    "&#9989;  **<font color=red>QUESTION 4c:</font>** (8 pts)  Calculate the inverse of `M` and store it in `M_inv`."
   ]
  },
  {
   "cell_type": "code",
   "execution_count": 36,
   "metadata": {},
   "outputs": [
    {
     "name": "stdout",
     "output_type": "stream",
     "text": [
      "[[-0.96592583  0.3660254   0.96592583]\n",
      " [ 0.61237244  0.5        -0.61237244]\n",
      " [-0.70710678 -0.         -0.70710678]]\n"
     ]
    }
   ],
   "source": [
    "### Put your answer here\n",
    "\n",
    "M_inv = np.linalg.inv(M)\n",
    "print(M_inv)"
   ]
  },
  {
   "cell_type": "code",
   "execution_count": 37,
   "metadata": {},
   "outputs": [
    {
     "name": "stdout",
     "output_type": "stream",
     "text": [
      "\n",
      "CheckWarning: Matrix contains negative values for zero...\n",
      "    Converting to positive values of zero using  ```A[A==-0] = 0```.\n",
      "\n",
      "Testing [[-0.96593  0.36603  0.96593]\n",
      " [ 0.61237  0.5     -0.61237]\n",
      " [-0.70711  0.      -0.70711]]\n",
      "Answer seems to be correct\n",
      "\n"
     ]
    }
   ],
   "source": [
    "from answercheck import checkanswer\n",
    "checkanswer.matrix(M_inv,'6399ce5e0d0710494b723be1b2d7b005');"
   ]
  },
  {
   "cell_type": "markdown",
   "metadata": {},
   "source": [
    "&#9989;  **<font color=red>QUESTION 4d:</font>** (4 pts) Consider a point whose coordinates after the transformation `M` are $(-1,-1,-1)$. Where was this point before the transformation matrix was applied? Print the result below"
   ]
  },
  {
   "cell_type": "code",
   "execution_count": 38,
   "metadata": {},
   "outputs": [
    {
     "name": "stdout",
     "output_type": "stream",
     "text": [
      "[[-0.3660254 ]\n",
      " [-0.5       ]\n",
      " [ 1.41421356]]\n"
     ]
    }
   ],
   "source": [
    "### Put your answer here\n",
    "\n",
    "p = M_inv * np.array([[-1],[-1],[-1]])\n",
    "\n",
    "print(p)\n"
   ]
  },
  {
   "cell_type": "markdown",
   "metadata": {},
   "source": [
    "---------\n",
    "### Congratulations, we're done!\n"
   ]
  }
 ],
 "metadata": {
  "celltoolbar": "Create Assignment",
  "kernelspec": {
   "display_name": "Python 3",
   "language": "python",
   "name": "python3"
  },
  "language_info": {
   "codemirror_mode": {
    "name": "ipython",
    "version": 3
   },
   "file_extension": ".py",
   "mimetype": "text/x-python",
   "name": "python",
   "nbconvert_exporter": "python",
   "pygments_lexer": "ipython3",
   "version": "3.8.8"
  }
 },
 "nbformat": 4,
 "nbformat_minor": 4
}
