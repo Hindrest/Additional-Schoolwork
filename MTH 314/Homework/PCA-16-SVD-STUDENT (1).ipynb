{
 "cells": [
  {
   "cell_type": "markdown",
   "metadata": {},
   "source": [
    "# 16 Pre-Class Assignment: Singular Value Decomposition"
   ]
  },
  {
   "cell_type": "markdown",
   "metadata": {},
   "source": [
    "## Goals for today's pre-class assignment \n",
    "\n",
    "</p>\n",
    "\n",
    "1. [Video On Singular Value Decomposition](#Video_On_Signular_Value_Decomposition)\n",
    "1. [Diagonalizing a Square Matrix](#Diag)\n",
    "1. [Singular Value Decomposition](#SVD)"
   ]
  },
  {
   "cell_type": "code",
   "execution_count": 1,
   "metadata": {},
   "outputs": [],
   "source": [
    "%matplotlib inline\n",
    "import numpy as np\n",
    "import matplotlib.pyplot as plt\n",
    "import sympy as sym\n",
    "sym.init_printing()"
   ]
  },
  {
   "cell_type": "markdown",
   "metadata": {},
   "source": [
    "---\n",
    "<a name=\"Video_On_Signular_Value_Decomposition\"></a>\n",
    "\n",
    "# 1. Video On Signular Value Decomposition\n",
    "\n",
    "Calculating the eigenvaluse and eigenvectors of a matrix requires that the matrix is square ($n \\times n$). Think of SVD as a way to get similar information from a non-square matrix.\n",
    "\n",
    "This video is a little longer than most videos.  I recommend reading the questions first and then watching the video and following along with the provided code examples."
   ]
  },
  {
   "cell_type": "code",
   "execution_count": null,
   "metadata": {
    "scrolled": false
   },
   "outputs": [],
   "source": [
    "from IPython.display import YouTubeVideo\n",
    "YouTubeVideo(\"EfZsEFhHcNM\",width=640,height=360)"
   ]
  },
  {
   "cell_type": "markdown",
   "metadata": {},
   "source": [
    "---\n",
    "<a name=\"Diag\"></a>\n",
    "\n",
    "## 2. Diagonalizing a Square Matrix\n",
    "\n",
    "As we saw in previous assignments, a square matrix $$n\\times n, whose eigenvectors form a basis of $\\mathbb R^n$ is diagonalizable.\n",
    "Consider the following matrix provided in the above video (~1:50 into the video)"
   ]
  },
  {
   "cell_type": "code",
   "execution_count": 2,
   "metadata": {
    "scrolled": true
   },
   "outputs": [
    {
     "data": {
      "text/latex": [
       "$\\displaystyle \\left[\\begin{matrix}1 & 1 & 3\\\\-3 & -5 & -3\\\\3 & 3 & 1\\end{matrix}\\right]$"
      ],
      "text/plain": [
       "⎡1   1   3 ⎤\n",
       "⎢          ⎥\n",
       "⎢-3  -5  -3⎥\n",
       "⎢          ⎥\n",
       "⎣3   3   1 ⎦"
      ]
     },
     "execution_count": 2,
     "metadata": {},
     "output_type": "execute_result"
    }
   ],
   "source": [
    "A = np.matrix([[1,1,3], [-3, -5, -3], [3, 3, 1]])\n",
    "sym.Matrix(A)"
   ]
  },
  {
   "cell_type": "markdown",
   "metadata": {},
   "source": [
    "&#9989; <font color=red>**DO THIS:**</font> Calculate the Eigenvalues and Eigenvectors for the above matrix $A$. name the eigenvalues (vals) and the eigenvectors (vecs)"
   ]
  },
  {
   "cell_type": "code",
   "execution_count": 9,
   "metadata": {},
   "outputs": [],
   "source": [
    "##Put your code here\n",
    "\n",
    "vals, vecs = np.linalg.eig(A)"
   ]
  },
  {
   "cell_type": "markdown",
   "metadata": {},
   "source": [
    "The following code sorts the eigenvectors based on the ordering of the eigenvalues. It does this using the argsort algorithm which puts the values in ascending order.  The ```[::-1]``` notation reverses the order of the indexes.  We will put the sorted vectors into a matrix called $P$"
   ]
  },
  {
   "cell_type": "code",
   "execution_count": 10,
   "metadata": {
    "scrolled": true
   },
   "outputs": [
    {
     "name": "stdout",
     "output_type": "stream",
     "text": [
      "[0 2 1]\n",
      "[[-7.17666340e-01 -7.07106781e-01  3.07751722e-01]\n",
      " [ 4.92420057e-01 -8.32667268e-16  6.72788554e-01]\n",
      " [-4.92420057e-01  7.07106781e-01 -6.72788554e-01]]\n"
     ]
    },
    {
     "data": {
      "text/latex": [
       "$\\displaystyle \\left[\\begin{matrix}-0.717666339515337 & -0.707106781186547 & 0.307751722477118\\\\0.492420057027868 & -8.32667268468866 \\cdot 10^{-16} & 0.672788554195286\\\\-0.492420057027868 & 0.707106781186548 & -0.672788554195286\\end{matrix}\\right]$"
      ],
      "text/plain": [
       "⎡-0.717666339515337   -0.707106781186547    0.307751722477118 ⎤\n",
       "⎢                                                             ⎥\n",
       "⎢0.492420057027868   -8.32667268468866e-16  0.672788554195286 ⎥\n",
       "⎢                                                             ⎥\n",
       "⎣-0.492420057027868    0.707106781186548    -0.672788554195286⎦"
      ]
     },
     "execution_count": 10,
     "metadata": {},
     "output_type": "execute_result"
    }
   ],
   "source": [
    "idx = vals.argsort()[::-1]   \n",
    "vals = vals[idx]\n",
    "vecs = vecs[:,idx]\n",
    "\n",
    "\n",
    "print(idx)\n",
    "V = vecs\n",
    "sym.Matrix(V)\n",
    "\n",
    "print(V)\n",
    "\n",
    "P = vecs\n",
    "sym.Matrix(P)"
   ]
  },
  {
   "cell_type": "markdown",
   "metadata": {},
   "source": [
    "The following code generates a matrix of the same size as $A$ and puts the eigenvalues on the diagonals. "
   ]
  },
  {
   "cell_type": "code",
   "execution_count": 11,
   "metadata": {
    "scrolled": true
   },
   "outputs": [
    {
     "data": {
      "text/latex": [
       "$\\displaystyle \\left[\\begin{matrix}2.37228132326901 & 0.0 & 0.0\\\\0.0 & -2.0 & 0.0\\\\0.0 & 0.0 & -3.37228132326901\\end{matrix}\\right]$"
      ],
      "text/plain": [
       "⎡2.37228132326901  0.0          0.0       ⎤\n",
       "⎢                                         ⎥\n",
       "⎢      0.0         -2.0         0.0       ⎥\n",
       "⎢                                         ⎥\n",
       "⎣      0.0         0.0   -3.37228132326901⎦"
      ]
     },
     "execution_count": 11,
     "metadata": {},
     "output_type": "execute_result"
    }
   ],
   "source": [
    "D = np.zeros(A.shape)\n",
    "for i in range(len(vals)):\n",
    "    D[i,i] = vals[i]\n",
    "sym.Matrix(D)"
   ]
  },
  {
   "cell_type": "markdown",
   "metadata": {},
   "source": [
    "&#9989; <font color=red>**DO THIS:**</font> Show that $A=PDP^{-1}$"
   ]
  },
  {
   "cell_type": "code",
   "execution_count": 14,
   "metadata": {},
   "outputs": [
    {
     "name": "stdout",
     "output_type": "stream",
     "text": [
      "[[ 1.  1.  3.]\n",
      " [-3. -5. -3.]\n",
      " [ 3.  3.  1.]]\n",
      "\n",
      "[[ 1  1  3]\n",
      " [-3 -5 -3]\n",
      " [ 3  3  1]]\n"
     ]
    }
   ],
   "source": [
    "#Put your answer here\n",
    "P_inv = np.linalg.inv(P)\n",
    "\n",
    "print(P*D*P_inv)\n",
    "print('')\n",
    "print(A)"
   ]
  },
  {
   "cell_type": "code",
   "execution_count": 15,
   "metadata": {},
   "outputs": [
    {
     "data": {
      "text/plain": [
       "matrix([[ 8.88178420e-16,  1.11022302e-15, -1.33226763e-15],\n",
       "        [ 0.00000000e+00, -8.88178420e-16,  0.00000000e+00],\n",
       "        [ 8.88178420e-16,  2.22044605e-15,  8.88178420e-16]])"
      ]
     },
     "execution_count": 15,
     "metadata": {},
     "output_type": "execute_result"
    }
   ],
   "source": [
    "###Answer###\n",
    "\n",
    "P*D*np.linalg.inv(P)-A\n",
    "###Answer###"
   ]
  },
  {
   "cell_type": "markdown",
   "metadata": {},
   "source": [
    "&#9989; <font color=red>**DO THIS:**</font> Show that $A^{10}=PD^{10}P^{-1}$. I.e. multiply A by itself 10 times and then taking $\\sigma^{10}$ for each of the eigenvalues in the diagonal of $D$."
   ]
  },
  {
   "cell_type": "code",
   "execution_count": 18,
   "metadata": {},
   "outputs": [
    {
     "name": "stdout",
     "output_type": "stream",
     "text": [
      "[[  49735  112969   48711]\n",
      " [  96387  242509   96387]\n",
      " [ -96387 -241485  -95363]]\n",
      "\n",
      "[[  49735.  112969.   48711.]\n",
      " [  96387.  242509.   96387.]\n",
      " [ -96387. -241485.  -95363.]]\n"
     ]
    }
   ],
   "source": [
    "print(A**10)\n",
    "print('')\n",
    "print(P*D**10*P_inv)"
   ]
  },
  {
   "cell_type": "markdown",
   "metadata": {},
   "source": [
    "&#9989; <font color=red>**QUESTION 1:**</font> What is the estimated complexity of multiplying an arbitrary $n\\times n$ matrix by itself $m$ times? (Hint: both $m$ and $n$ should be included in your Big-O notation answer). "
   ]
  },
  {
   "cell_type": "markdown",
   "metadata": {},
   "source": [
    "O(N)^2 * O(M)"
   ]
  },
  {
   "cell_type": "markdown",
   "metadata": {},
   "source": [
    "&#9989; <font color=red>**QUESTION 2:**</font> What is the estimated complexity (Big-O) of diagonalizing an $n \\times n$ symmetric matrix? i.e. what is the complexity of decomposing $A$ into $PDP^{-1}$?"
   ]
  },
  {
   "cell_type": "markdown",
   "metadata": {},
   "source": [
    "O(N)^2"
   ]
  },
  {
   "cell_type": "markdown",
   "metadata": {},
   "source": [
    "&#9989; <font color=red>**QUESTION 3:**</font> What is the estimated complexity (Big-O) of multiplying a diagonlized $n \\times n$ matrix by itself $m$ times? i.e. you already have $A=PDP^{-1}$ calculated what does it cost to calculate $A^m$?"
   ]
  },
  {
   "cell_type": "markdown",
   "metadata": {},
   "source": [
    "O(N)^2 * O(M)"
   ]
  },
  {
   "cell_type": "markdown",
   "metadata": {},
   "source": [
    "### Inverse of an orthonormal matrix $U$ is $U^\\top$\n",
    "    \n",
    "Caluclate the $P$ matrix for the following matrix $A$ such that $A=PDP^{-1}$"
   ]
  },
  {
   "cell_type": "code",
   "execution_count": 27,
   "metadata": {
    "scrolled": true
   },
   "outputs": [
    {
     "data": {
      "text/latex": [
       "$\\displaystyle \\left[\\begin{matrix}1 & -1 & -1\\\\1 & -1 & 1\\\\1 & 2 & 0\\end{matrix}\\right]$"
      ],
      "text/plain": [
       "⎡1  -1  -1⎤\n",
       "⎢         ⎥\n",
       "⎢1  -1  1 ⎥\n",
       "⎢         ⎥\n",
       "⎣1  2   0 ⎦"
      ]
     },
     "execution_count": 27,
     "metadata": {},
     "output_type": "execute_result"
    }
   ],
   "source": [
    "A = np.matrix([[6,-2,-1],[-2,6,-1], [-1,-1,5]])\n",
    "sym.Matrix(A)\n",
    "\n",
    "P = sym.Matrix(A).diagonalize()\n",
    "\n",
    "P[0]"
   ]
  },
  {
   "cell_type": "markdown",
   "metadata": {},
   "source": [
    "&#9989; <font color=red>**DO THIS:**</font> Check the columns of $P$. Are they orthogonal?"
   ]
  },
  {
   "cell_type": "markdown",
   "metadata": {},
   "source": [
    "Yes"
   ]
  },
  {
   "cell_type": "markdown",
   "metadata": {},
   "source": [
    "&#9989; <font color=red>**DO THIS:**</font> Show that in this special case (Where $A$ is symmetric) $A=PDP^\\top$ with a special $P$."
   ]
  },
  {
   "cell_type": "markdown",
   "metadata": {},
   "source": [
    "Put your answer here"
   ]
  },
  {
   "cell_type": "markdown",
   "metadata": {},
   "source": [
    "&#9989; <font color=red>**QUESTION 4:**</font> What do you need to do to invert an arbitrary $n \\times n$ matrix?"
   ]
  },
  {
   "cell_type": "markdown",
   "metadata": {},
   "source": [
    "Put your answer here."
   ]
  },
  {
   "cell_type": "markdown",
   "metadata": {},
   "source": [
    "&#9989; <font color=red>**QUESTION 5:**</font> What do you need to do to invert a $n \\times n$ **orthonormal** matrix?"
   ]
  },
  {
   "cell_type": "markdown",
   "metadata": {},
   "source": [
    "Put your answer here."
   ]
  },
  {
   "cell_type": "markdown",
   "metadata": {},
   "source": [
    "---\n",
    "<a name=\"SVD\"></a>\n",
    "\n",
    "## 3. Singular Value Decomposition (SVD) \n",
    "\n",
    "SVD is not restricted to diagonalizable matrices, for example it can be applied to square non-diagonalizable matrices, as well as to non-square matrices.\n",
    "\n",
    "Now consider the non-square $n \\times m$ matrix $A$"
   ]
  },
  {
   "cell_type": "code",
   "execution_count": 20,
   "metadata": {},
   "outputs": [
    {
     "data": {
      "text/latex": [
       "$\\displaystyle \\left[\\begin{matrix}4 & 11 & 14\\\\8 & 7 & -2\\end{matrix}\\right]$"
      ],
      "text/plain": [
       "⎡4  11  14⎤\n",
       "⎢         ⎥\n",
       "⎣8  7   -2⎦"
      ]
     },
     "execution_count": 20,
     "metadata": {},
     "output_type": "execute_result"
    }
   ],
   "source": [
    "A = np.matrix([[4, 11, 14], [8, 7, -2]])\n",
    "\n",
    "sym.Matrix(A)"
   ]
  },
  {
   "cell_type": "markdown",
   "metadata": {},
   "source": [
    "The following code calculates $A^\\top A=VDV^\\top$:"
   ]
  },
  {
   "cell_type": "code",
   "execution_count": 21,
   "metadata": {},
   "outputs": [
    {
     "data": {
      "text/latex": [
       "$\\displaystyle \\left[\\begin{matrix}80 & 100 & 40\\\\100 & 170 & 140\\\\40 & 140 & 200\\end{matrix}\\right]$"
      ],
      "text/plain": [
       "⎡80   100  40 ⎤\n",
       "⎢             ⎥\n",
       "⎢100  170  140⎥\n",
       "⎢             ⎥\n",
       "⎣40   140  200⎦"
      ]
     },
     "execution_count": 21,
     "metadata": {},
     "output_type": "execute_result"
    }
   ],
   "source": [
    "sym.Matrix(A.T*A)"
   ]
  },
  {
   "cell_type": "code",
   "execution_count": 22,
   "metadata": {},
   "outputs": [
    {
     "data": {
      "text/latex": [
       "$\\displaystyle \\left[\\begin{matrix}-0.333333333333334 & -0.666666666666666 & -0.666666666666667\\\\-0.666666666666666 & -0.333333333333333 & 0.666666666666666\\\\-0.666666666666667 & 0.666666666666667 & -0.333333333333333\\end{matrix}\\right]$"
      ],
      "text/plain": [
       "⎡-0.333333333333334  -0.666666666666666  -0.666666666666667⎤\n",
       "⎢                                                          ⎥\n",
       "⎢-0.666666666666666  -0.333333333333333  0.666666666666666 ⎥\n",
       "⎢                                                          ⎥\n",
       "⎣-0.666666666666667  0.666666666666667   -0.333333333333333⎦"
      ]
     },
     "execution_count": 22,
     "metadata": {},
     "output_type": "execute_result"
    }
   ],
   "source": [
    "eigvals, eigvec = np.linalg.eig(A.T*A)\n",
    "idx = eigvals.argsort()[::-1]   \n",
    "eigvals = eigvals[idx]\n",
    "eigvec = eigvec[:,idx]\n",
    "\n",
    "V = eigvec\n",
    "sym.Matrix(V)"
   ]
  },
  {
   "cell_type": "markdown",
   "metadata": {},
   "source": [
    "&#9989; <font color=red>**DO THIS:**</font>  Calculate $AA^\\top=UDU^\\top$:"
   ]
  },
  {
   "cell_type": "code",
   "execution_count": 23,
   "metadata": {},
   "outputs": [],
   "source": [
    "#Put your answer here"
   ]
  },
  {
   "cell_type": "markdown",
   "metadata": {},
   "source": [
    "The following code calculates $\\Sigma$ by putting the singular values on the diagonal of an $n \\times m$ zero matrix: "
   ]
  },
  {
   "cell_type": "code",
   "execution_count": 24,
   "metadata": {
    "scrolled": true
   },
   "outputs": [
    {
     "name": "stderr",
     "output_type": "stream",
     "text": [
      "<ipython-input-24-75576e06682f>:6: RuntimeWarning: invalid value encountered in sqrt\n",
      "  E[i,i] = np.sqrt(eigvals[i])\n"
     ]
    },
    {
     "ename": "IndexError",
     "evalue": "index 2 is out of bounds for axis 0 with size 2",
     "output_type": "error",
     "traceback": [
      "\u001b[0;31m---------------------------------------------------------------------------\u001b[0m",
      "\u001b[0;31mIndexError\u001b[0m                                Traceback (most recent call last)",
      "\u001b[0;32m<ipython-input-24-75576e06682f>\u001b[0m in \u001b[0;36m<module>\u001b[0;34m\u001b[0m\n\u001b[1;32m      4\u001b[0m \u001b[0;34m\u001b[0m\u001b[0m\n\u001b[1;32m      5\u001b[0m \u001b[0;32mfor\u001b[0m \u001b[0mi\u001b[0m \u001b[0;32min\u001b[0m \u001b[0mrange\u001b[0m\u001b[0;34m(\u001b[0m\u001b[0mlen\u001b[0m\u001b[0;34m(\u001b[0m\u001b[0meigvals\u001b[0m\u001b[0;34m)\u001b[0m\u001b[0;34m)\u001b[0m\u001b[0;34m:\u001b[0m\u001b[0;34m\u001b[0m\u001b[0;34m\u001b[0m\u001b[0m\n\u001b[0;32m----> 6\u001b[0;31m     \u001b[0mE\u001b[0m\u001b[0;34m[\u001b[0m\u001b[0mi\u001b[0m\u001b[0;34m,\u001b[0m\u001b[0mi\u001b[0m\u001b[0;34m]\u001b[0m \u001b[0;34m=\u001b[0m \u001b[0mnp\u001b[0m\u001b[0;34m.\u001b[0m\u001b[0msqrt\u001b[0m\u001b[0;34m(\u001b[0m\u001b[0meigvals\u001b[0m\u001b[0;34m[\u001b[0m\u001b[0mi\u001b[0m\u001b[0;34m]\u001b[0m\u001b[0;34m)\u001b[0m\u001b[0;34m\u001b[0m\u001b[0;34m\u001b[0m\u001b[0m\n\u001b[0m\u001b[1;32m      7\u001b[0m \u001b[0;34m\u001b[0m\u001b[0m\n\u001b[1;32m      8\u001b[0m \u001b[0msym\u001b[0m\u001b[0;34m.\u001b[0m\u001b[0mMatrix\u001b[0m\u001b[0;34m(\u001b[0m\u001b[0mE\u001b[0m\u001b[0;34m)\u001b[0m\u001b[0;34m\u001b[0m\u001b[0;34m\u001b[0m\u001b[0m\n",
      "\u001b[0;31mIndexError\u001b[0m: index 2 is out of bounds for axis 0 with size 2"
     ]
    }
   ],
   "source": [
    "np.sqrt(np.abs(eigvals))*np.identity(1)\n",
    "\n",
    "E = np.zeros(A.shape)\n",
    "\n",
    "for i in range(len(eigvals)):\n",
    "    E[i,i] = np.sqrt(eigvals[i])\n",
    "    \n",
    "sym.Matrix(E)"
   ]
  },
  {
   "cell_type": "markdown",
   "metadata": {},
   "source": [
    "&#9989; <font color=red>**DO THIS:**</font>  Verify that $A=U \\Sigma V^\\top$ or $A=-U\\Sigma V^\\top$. \n",
    "\n",
    "**Note:** $\\sigma_i^2=\\lambda_i$ is an eigenvalue of $A^TA$ and also $AA^T$. When we put the singular values in descending order, $\\sigma_1\\geq \\sigma_2 \\geq \\dots \\sigma_r>0$, they are uniquely determined."
   ]
  },
  {
   "cell_type": "code",
   "execution_count": null,
   "metadata": {},
   "outputs": [],
   "source": [
    "#Put your answer here"
   ]
  },
  {
   "cell_type": "markdown",
   "metadata": {},
   "source": [
    "---------\n",
    "### Congratulations, we're done!\n"
   ]
  }
 ],
 "metadata": {
  "anaconda-cloud": {},
  "kernelspec": {
   "display_name": "Python 3",
   "language": "python",
   "name": "python3"
  },
  "language_info": {
   "codemirror_mode": {
    "name": "ipython",
    "version": 3
   },
   "file_extension": ".py",
   "mimetype": "text/x-python",
   "name": "python",
   "nbconvert_exporter": "python",
   "pygments_lexer": "ipython3",
   "version": "3.8.8"
  }
 },
 "nbformat": 4,
 "nbformat_minor": 2
}
