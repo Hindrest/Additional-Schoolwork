{
 "cells": [
  {
   "cell_type": "code",
   "execution_count": 2,
   "id": "f3939116",
   "metadata": {},
   "outputs": [],
   "source": [
    "import numpy as np\n",
    "import sympy as sym\n",
    "\n",
    "#useful resource https://arminstraub.com/downloads/teaching/linearalgebra-fall14/lecture15.pdf "
   ]
  },
  {
   "cell_type": "markdown",
   "id": "bccafccd",
   "metadata": {},
   "source": [
    "Page 1"
   ]
  },
  {
   "cell_type": "code",
   "execution_count": 3,
   "id": "4bb1de43",
   "metadata": {},
   "outputs": [],
   "source": [
    "B = np.array([[1,1,0],[0,1,1],[1,0,1]])"
   ]
  },
  {
   "cell_type": "code",
   "execution_count": 4,
   "id": "a9231334",
   "metadata": {},
   "outputs": [
    {
     "data": {
      "text/latex": [
       "$\\displaystyle \\left[\\begin{matrix}1 & 0 & 0\\\\0 & 1 & 0\\\\0 & 0 & 1\\end{matrix}\\right]$"
      ],
      "text/plain": [
       "Matrix([\n",
       "[1, 0, 0],\n",
       "[0, 1, 0],\n",
       "[0, 0, 1]])"
      ]
     },
     "execution_count": 4,
     "metadata": {},
     "output_type": "execute_result"
    }
   ],
   "source": [
    "#1)\n",
    "\n",
    "#We can prove that B is a basis for R^3 by determining if the vectors are linearly independent\n",
    "\n",
    "#Vectors are linearly independent if essentially all vectors in the matrice can equal zero\n",
    "\n",
    "sym.Matrix(B).rref()[0]\n",
    "\n",
    "#We can see that each vector in the array will equal zero in our rref form"
   ]
  },
  {
   "cell_type": "code",
   "execution_count": 5,
   "id": "2ee9e22a",
   "metadata": {},
   "outputs": [
    {
     "data": {
      "text/plain": [
       "3"
      ]
     },
     "execution_count": 5,
     "metadata": {},
     "output_type": "execute_result"
    }
   ],
   "source": [
    "np.linalg.det(B)\n",
    "\n",
    "#RANK SHOULD BE THE SAME AS THE SPACE OF THE MATRIX. ELSE, IT IS NOT A BASIS\n",
    "\n",
    "np.linalg.matrix_rank(B)"
   ]
  },
  {
   "cell_type": "code",
   "execution_count": 6,
   "id": "874ecd2d",
   "metadata": {},
   "outputs": [
    {
     "data": {
      "text/plain": [
       "array([[ 5.],\n",
       "       [ 0.],\n",
       "       [-2.]])"
      ]
     },
     "execution_count": 6,
     "metadata": {},
     "output_type": "execute_result"
    }
   ],
   "source": [
    "#2)\n",
    "\n",
    "#B * B_vb = V\n",
    "\n",
    "#V is the original vector\n",
    "\n",
    "#Vb is the representation\n",
    "\n",
    "v = np.array([[5],[-2],[3]])\n",
    "\n",
    "v_b = np.linalg.solve(B,v)\n",
    "\n",
    "#Can also do the inverse\n",
    "\n",
    "v_b"
   ]
  },
  {
   "cell_type": "code",
   "execution_count": 7,
   "id": "c58415ea",
   "metadata": {},
   "outputs": [
    {
     "data": {
      "text/plain": [
       "array([[ 5, -2,  0],\n",
       "       [ 0, -2,  3],\n",
       "       [ 5,  0,  3]])"
      ]
     },
     "execution_count": 7,
     "metadata": {},
     "output_type": "execute_result"
    }
   ],
   "source": [
    "#3)\n",
    "v = np.array([5,-2,3])\n",
    "\n",
    "B * v"
   ]
  },
  {
   "cell_type": "markdown",
   "id": "47fd3e80",
   "metadata": {},
   "source": [
    "Page 2"
   ]
  },
  {
   "cell_type": "markdown",
   "id": "3b6202cd",
   "metadata": {},
   "source": [
    "1) When viewed as a transformation, the eigenvector A scales the eigenvalue v by 2, then reflects it\n",
    "\n",
    "Av = -2v\n",
    "\n",
    "For eigenvalues, Av = lambda * v\n",
    "\n",
    "In this, -2 is an eigenvalue of A with an eigenvector v\n",
    "\n",
    "\n",
    "2) False"
   ]
  },
  {
   "cell_type": "code",
   "execution_count": 8,
   "id": "afe6bf55",
   "metadata": {},
   "outputs": [],
   "source": [
    "#3)\n",
    "\n",
    "A = np.array([[2,5],[3,7]])\n",
    "v = np.array([[8],[3]])"
   ]
  },
  {
   "cell_type": "markdown",
   "id": "0f2cffd2",
   "metadata": {},
   "source": [
    "Page 3"
   ]
  },
  {
   "cell_type": "code",
   "execution_count": 9,
   "id": "3d606a13",
   "metadata": {},
   "outputs": [],
   "source": [
    "A = np.array([[9,-3,0],[-3,2,-1],[0,-1,5]])"
   ]
  },
  {
   "cell_type": "code",
   "execution_count": 17,
   "id": "3ef5da31",
   "metadata": {},
   "outputs": [
    {
     "data": {
      "text/plain": [
       "3"
      ]
     },
     "execution_count": 17,
     "metadata": {},
     "output_type": "execute_result"
    }
   ],
   "source": [
    "np.linalg."
   ]
  },
  {
   "cell_type": "code",
   "execution_count": 16,
   "id": "3db6688b",
   "metadata": {},
   "outputs": [
    {
     "data": {
      "text/plain": [
       "(3, 3)"
      ]
     },
     "execution_count": 16,
     "metadata": {},
     "output_type": "execute_result"
    }
   ],
   "source": [
    "np.shape(sym.Matrix(A).rank())"
   ]
  },
  {
   "cell_type": "markdown",
   "id": "26d7c482",
   "metadata": {},
   "source": [
    "Page 4"
   ]
  },
  {
   "cell_type": "markdown",
   "id": "ddf9f179",
   "metadata": {},
   "source": [
    "1) The dimension of row space n is 1\n",
    "\n",
    "2) The rank of A is 1\n",
    "\n",
    "3) The dimension of column space is 1"
   ]
  },
  {
   "cell_type": "code",
   "execution_count": null,
   "id": "1bf93d0e",
   "metadata": {},
   "outputs": [],
   "source": []
  },
  {
   "cell_type": "code",
   "execution_count": null,
   "id": "b8d06827",
   "metadata": {},
   "outputs": [],
   "source": []
  },
  {
   "cell_type": "code",
   "execution_count": null,
   "id": "4c5983a8",
   "metadata": {},
   "outputs": [],
   "source": []
  }
 ],
 "metadata": {
  "kernelspec": {
   "display_name": "Python 3",
   "language": "python",
   "name": "python3"
  },
  "language_info": {
   "codemirror_mode": {
    "name": "ipython",
    "version": 3
   },
   "file_extension": ".py",
   "mimetype": "text/x-python",
   "name": "python",
   "nbconvert_exporter": "python",
   "pygments_lexer": "ipython3",
   "version": "3.8.8"
  }
 },
 "nbformat": 4,
 "nbformat_minor": 5
}
