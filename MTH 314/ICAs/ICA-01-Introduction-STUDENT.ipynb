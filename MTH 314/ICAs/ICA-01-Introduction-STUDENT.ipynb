{
 "cells": [
  {
   "cell_type": "markdown",
   "metadata": {},
   "source": [
    "# 01 In-Class Assignment: Welcome to CMSE/MTH 314 - Matrix Algebra with Computational Applications"
   ]
  },
  {
   "cell_type": "markdown",
   "metadata": {},
   "source": [
    "What can you solve with $Ax=b$?\n",
    "\n",
    "<img src=\"https://upload.wikimedia.org/wikipedia/commons/thumb/2/2f/Linear_subspaces_with_shading.svg/650px-Linear_subspaces_with_shading.svg.png\" alt=\"Visual image of three planes intersecting. This is a common image used in linear algebra and will be explained in detail laater in the semester.  It is included here mostly as a visual anchor that can help students when they review their notes. \">\n",
    "\n",
    "Image from [http://wikipedia.org/](http://wikipedia.org/)\n"
   ]
  },
  {
   "cell_type": "markdown",
   "metadata": {},
   "source": [
    "### Agenda for today's class (80 minutes)\n",
    "\n",
    "1. [(25 minutes) Syllabus, Schedule and other Procedures](#Syllabus_and_Schedule)\n",
    "2. [(5 minutes) Introductions](#Introductions)\n",
    "3. [(10 minutes) Class Procedures](#Class_Procedures)\n",
    "4. [(20 minutes) Example](#Example)\n",
    "5. [(5 minutes) Download and review next pre-class assignment](#Download_and_review_next_pre-class_assignment)"
   ]
  },
  {
   "cell_type": "markdown",
   "metadata": {},
   "source": [
    "----\n",
    "<a name=\"Syllabus_and_Schedule\"></a>\n",
    "## 1. Syllabus, Schedule and other Procedures\n",
    "Let us now use the time to review the course syllabus, schedule and other procedures.  "
   ]
  },
  {
   "cell_type": "markdown",
   "metadata": {},
   "source": [
    "---\n",
    "<a name=\"Example\"></a>\n",
    "## 2. Introductions:\n",
    "\n",
    "Get into groups as directed by your instructor. Take a few minutes to introduce yourself to your groupmates."
   ]
  },
  {
   "cell_type": "markdown",
   "metadata": {},
   "source": [
    "---\n",
    "<a name=\"Class_Procedures\"></a>\n",
    "## 3. Class Procedures\n",
    "\n",
    "All in-class assignments are designed such that you can get started as soon as you show up in class. This is highly recommended.  See how far you can get on your own and then you will be ready when it is time for questions.   Here are the basic instructions."
   ]
  },
  {
   "cell_type": "markdown",
   "metadata": {},
   "source": [
    "### &#9989; Step 1 - Get out your laptop\n",
    "\n"
   ]
  },
  {
   "cell_type": "markdown",
   "metadata": {},
   "source": [
    "### &#9989; Step 2 - Create a Course Assignment Folder in your home directory\n",
    "\n",
    "\n",
    "> **_HINT_** Store all notebooks in the same folder on your computer. They will work better that way."
   ]
  },
  {
   "cell_type": "markdown",
   "metadata": {},
   "source": [
    "### &#9989; Step 3 - Download this jupyter notebook\n",
    "\n",
    "> Download a copy of this notebook (ipynb file which tands for ipython notebook). \n"
   ]
  },
  {
   "cell_type": "markdown",
   "metadata": {},
   "source": [
    "### &#9989; Step 4 - Open this assignment in Jupyter\n",
    "\n",
    "> Open the downloaded file inside of jupyter either on your laptop or upload the file to an on-line server and open it there.  \n"
   ]
  },
  {
   "cell_type": "markdown",
   "metadata": {},
   "source": [
    "###MSU###\n",
    "\n",
    "### &#9989; Step 5 - Activate your engineering account \n",
    "\n",
    "> When you enrolled in class you should have received an engineering login.  Go to the following URL to activate the account and set your password.\n",
    "\n",
    "> \n",
    "> * https://www.egr.msu.edu/decs/myaccount/?page=activate\n",
    "> \n",
    ">**_NOTE:_** The Default DECS password is APID then the @ symbol. \n",
    ">\n",
    ">**_ALSO NOTE:_** Anyone not enrolled in the course will likely not have an account. \n",
    "\n",
    "###MSU###"
   ]
  },
  {
   "cell_type": "markdown",
   "metadata": {},
   "source": [
    "### &#9989; Step 6 - Log onto the Engineering JupyterHub Website\n",
    "\n",
    "> http://jupyterhub.egr.msu.edu\n",
    "\n",
    "###MSU###"
   ]
  },
  {
   "cell_type": "markdown",
   "metadata": {},
   "source": [
    "### &#9989; Step 7 - Upload this notebook to newly created folder on Jupyterhub\n",
    "\n",
    "> Once the notebook is uploaded, open it.\n",
    "\n",
    "###MSU###"
   ]
  },
  {
   "cell_type": "markdown",
   "metadata": {},
   "source": [
    "###MSU###\n",
    "\n",
    "### &#9989; Step 8 - Sign in to the course Piazza forum.\n",
    "\n",
    "\n",
    "> We will be using Piazza for all asynchronous in-class discussions.  We use Piazza and our Help Sessions as the primary ways to communicate with students outside of class.  \n",
    ">\n",
    "> To join the course Piazza forum please use the following link:\n",
    "> \n",
    "> - [Link to join Piazza](https://piazza.com/msu/fall2022/mth314 )\n",
    "\n",
    "###MSU###"
   ]
  },
  {
   "cell_type": "markdown",
   "metadata": {},
   "source": [
    "Note: For this course, it is perfectly fine to run Jupyter notebooks on your computer instead of on JupyterHub if you prefer to do so. However, if something goes wrong, it is possible that your instructor/TA/LAs will not be able to troubleshoot the problem. For this reason, we strongly suggest making sure you can run Jupyter notebooks on JupyterHub. "
   ]
  },
  {
   "cell_type": "markdown",
   "metadata": {},
   "source": [
    "---\n",
    "<a name=\"Example\"></a>\n",
    "## 4. Example:\n",
    "\n",
    "Suppose that we have three objects on a balanced beam. Also suppose we know that one has a mass of 2 kg, and we want to find the two unknown masses. Experimentation with a (assume weightless) meter stick produces these two balances. (diagram not to scale)\n",
    " \n",
    "<img src=\"https://lh6.googleusercontent.com/S-glvU6hZySH682ocl1T_2jNWL7S2MUCQeyDFgEZM8GPZ4xLjEkeD9KKsU5otJF0zfgcQtT-zQ=w740\" align=\"center\" width=\"70%\" alt=\"Image showing two balanced beams, each with three weights. In the top beam is unknown weight A is a distance of 40 to the left of the fulcrum, unknown weight B is a distance of 15 to the left of the fulcrum and a weight of 2 is 50 to the right of the fulcrum. In the bottom beam is the same unknown weights.  Weight A is now a distance of 50 to the right of the fulcrum, weight B is a distance of 25 to the left of the fulcrum and the weight of 2 is a distance of 25 to the right of the fulcrum.\">\n",
    "\n",
    "For the masses to balance we must have the sum of the moments on the left equal to the sum of the moments on the right, where the moment of an object is its mass times its distance from the balance point.   That gives a system of two  equations:\n",
    "\n",
    "$$40A + 15B = 50 \\times 2$$\n",
    "$$25B = 25 \\times 2 + 50A$$\n"
   ]
  },
  {
   "cell_type": "markdown",
   "metadata": {},
   "source": [
    "&#9989; **<span style=\"color:red\">Do This:</span>** Find a solution for the above system of equations and place your solution in the following cell."
   ]
  },
  {
   "cell_type": "code",
   "execution_count": 1,
   "metadata": {},
   "outputs": [],
   "source": [
    "# Put your answer to the above question here\n",
    "\n",
    "\n",
    "A = 1\n",
    "\n",
    "\n",
    "B = 4"
   ]
  },
  {
   "cell_type": "markdown",
   "metadata": {},
   "source": [
    "Let us use the following code to test your functon further.  Note that this uses the ```answercheck``` function provided by your instructors. The cell below including ```answercheck.py``` in your working directory."
   ]
  },
  {
   "cell_type": "code",
   "execution_count": 2,
   "metadata": {},
   "outputs": [],
   "source": [
    "import os.path\n",
    "from urllib.request import urlretrieve\n",
    "if not os.path.isfile(\"answercheck.py\"):\n",
    "    urlretrieve('https://raw.githubusercontent.com/colbrydi/jupytercheck/master/answercheck.py', 'answercheck.py');"
   ]
  },
  {
   "cell_type": "markdown",
   "metadata": {},
   "source": [
    "Now, run the cell below to see if your solution to the system of equations was correct."
   ]
  },
  {
   "cell_type": "code",
   "execution_count": 3,
   "metadata": {},
   "outputs": [
    {
     "name": "stdout",
     "output_type": "stream",
     "text": [
      "Testing 1\n",
      "Answer seems to be correct\n",
      "\n",
      "Testing 4\n",
      "Answer seems to be correct\n",
      "\n"
     ]
    },
    {
     "data": {
      "text/plain": [
       "<answercheck.checkanswer at 0x7fcf68175dc0>"
      ]
     },
     "execution_count": 3,
     "metadata": {},
     "output_type": "execute_result"
    }
   ],
   "source": [
    "from answercheck import checkanswer\n",
    "\n",
    "checkanswer(A,'c4ca4238a0b923820dcc509a6f75849b')\n",
    "checkanswer(B,'a87ff679a2f3e71d9181a67b7542122c')\n",
    "\n",
    "# If for some reason you put your answer as a float instead of an integer, use these lines instead.\n",
    "#checkanswer.float(A,'e4c2e8edac362acab7123654b9e73432')\n",
    "#checkanswer.float(B,'07078a97d66756f213dbca3e379bf084')"
   ]
  },
  {
   "cell_type": "markdown",
   "metadata": {},
   "source": [
    "&#9989; **<span style=\"color:red\">Do This:</span>** Using Python as a calculator, verify that the solution you have found is correct.  \n",
    "\n"
   ]
  },
  {
   "cell_type": "code",
   "execution_count": null,
   "metadata": {},
   "outputs": [],
   "source": [
    "# Put your answer to the above question here"
   ]
  },
  {
   "cell_type": "markdown",
   "metadata": {},
   "source": [
    "Now suppose we have three unknown masses instead of two. Experimentation with a meter stick produces the two balanced states shown below (diagram not to scale, the masses A and B are not necesarily the same as in the previous scenario). \n",
    "\n",
    "<img src=\"https://lh5.googleusercontent.com/lw_dWSYcWURCr552UwgFmCKqPWByDDUDicBuq0UT7vllHzJm7uG_S9f6K8p70ix9J6SRD2UdWQ=w740\" width=\"70%\" alt=\"Image showing two balanced beams, each with four weights. In the top beam is unknown weight A which is a distance of 35 to the left of the fulcrum, unknown weight B is a distance of 21 to the left of the fulcrum, unknown weight C is a distance of 11 to the right of the fulcrum and a weight of 2 is 50 to the right of the fulcrum. In the bottom beam is the same unknown weights.  Weight A is now a distance of 10 to the right of the fulcrum, weight B is a distance of 24 to the right of the fulcrum, weight C is a distance of 25 to the left of the fulcrum and the weight of 2 is still at a distance of 50 to the right of the fulcrum.\">\n"
   ]
  },
  {
   "cell_type": "markdown",
   "metadata": {},
   "source": [
    "&#9989; **<span style=\"color:red\">Do This Individually:</span>** Write the equations for this system below."
   ]
  },
  {
   "cell_type": "markdown",
   "metadata": {},
   "source": [
    "&#9989; **<span style=\"color:red\">Do This Individually:</span>** Find a solution to the previous system of equations and report the mass for objects A, B and C."
   ]
  },
  {
   "cell_type": "code",
   "execution_count": null,
   "metadata": {},
   "outputs": [],
   "source": [
    "# Put your answer to the above question here\n",
    "A = \n",
    "B = \n",
    "C = "
   ]
  },
  {
   "cell_type": "markdown",
   "metadata": {},
   "source": [
    "&#9989; **<span style=\"color:red\">Do This Individually:</span>** Using Python as a calculator, verify that the solution you have found satisfies the two equations."
   ]
  },
  {
   "cell_type": "code",
   "execution_count": null,
   "metadata": {},
   "outputs": [],
   "source": [
    "# Put your answer to the above question here"
   ]
  },
  {
   "cell_type": "markdown",
   "metadata": {},
   "source": [
    "&#9989; **<span style=\"color:red\">Group Discussion:</span>** First, verify that everyone found the same system of two equations involving the three masses A, B, and C. Then, check if everyone found the same solution (A,B,C) to the system of equations. If your group found multiple solutions, collectively verify that all of them work. Then as a group, answer the following questions with some explaination:\n",
    "\n",
    "a) Do you think there are other solutions to the system that your group didn't find? \n",
    "\n",
    "b) Do you have enough information to determine the masses of the three objects? If not, what would you need to do to determine the masses of the three objects?\n",
    "\n",
    "c) Person 1 claims that object A has a mass of $8$ kg, while Person 2 claims that object A has a mass of $4$ kg. Can you conclusively say if either or both of them are wrong?\n",
    "\n",
    "&#9989; **<span style=\"color:red\">Do This:</span>** Briefly summarize your group's discussion below."
   ]
  },
  {
   "cell_type": "markdown",
   "metadata": {},
   "source": [
    "----\n",
    "<a name=\"Download_and_review_next_pre-class_assignment\"></a>\n",
    "##  5. Download and review next pre-class assignment\n",
    "I will try my best to post each weeks pre-class assignments before noon on Fridays.  Note pre-class assignments are generally due at 11:59pm ET the day before class. To get credit for the pre-class assignment you will need to complete the Jupyter notebook and submit your answers to the short quiz/survey on D2L.\n",
    "\n",
    "Your next Pre-class assignment should be available on D2L. \n"
   ]
  },
  {
   "cell_type": "markdown",
   "metadata": {},
   "source": [
    "\n",
    "### Upcomming Assignment Due Dates:\n",
    "\n",
    "Pay attention to the schedule. Every class has a pre-class assignment that should be completed. There is also a major assignment due almost every week (either a quiz or a homework). \n",
    "\n",
    "- **<span style=\"color:red\">You will have a pre-class assignment and corresponding D2L quiz due by 11:59PM the day before each class from here on.</span>**\n",
    "- **<span style=\"color:red\">Your First Homework is due Friday, September 23rd by 10:00 AM.</span>**\n",
    "- **<span style=\"color:red\">Your First Quiz is the following week</span>** (during class September 28th (for MW sections) or September 29th (for TR sections))."
   ]
  },
  {
   "cell_type": "markdown",
   "metadata": {},
   "source": [
    "----\n",
    "\n",
    "Written mostly by Dr. Dirk Colbry, Michigan State University, with some modifications by Dr. Santhosh Karnik, Michigan State University.\n",
    "\n",
    "<a rel=\"license\" href=\"http://creativecommons.org/licenses/by-nc/4.0/\"><img alt=\"Creative Commons License\" style=\"border-width:0\" src=\"https://i.creativecommons.org/l/by-nc/4.0/88x31.png\" /></a>\n",
    "\n",
    "This work is licensed under a <a rel=\"license\" href=\"http://creativecommons.org/licenses/by-nc/4.0/\">Creative Commons Attribution-NonCommercial 4.0 International License</a>."
   ]
  },
  {
   "cell_type": "markdown",
   "metadata": {},
   "source": [
    "###STARTFOOTER###\n",
    "\n",
    "-----\n",
    "### Congratulations, we're done!\n",
    "\n",
    "If you attend class in-person then have one of the instructors check your notebook and sign you out before leaving class. If you are attending asynchronously, turn in your assignment using D2L."
   ]
  },
  {
   "cell_type": "markdown",
   "metadata": {},
   "source": [
    "----"
   ]
  }
 ],
 "metadata": {
  "kernelspec": {
   "display_name": "Python 3",
   "language": "python",
   "name": "python3"
  },
  "language_info": {
   "codemirror_mode": {
    "name": "ipython",
    "version": 3
   },
   "file_extension": ".py",
   "mimetype": "text/x-python",
   "name": "python",
   "nbconvert_exporter": "python",
   "pygments_lexer": "ipython3",
   "version": "3.8.8"
  }
 },
 "nbformat": 4,
 "nbformat_minor": 4
}
