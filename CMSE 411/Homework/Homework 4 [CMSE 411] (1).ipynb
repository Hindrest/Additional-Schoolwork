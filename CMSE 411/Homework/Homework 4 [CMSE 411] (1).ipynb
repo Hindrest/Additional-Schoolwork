{
 "cells": [
  {
   "cell_type": "code",
   "execution_count": 131,
   "id": "e7070e89",
   "metadata": {},
   "outputs": [],
   "source": [
    "import numpy as np\n",
    "import pandas as pd\n",
    "import math\n",
    "import matplotlib.pyplot as plt\n",
    "import statistics\n",
    "import seaborn as sns\n",
    "import statsmodels.api as sm\n",
    "\n",
    "from scipy import stats\n",
    "from sklearn.utils import shuffle\n",
    "from sklearn.model_selection import StratifiedKFold\n",
    "from sklearn.ensemble import RandomForestClassifier\n",
    "from statsmodels.sandbox.stats.multicomp import multipletests\n",
    "from sklearn.model_selection import train_test_split\n",
    "from sklearn.model_selection import KFold\n",
    "from sklearn.linear_model import LogisticRegression\n",
    "from sklearn import metrics\n",
    "from sklearn.metrics import accuracy_score"
   ]
  },
  {
   "cell_type": "code",
   "execution_count": 2,
   "id": "39667819",
   "metadata": {},
   "outputs": [],
   "source": [
    "myc_data = pd.read_csv('model_data.txt',delimiter='\\t')"
   ]
  },
  {
   "cell_type": "code",
   "execution_count": 3,
   "id": "26e124a4",
   "metadata": {},
   "outputs": [
    {
     "data": {
      "text/html": [
       "<div>\n",
       "<style scoped>\n",
       "    .dataframe tbody tr th:only-of-type {\n",
       "        vertical-align: middle;\n",
       "    }\n",
       "\n",
       "    .dataframe tbody tr th {\n",
       "        vertical-align: top;\n",
       "    }\n",
       "\n",
       "    .dataframe thead th {\n",
       "        text-align: right;\n",
       "    }\n",
       "</style>\n",
       "<table border=\"1\" class=\"dataframe\">\n",
       "  <thead>\n",
       "    <tr style=\"text-align: right;\">\n",
       "      <th></th>\n",
       "      <th>Myc</th>\n",
       "      <th>label</th>\n",
       "    </tr>\n",
       "  </thead>\n",
       "  <tbody>\n",
       "    <tr>\n",
       "      <th>0</th>\n",
       "      <td>3.119271</td>\n",
       "      <td>1</td>\n",
       "    </tr>\n",
       "    <tr>\n",
       "      <th>1</th>\n",
       "      <td>3.995941</td>\n",
       "      <td>1</td>\n",
       "    </tr>\n",
       "    <tr>\n",
       "      <th>2</th>\n",
       "      <td>4.207210</td>\n",
       "      <td>1</td>\n",
       "    </tr>\n",
       "    <tr>\n",
       "      <th>3</th>\n",
       "      <td>3.234658</td>\n",
       "      <td>1</td>\n",
       "    </tr>\n",
       "    <tr>\n",
       "      <th>4</th>\n",
       "      <td>2.484833</td>\n",
       "      <td>1</td>\n",
       "    </tr>\n",
       "    <tr>\n",
       "      <th>...</th>\n",
       "      <td>...</td>\n",
       "      <td>...</td>\n",
       "    </tr>\n",
       "    <tr>\n",
       "      <th>1995</th>\n",
       "      <td>1.388014</td>\n",
       "      <td>0</td>\n",
       "    </tr>\n",
       "    <tr>\n",
       "      <th>1996</th>\n",
       "      <td>1.635738</td>\n",
       "      <td>0</td>\n",
       "    </tr>\n",
       "    <tr>\n",
       "      <th>1997</th>\n",
       "      <td>2.293207</td>\n",
       "      <td>0</td>\n",
       "    </tr>\n",
       "    <tr>\n",
       "      <th>1998</th>\n",
       "      <td>2.235580</td>\n",
       "      <td>0</td>\n",
       "    </tr>\n",
       "    <tr>\n",
       "      <th>1999</th>\n",
       "      <td>1.814879</td>\n",
       "      <td>0</td>\n",
       "    </tr>\n",
       "  </tbody>\n",
       "</table>\n",
       "<p>2000 rows × 2 columns</p>\n",
       "</div>"
      ],
      "text/plain": [
       "           Myc  label\n",
       "0     3.119271      1\n",
       "1     3.995941      1\n",
       "2     4.207210      1\n",
       "3     3.234658      1\n",
       "4     2.484833      1\n",
       "...        ...    ...\n",
       "1995  1.388014      0\n",
       "1996  1.635738      0\n",
       "1997  2.293207      0\n",
       "1998  2.235580      0\n",
       "1999  1.814879      0\n",
       "\n",
       "[2000 rows x 2 columns]"
      ]
     },
     "execution_count": 3,
     "metadata": {},
     "output_type": "execute_result"
    }
   ],
   "source": [
    "myc_data"
   ]
  },
  {
   "cell_type": "markdown",
   "id": "0d79aa58",
   "metadata": {},
   "source": [
    "<h1> $$ Question\\space  1.1$$\n"
   ]
  },
  {
   "cell_type": "markdown",
   "id": "f6dc36ad",
   "metadata": {},
   "source": []
  },
  {
   "cell_type": "markdown",
   "id": "c8aff591",
   "metadata": {},
   "source": [
    "<h1> $$ Question\\space  1.2$$"
   ]
  },
  {
   "cell_type": "code",
   "execution_count": 145,
   "id": "0d2dcab0",
   "metadata": {},
   "outputs": [],
   "source": [
    "LG_myc = LogisticRegression().fit(myc_data,myc_data['label'])"
   ]
  },
  {
   "cell_type": "code",
   "execution_count": 146,
   "id": "6703a294",
   "metadata": {},
   "outputs": [],
   "source": [
    "predicted_data = LG_myc.predict_proba(myc_data)"
   ]
  },
  {
   "cell_type": "code",
   "execution_count": 147,
   "id": "e0c8264d",
   "metadata": {},
   "outputs": [],
   "source": [
    "X = predicted_data[:,0]\n",
    "y = predicted_data[:,1]"
   ]
  },
  {
   "cell_type": "code",
   "execution_count": 148,
   "id": "279cf003",
   "metadata": {},
   "outputs": [
    {
     "data": {
      "text/plain": [
       "array([[0.00988723, 0.99011277],\n",
       "       [0.00643234, 0.99356766],\n",
       "       [0.00579813, 0.99420187],\n",
       "       ...,\n",
       "       [0.99275871, 0.00724129],\n",
       "       [0.99296066, 0.00703934],\n",
       "       [0.9942749 , 0.0057251 ]])"
      ]
     },
     "execution_count": 148,
     "metadata": {},
     "output_type": "execute_result"
    }
   ],
   "source": [
    "predicted_data"
   ]
  },
  {
   "cell_type": "code",
   "execution_count": 149,
   "id": "16abe428",
   "metadata": {},
   "outputs": [
    {
     "data": {
      "text/plain": [
       "<AxesSubplot:>"
      ]
     },
     "execution_count": 149,
     "metadata": {},
     "output_type": "execute_result"
    },
    {
     "data": {
      "image/png": "[encoded data removed]",
      "text/plain": [
       "<Figure size 432x288 with 1 Axes>"
      ]
     },
     "metadata": {
      "needs_background": "light"
     },
     "output_type": "display_data"
    }
   ],
   "source": [
    "sns.regplot(x=X, y=y, data=myc_data, logistic=True, ci=None)"
   ]
  },
  {
   "cell_type": "markdown",
   "id": "b5120aa9",
   "metadata": {},
   "source": [
    "<h1> $$ Question\\space  1.3$$"
   ]
  },
  {
   "cell_type": "code",
   "execution_count": 150,
   "id": "2cfc655e",
   "metadata": {},
   "outputs": [
    {
     "name": "stderr",
     "output_type": "stream",
     "text": [
      "/opt/anaconda3/lib/python3.8/site-packages/sklearn/metrics/_ranking.py:949: UndefinedMetricWarning: No positive samples in y_true, true positive value should be meaningless\n",
      "  warnings.warn(\"No positive samples in y_true, \"\n"
     ]
    }
   ],
   "source": [
    "fpr, tpr, thresholds = metrics.roc_curve(myc_data['label'],y,pos_label=2)"
   ]
  },
  {
   "cell_type": "code",
   "execution_count": 151,
   "id": "0a3de30a",
   "metadata": {},
   "outputs": [
    {
     "name": "stdout",
     "output_type": "stream",
     "text": [
      "[0.00e+00 5.00e-04 9.99e-01 1.00e+00]\n",
      "\n",
      "[nan nan nan nan]\n",
      "\n",
      "[1.99844525 0.99844525 0.00244621 0.00234212]\n"
     ]
    }
   ],
   "source": [
    "print(fpr)\n",
    "print('')\n",
    "print(tpr)\n",
    "print('')\n",
    "print(thresholds)"
   ]
  },
  {
   "cell_type": "code",
   "execution_count": 153,
   "id": "e0c01008",
   "metadata": {},
   "outputs": [
    {
     "data": {
      "text/plain": [
       "0.49633317308531344"
      ]
     },
     "execution_count": 153,
     "metadata": {},
     "output_type": "execute_result"
    }
   ],
   "source": [
    "metrics.auc(myc_data['label'],y)\n",
    "#metrics.auc(X,y)"
   ]
  },
  {
   "cell_type": "markdown",
   "id": "2f515932",
   "metadata": {},
   "source": [
    "<h1> $$ Question\\space  1.4$$"
   ]
  },
  {
   "cell_type": "code",
   "execution_count": 34,
   "id": "957427e7",
   "metadata": {},
   "outputs": [],
   "source": [
    "kf = KFold(n_splits=5, random_state=None)"
   ]
  },
  {
   "cell_type": "code",
   "execution_count": 50,
   "id": "e02ea506",
   "metadata": {},
   "outputs": [
    {
     "name": "stdout",
     "output_type": "stream",
     "text": [
      "TRAIN: [ 400  401  402 ... 1997 1998 1999] TEST: [  0   1   2   3   4   5   6   7   8   9  10  11  12  13  14  15  16  17\n",
      "  18  19  20  21  22  23  24  25  26  27  28  29  30  31  32  33  34  35\n",
      "  36  37  38  39  40  41  42  43  44  45  46  47  48  49  50  51  52  53\n",
      "  54  55  56  57  58  59  60  61  62  63  64  65  66  67  68  69  70  71\n",
      "  72  73  74  75  76  77  78  79  80  81  82  83  84  85  86  87  88  89\n",
      "  90  91  92  93  94  95  96  97  98  99 100 101 102 103 104 105 106 107\n",
      " 108 109 110 111 112 113 114 115 116 117 118 119 120 121 122 123 124 125\n",
      " 126 127 128 129 130 131 132 133 134 135 136 137 138 139 140 141 142 143\n",
      " 144 145 146 147 148 149 150 151 152 153 154 155 156 157 158 159 160 161\n",
      " 162 163 164 165 166 167 168 169 170 171 172 173 174 175 176 177 178 179\n",
      " 180 181 182 183 184 185 186 187 188 189 190 191 192 193 194 195 196 197\n",
      " 198 199 200 201 202 203 204 205 206 207 208 209 210 211 212 213 214 215\n",
      " 216 217 218 219 220 221 222 223 224 225 226 227 228 229 230 231 232 233\n",
      " 234 235 236 237 238 239 240 241 242 243 244 245 246 247 248 249 250 251\n",
      " 252 253 254 255 256 257 258 259 260 261 262 263 264 265 266 267 268 269\n",
      " 270 271 272 273 274 275 276 277 278 279 280 281 282 283 284 285 286 287\n",
      " 288 289 290 291 292 293 294 295 296 297 298 299 300 301 302 303 304 305\n",
      " 306 307 308 309 310 311 312 313 314 315 316 317 318 319 320 321 322 323\n",
      " 324 325 326 327 328 329 330 331 332 333 334 335 336 337 338 339 340 341\n",
      " 342 343 344 345 346 347 348 349 350 351 352 353 354 355 356 357 358 359\n",
      " 360 361 362 363 364 365 366 367 368 369 370 371 372 373 374 375 376 377\n",
      " 378 379 380 381 382 383 384 385 386 387 388 389 390 391 392 393 394 395\n",
      " 396 397 398 399]\n",
      "TRAIN: [   0    1    2 ... 1997 1998 1999] TEST: [400 401 402 403 404 405 406 407 408 409 410 411 412 413 414 415 416 417\n",
      " 418 419 420 421 422 423 424 425 426 427 428 429 430 431 432 433 434 435\n",
      " 436 437 438 439 440 441 442 443 444 445 446 447 448 449 450 451 452 453\n",
      " 454 455 456 457 458 459 460 461 462 463 464 465 466 467 468 469 470 471\n",
      " 472 473 474 475 476 477 478 479 480 481 482 483 484 485 486 487 488 489\n",
      " 490 491 492 493 494 495 496 497 498 499 500 501 502 503 504 505 506 507\n",
      " 508 509 510 511 512 513 514 515 516 517 518 519 520 521 522 523 524 525\n",
      " 526 527 528 529 530 531 532 533 534 535 536 537 538 539 540 541 542 543\n",
      " 544 545 546 547 548 549 550 551 552 553 554 555 556 557 558 559 560 561\n",
      " 562 563 564 565 566 567 568 569 570 571 572 573 574 575 576 577 578 579\n",
      " 580 581 582 583 584 585 586 587 588 589 590 591 592 593 594 595 596 597\n",
      " 598 599 600 601 602 603 604 605 606 607 608 609 610 611 612 613 614 615\n",
      " 616 617 618 619 620 621 622 623 624 625 626 627 628 629 630 631 632 633\n",
      " 634 635 636 637 638 639 640 641 642 643 644 645 646 647 648 649 650 651\n",
      " 652 653 654 655 656 657 658 659 660 661 662 663 664 665 666 667 668 669\n",
      " 670 671 672 673 674 675 676 677 678 679 680 681 682 683 684 685 686 687\n",
      " 688 689 690 691 692 693 694 695 696 697 698 699 700 701 702 703 704 705\n",
      " 706 707 708 709 710 711 712 713 714 715 716 717 718 719 720 721 722 723\n",
      " 724 725 726 727 728 729 730 731 732 733 734 735 736 737 738 739 740 741\n",
      " 742 743 744 745 746 747 748 749 750 751 752 753 754 755 756 757 758 759\n",
      " 760 761 762 763 764 765 766 767 768 769 770 771 772 773 774 775 776 777\n",
      " 778 779 780 781 782 783 784 785 786 787 788 789 790 791 792 793 794 795\n",
      " 796 797 798 799]\n",
      "TRAIN: [   0    1    2 ... 1997 1998 1999] TEST: [ 800  801  802  803  804  805  806  807  808  809  810  811  812  813\n",
      "  814  815  816  817  818  819  820  821  822  823  824  825  826  827\n",
      "  828  829  830  831  832  833  834  835  836  837  838  839  840  841\n",
      "  842  843  844  845  846  847  848  849  850  851  852  853  854  855\n",
      "  856  857  858  859  860  861  862  863  864  865  866  867  868  869\n",
      "  870  871  872  873  874  875  876  877  878  879  880  881  882  883\n",
      "  884  885  886  887  888  889  890  891  892  893  894  895  896  897\n",
      "  898  899  900  901  902  903  904  905  906  907  908  909  910  911\n",
      "  912  913  914  915  916  917  918  919  920  921  922  923  924  925\n",
      "  926  927  928  929  930  931  932  933  934  935  936  937  938  939\n",
      "  940  941  942  943  944  945  946  947  948  949  950  951  952  953\n",
      "  954  955  956  957  958  959  960  961  962  963  964  965  966  967\n",
      "  968  969  970  971  972  973  974  975  976  977  978  979  980  981\n",
      "  982  983  984  985  986  987  988  989  990  991  992  993  994  995\n",
      "  996  997  998  999 1000 1001 1002 1003 1004 1005 1006 1007 1008 1009\n",
      " 1010 1011 1012 1013 1014 1015 1016 1017 1018 1019 1020 1021 1022 1023\n",
      " 1024 1025 1026 1027 1028 1029 1030 1031 1032 1033 1034 1035 1036 1037\n",
      " 1038 1039 1040 1041 1042 1043 1044 1045 1046 1047 1048 1049 1050 1051\n",
      " 1052 1053 1054 1055 1056 1057 1058 1059 1060 1061 1062 1063 1064 1065\n",
      " 1066 1067 1068 1069 1070 1071 1072 1073 1074 1075 1076 1077 1078 1079\n",
      " 1080 1081 1082 1083 1084 1085 1086 1087 1088 1089 1090 1091 1092 1093\n",
      " 1094 1095 1096 1097 1098 1099 1100 1101 1102 1103 1104 1105 1106 1107\n",
      " 1108 1109 1110 1111 1112 1113 1114 1115 1116 1117 1118 1119 1120 1121\n",
      " 1122 1123 1124 1125 1126 1127 1128 1129 1130 1131 1132 1133 1134 1135\n",
      " 1136 1137 1138 1139 1140 1141 1142 1143 1144 1145 1146 1147 1148 1149\n",
      " 1150 1151 1152 1153 1154 1155 1156 1157 1158 1159 1160 1161 1162 1163\n",
      " 1164 1165 1166 1167 1168 1169 1170 1171 1172 1173 1174 1175 1176 1177\n",
      " 1178 1179 1180 1181 1182 1183 1184 1185 1186 1187 1188 1189 1190 1191\n",
      " 1192 1193 1194 1195 1196 1197 1198 1199]\n",
      "TRAIN: [   0    1    2 ... 1997 1998 1999] TEST: [1200 1201 1202 1203 1204 1205 1206 1207 1208 1209 1210 1211 1212 1213\n",
      " 1214 1215 1216 1217 1218 1219 1220 1221 1222 1223 1224 1225 1226 1227\n",
      " 1228 1229 1230 1231 1232 1233 1234 1235 1236 1237 1238 1239 1240 1241\n",
      " 1242 1243 1244 1245 1246 1247 1248 1249 1250 1251 1252 1253 1254 1255\n",
      " 1256 1257 1258 1259 1260 1261 1262 1263 1264 1265 1266 1267 1268 1269\n",
      " 1270 1271 1272 1273 1274 1275 1276 1277 1278 1279 1280 1281 1282 1283\n",
      " 1284 1285 1286 1287 1288 1289 1290 1291 1292 1293 1294 1295 1296 1297\n",
      " 1298 1299 1300 1301 1302 1303 1304 1305 1306 1307 1308 1309 1310 1311\n",
      " 1312 1313 1314 1315 1316 1317 1318 1319 1320 1321 1322 1323 1324 1325\n",
      " 1326 1327 1328 1329 1330 1331 1332 1333 1334 1335 1336 1337 1338 1339\n",
      " 1340 1341 1342 1343 1344 1345 1346 1347 1348 1349 1350 1351 1352 1353\n",
      " 1354 1355 1356 1357 1358 1359 1360 1361 1362 1363 1364 1365 1366 1367\n",
      " 1368 1369 1370 1371 1372 1373 1374 1375 1376 1377 1378 1379 1380 1381\n",
      " 1382 1383 1384 1385 1386 1387 1388 1389 1390 1391 1392 1393 1394 1395\n",
      " 1396 1397 1398 1399 1400 1401 1402 1403 1404 1405 1406 1407 1408 1409\n",
      " 1410 1411 1412 1413 1414 1415 1416 1417 1418 1419 1420 1421 1422 1423\n",
      " 1424 1425 1426 1427 1428 1429 1430 1431 1432 1433 1434 1435 1436 1437\n",
      " 1438 1439 1440 1441 1442 1443 1444 1445 1446 1447 1448 1449 1450 1451\n",
      " 1452 1453 1454 1455 1456 1457 1458 1459 1460 1461 1462 1463 1464 1465\n",
      " 1466 1467 1468 1469 1470 1471 1472 1473 1474 1475 1476 1477 1478 1479\n",
      " 1480 1481 1482 1483 1484 1485 1486 1487 1488 1489 1490 1491 1492 1493\n",
      " 1494 1495 1496 1497 1498 1499 1500 1501 1502 1503 1504 1505 1506 1507\n",
      " 1508 1509 1510 1511 1512 1513 1514 1515 1516 1517 1518 1519 1520 1521\n",
      " 1522 1523 1524 1525 1526 1527 1528 1529 1530 1531 1532 1533 1534 1535\n",
      " 1536 1537 1538 1539 1540 1541 1542 1543 1544 1545 1546 1547 1548 1549\n",
      " 1550 1551 1552 1553 1554 1555 1556 1557 1558 1559 1560 1561 1562 1563\n",
      " 1564 1565 1566 1567 1568 1569 1570 1571 1572 1573 1574 1575 1576 1577\n",
      " 1578 1579 1580 1581 1582 1583 1584 1585 1586 1587 1588 1589 1590 1591\n",
      " 1592 1593 1594 1595 1596 1597 1598 1599]\n",
      "TRAIN: [   0    1    2 ... 1597 1598 1599] TEST: [1600 1601 1602 1603 1604 1605 1606 1607 1608 1609 1610 1611 1612 1613\n",
      " 1614 1615 1616 1617 1618 1619 1620 1621 1622 1623 1624 1625 1626 1627\n",
      " 1628 1629 1630 1631 1632 1633 1634 1635 1636 1637 1638 1639 1640 1641\n",
      " 1642 1643 1644 1645 1646 1647 1648 1649 1650 1651 1652 1653 1654 1655\n",
      " 1656 1657 1658 1659 1660 1661 1662 1663 1664 1665 1666 1667 1668 1669\n",
      " 1670 1671 1672 1673 1674 1675 1676 1677 1678 1679 1680 1681 1682 1683\n",
      " 1684 1685 1686 1687 1688 1689 1690 1691 1692 1693 1694 1695 1696 1697\n",
      " 1698 1699 1700 1701 1702 1703 1704 1705 1706 1707 1708 1709 1710 1711\n",
      " 1712 1713 1714 1715 1716 1717 1718 1719 1720 1721 1722 1723 1724 1725\n",
      " 1726 1727 1728 1729 1730 1731 1732 1733 1734 1735 1736 1737 1738 1739\n",
      " 1740 1741 1742 1743 1744 1745 1746 1747 1748 1749 1750 1751 1752 1753\n",
      " 1754 1755 1756 1757 1758 1759 1760 1761 1762 1763 1764 1765 1766 1767\n",
      " 1768 1769 1770 1771 1772 1773 1774 1775 1776 1777 1778 1779 1780 1781\n",
      " 1782 1783 1784 1785 1786 1787 1788 1789 1790 1791 1792 1793 1794 1795\n",
      " 1796 1797 1798 1799 1800 1801 1802 1803 1804 1805 1806 1807 1808 1809\n",
      " 1810 1811 1812 1813 1814 1815 1816 1817 1818 1819 1820 1821 1822 1823\n",
      " 1824 1825 1826 1827 1828 1829 1830 1831 1832 1833 1834 1835 1836 1837\n",
      " 1838 1839 1840 1841 1842 1843 1844 1845 1846 1847 1848 1849 1850 1851\n",
      " 1852 1853 1854 1855 1856 1857 1858 1859 1860 1861 1862 1863 1864 1865\n",
      " 1866 1867 1868 1869 1870 1871 1872 1873 1874 1875 1876 1877 1878 1879\n",
      " 1880 1881 1882 1883 1884 1885 1886 1887 1888 1889 1890 1891 1892 1893\n",
      " 1894 1895 1896 1897 1898 1899 1900 1901 1902 1903 1904 1905 1906 1907\n",
      " 1908 1909 1910 1911 1912 1913 1914 1915 1916 1917 1918 1919 1920 1921\n",
      " 1922 1923 1924 1925 1926 1927 1928 1929 1930 1931 1932 1933 1934 1935\n",
      " 1936 1937 1938 1939 1940 1941 1942 1943 1944 1945 1946 1947 1948 1949\n",
      " 1950 1951 1952 1953 1954 1955 1956 1957 1958 1959 1960 1961 1962 1963\n",
      " 1964 1965 1966 1967 1968 1969 1970 1971 1972 1973 1974 1975 1976 1977\n",
      " 1978 1979 1980 1981 1982 1983 1984 1985 1986 1987 1988 1989 1990 1991\n",
      " 1992 1993 1994 1995 1996 1997 1998 1999]\n",
      "\n",
      "average accuracy score is: 0.5255\n"
     ]
    }
   ],
   "source": [
    "model = LogisticRegression(solver = 'liblinear')\n",
    "X = myc_data['Myc']\n",
    "y = myc_data['label']\n",
    "acc_score = []\n",
    "k = 5\n",
    "\n",
    "for train_index, test_index in kf.split(X):\n",
    "    print(\"TRAIN:\", train_index, \"TEST:\", test_index)\n",
    "    X_train, X_test = X[train_index], X[test_index]\n",
    "    y_train, y_test = y[train_index], y[test_index]\n",
    "    model.fit((np.array(X_train)).reshape(len(X_train),1),(np.array(y_train)))\n",
    "    pred_values = model.predict((np.array(X_test)).reshape(len(X_test),1))\n",
    "    acc = accuracy_score(pred_values, y_test)\n",
    "    acc_score.append(acc)\n",
    "\n",
    "average_acc_score = sum(acc_score) / k\n",
    "\n",
    "print('')\n",
    "print('average accuracy score is:',average_acc_score)"
   ]
  },
  {
   "cell_type": "code",
   "execution_count": 51,
   "id": "28378cb1",
   "metadata": {},
   "outputs": [
    {
     "data": {
      "text/plain": [
       "[<matplotlib.lines.Line2D at 0x7fee0838c280>]"
      ]
     },
     "execution_count": 51,
     "metadata": {},
     "output_type": "execute_result"
    },
    {
     "data": {
      "image/png": "[encoded data removed]",
      "text/plain": [
       "<Figure size 432x288 with 1 Axes>"
      ]
     },
     "metadata": {
      "needs_background": "light"
     },
     "output_type": "display_data"
    }
   ],
   "source": [
    "plt.plot(X_test,y_test)"
   ]
  },
  {
   "cell_type": "markdown",
   "id": "32312e7d",
   "metadata": {},
   "source": [
    "<h1> $$ Question\\space  1.5$$"
   ]
  },
  {
   "cell_type": "markdown",
   "id": "008ebbac",
   "metadata": {},
   "source": [
    "Yes, I would say that the model is efficient enough to handle patients from a control"
   ]
  },
  {
   "cell_type": "markdown",
   "id": "c4e570d4",
   "metadata": {},
   "source": [
    "<h1> $$ Question\\space  2.1$$"
   ]
  },
  {
   "cell_type": "code",
   "execution_count": 17,
   "id": "9b2d2539",
   "metadata": {},
   "outputs": [],
   "source": [
    "seq_data = []\n",
    "\n",
    "with open('sequence_motif.txt') as f:\n",
    "    text = f.read()\n",
    "\n",
    "for i in range(len(text)):\n",
    "    seq_data.append(text[i])"
   ]
  },
  {
   "cell_type": "code",
   "execution_count": 18,
   "id": "c74d04d8",
   "metadata": {},
   "outputs": [
    {
     "name": "stdout",
     "output_type": "stream",
     "text": [
      "['a', 'a', 'g', 'c', 'c', 't', 'g', 'c', 'c', 't', 't', 'T', 'A', 'A', 'T', 'G', 'C', 't', 'g', 'g', 'g', 'g', 'c', 't', 'g', 't', 'c', 'c', 'a', 't', 'c', 't', 'a', 'g', 'c', 'g', 'g', 'c', 't', 'c', 'c', 'a', 't', 'a', 'a', 'c', 't', 'g', 't', 'c', 't', 'c', 'c', 'c', 'a', 't', 't', 'a', 'g', 't', 'a', 't', 'c', 'c', 'a', 'c', 'c', 't', 'a', 'g', 'g', 'c', 'g', 'c', 'a', 'a', 'a', 'a', 'c', 'c', 'a', 'g', 'c', 'c', 'c', 'c', 'c', 'c', 'c', 'g', 't', 'g', 'g', 'c', 'a', 'g', 'g', 't', 'a', 't', '\\n', 'a', 'a', 't', 'a', 'c', 'g', 'c', 'c', 'g', 'a', 'c', 't', 'c', 't', 'a', 'g', 'g', 'g', 'c', 'a', 'c', 'g', 'c', 'a', 't', 't', 't', 'a', 't', 't', 'c', 'c', 'g', 'a', 'T', 'A', 'A', 'T', 'G', 'T', 'g', 't', 'g', 'g', 'g', 'c', 'c', 'g', 'a', 't', 'a', 'c', 't', 't', 'c', 'a', 't', 'g', 't', 'c', 'g', 'g', 't', 'c', 'g', 'a', 'c', 'g', 'g', 'a', 'g', 'g', 'a', 't', 'a', 'g', 'a', 't', 't', 'c', 'g', 'g', 'g', 't', 'a', 'c', 'c', 'g', 'c', 'a', 't', 'c', 'g', 'c', 'c', 'c', 't', 't', 'a', 'g', '\\n', 'c', 't', 't', 'c', 'a', 'c', 'a', 'a', 'a', 'c', 'c', 't', 'g', 'c', 't', 't', 't', 'g', 'a', 'a', 'c', 'A', 'A', 'A', 'T', 'G', 'T', 'a', 'c', 'a', 'g', 'g', 'a', 'c', 'a', 'g', 'c', 't', 't', 'a', 'a', 'a', 'a', 'a', 'g', 't', 'a', 'g', 'c', 'a', 'g', 'c', 'c', 'c', 't', 't', 'c', 'g', 'g', 'g', 'g', 'g', 't', 't', 'c', 'c', 'c', 't', 'c', 'g', 'a', 'a', 'g', 'c', 'a', 'a', 'c', 'a', 'a', 'g', 'g', 't', 'a', 'a', 'g', 't', 'c', 'a', 't', 'a', 'g', 't', 'c', 'g', 'g', 'a', 't', 'g', 't', 'c', '\\n', 'c', 'c', 'a', 't', 'a', 'a', 'c', 't', 'g', 'c', 'c', 'c', 't', 'g', 't', 't', 'a', 'g', 't', 'c', 't', 'g', 'g', 'a', 't', 'c', 't', 'c', 't', 'c', 'g', 'g', 'a', 'a', 't', 'g', 'g', 'c', 'g', 'g', 'g', 'c', 'a', 'g', 't', 'a', 'a', 't', 'c', 'c', 'g', 'g', 't', 't', 't', 'c', 'c', 't', 'g', 't', 't', 'c', 'c', 'a', 'a', 't', 'c', 'T', 'A', 'A', 'T', 'C', 'C', 'c', 'g', 'c', 'g', 'a', 'a', 'g', 'a', 'g', 't', 'a', 'c', 't', 't', 'a', 'a', 'g', 'a', 't', 'a', 't', 'c', 'g', 'c', 'a', 'c', 't', '\\n', 'c', 't', 'a', 't', 't', 'a', 't', 'c', 'c', 'c', 'a', 'g', 'c', 't', 't', 'g', 'g', 'g', 'a', 't', 'a', 't', 'a', 'a', 'a', 'a', 't', 'a', 'a', 'g', 'a', 'a', 'c', 'c', 't', 'g', 'c', 'c', 'a', 'g', 'g', 'c', 'a', 't', 'c', 'a', 'T', 'A', 'A', 'T', 'G', 'C', 'g', 'a', 't', 'a', 't', 't', 'g', 'g', 'a', 't', 't', 'c', 't', 'a', 't', 'a', 't', 'c', 't', 'a', 'c', 't', 'c', 'g', 'g', 't', 'c', 'a', 'a', 'g', 't', 'g', 'a', 'a', 'c', 'a', 'g', 'c', 'g', 'a', 'a', 'g', 'a', 'g', 't', 'c', 'g', 'c', '\\n', 'g', 'g', 'a', 'c', 't', 'c', 'c', 'c', 'a', 'g', 'g', 'c', 'a', 'a', 'g', 't', 't', 'g', 'a', 'c', 't', 'a', 't', 'a', 't', 't', 'c', 'a', 'g', 'a', 't', 'g', 'a', 'g', 'g', 'a', 't', 'g', 'g', 'a', 't', 'c', 't', 'c', 'a', 'c', 'c', 'a', 'g', 'a', 'a', 'c', 'a', 't', 'g', 't', 'g', 't', 't', 't', 'g', 'a', 'c', 'g', 'g', 'a', 't', 'g', 'a', 't', 'g', 'c', 't', 'c', 'a', 'c', 'a', 't', 'a', 'c', 'g', 'g', 'g', 'a', 'a', 'c', 'g', 't', 'c', 'g', 'A', 'A', 'A', 'T', 'G', 'C', 'a', 'a', 'g', 'a', '\\n', 't', 'c', 'g', 'a', 'g', 'g', 't', 'c', 't', 'g', 'c', 'c', 't', 'g', 'g', 't', 'a', 't', 'G', 'A', 'A', 'T', 'G', 'A', 't', 'g', 't', 'c', 't', 'c', 'c', 'c', 't', 'a', 'c', 'a', 'g', 't', 'g', 'a', 'g', 't', 'g', 'c', 'g', 't', 't', 't', 'a', 'a', 'c', 'a', 't', 't', 'a', 'c', 'g', 'a', 'g', 't', 't', 'a', 'c', 't', 'g', 'c', 'g', 'a', 'c', 'a', 't', 't', 'a', 't', 'g', 'a', 't', 'g', 't', 't', 'c', 'c', 'c', 't', 't', 'a', 't', 'a', 'a', 'a', 'c', 't', 't', 'a', 'g', 'a', 't', 'a', 't', 'g', '\\n', 'a', 'g', 'g', 'g', 'c', 'c', 'a', 'a', 'g', 't', 't', 'c', 'c', 't', 'c', 'a', 't', 'g', 't', 'c', 'a', 'a', 'c', 't', 'g', 't', 't', 'c', 'a', 'g', 'a', 'c', 'g', 'a', 'c', 'c', 't', 'c', 'a', 'g', 'g', 't', 'c', 'g', 'c', 't', 'g', 'a', 't', 'c', 'g', 't', 'c', 't', 'g', 'c', 'c', 'a', 'T', 'A', 'C', 'T', 'G', 'C', 't', 't', 'c', 'c', 'c', 'a', 'c', 't', 'g', 't', 'a', 'g', 'c', 'g', 'a', 'g', 'g', 'g', 'g', 'a', 'c', 'a', 'a', 'g', 'c', 't', 'c', 'a', 't', 't', 'c', 'a', 'g', 'g', 'c', 't', '\\n', 'c', 'c', 'a', 't', 'c', 'c', 't', 'a', 'c', 'g', 'c', 'a', 'c', 'c', 't', 'a', 'a', 'g', 'a', 'a', 'a', 't', 'a', 'a', 'c', 'g', 'a', 't', 't', 'c', 't', 't', 'T', 'A', 'A', 'T', 'C', 'T', 'a', 'g', 'a', 't', 'a', 'a', 't', 'g', 'c', 'c', 'a', 'g', 'a', 'g', 'a', 't', 'g', 'g', 'c', 't', 'c', 'c', 'c', 'a', 'a', 't', 'c', 't', 'g', 't', 'a', 'c', 'a', 'g', 'c', 'a', 't', 'c', 'a', 'g', 't', 'a', 't', 'g', 't', 'c', 'g', 'c', 'g', 'g', 'a', 'c', 'g', 'a', 'g', 'g', 't', 'c', 'c', 'a', 't', 'c', '\\n', 't', 't', 'a', 'g', 'c', 'c', 'g', 'g', 't', 'g', 'g', 'c', 'a', 'a', 'a', 'a', 't', 't', 'a', 't', 'c', 'g', 'a', 't', 'c', 'g', 't', 'c', 'g', 'a', 'c', 't', 'g', 't', 'a', 'c', 'c', 'a', 'c', 'c', 't', 't', 'a', 't', 'a', 't', 'a', 't', 'g', 't', 'c', 'c', 'a', 't', 'g', 'c', 'a', 'g', 't', 'a', 'a', 'a', 't', 'g', 'c', 't', 'a', 'c', 'g', 'c', 't', 'a', 't', 'T', 'A', 'A', 'T', 'G', 'C', 'a', 'g', 'c', 'g', 't', 't', 'c', 't', 't', 'g', 'a', 'c', 'a', 'a', 't', 'a', 'a', 'c', 'c', 't', 'c', '\\n', 'c', 'g', 't', 'c', 'g', 't', 'c', 'a', 'c', 'g', 'g', 'a', 'g', 'g', 'c', 'c', 'a', 'c', 'g', 'c', 't', 'g', 'g', 'c', 'c', 't', 't', 't', 'g', 't', 'g', 't', 'a', 't', 'g', 'a', 'g', 'g', 't', 'a', 'c', 'c', 'g', 'a', 'T', 'A', 'A', 'T', 'G', 'C', 'g', 'g', 'g', 'c', 'a', 'g', 'c', 't', 'a', 'c', 't', 't', 'g', 't', 'g', 't', 'a', 'g', 'g', 'c', 'g', 'g', 't', 'g', 'g', 't', 'g', 'c', 'a', 'a', 'a', 'c', 'c', 'a', 'g', 'g', 'c', 'a', 'a', 't', 'c', 'a', 'g', 'g', 'g', 'g', 'c', 'c', 't', 'g', '\\n', 'a', 'g', 'c', 'a', 'c', 't', 'c', 'c', 'g', 'c', 'g', 't', 't', 'a', 't', 'g', 'c', 'a', 'a', 'c', 't', 'c', 'g', 't', 'c', 't', 'g', 'c', 'g', 'a', 'c', 'c', 'c', 'g', 'c', 'c', 't', 't', 't', 'c', 'g', 't', 'c', 't', 't', 't', 'a', 'c', 'a', 'c', 't', 'a', 't', 'a', 't', 't', 'g', 'g', 'c', 'g', 't', 't', 'c', 't', 't', 't', 'a', 't', 't', 'G', 'A', 'A', 'G', 'G', 'C', 'c', 'c', 'a', 't', 'c', 't', 'a', 'a', 't', 'a', 'c', 'c', 'c', 't', 't', 'a', 'a', 'a', 'g', 'a', 't', 'c', 'c', 't', 'a']\n"
     ]
    }
   ],
   "source": [
    "print(seq_data)"
   ]
  },
  {
   "cell_type": "code",
   "execution_count": 19,
   "id": "ca9e6cf8",
   "metadata": {},
   "outputs": [],
   "source": [
    "binding_sites = []\n",
    "\n",
    "for i in range(len(seq_data)):\n",
    "    if seq_data[i].isupper():\n",
    "        binding_sites.append(seq_data[i])"
   ]
  },
  {
   "cell_type": "code",
   "execution_count": 20,
   "id": "dc8275ac",
   "metadata": {},
   "outputs": [],
   "source": [
    "A = 0\n",
    "T = 0\n",
    "C = 0\n",
    "G = 0\n",
    "\n",
    "\n",
    "for i in range(len(seq_data)):\n",
    "    if seq_data[i] == 'A':\n",
    "        A += 1\n",
    "    if seq_data[i] == 'G':\n",
    "        G += 1\n",
    "    if seq_data[i] == 'T':\n",
    "        T += 1\n",
    "    if seq_data[i] == 'C':\n",
    "        C += 1"
   ]
  },
  {
   "cell_type": "code",
   "execution_count": 21,
   "id": "55e5d110",
   "metadata": {},
   "outputs": [
    {
     "name": "stdout",
     "output_type": "stream",
     "text": [
      "['T', 'A', 'A', 'T', 'G', 'C', 'T', 'A', 'A', 'T', 'G', 'T', 'A', 'A', 'A', 'T', 'G', 'T', 'T', 'A', 'A', 'T', 'C', 'C', 'T', 'A', 'A', 'T', 'G', 'C', 'A', 'A', 'A', 'T', 'G', 'C', 'G', 'A', 'A', 'T', 'G', 'A', 'T', 'A', 'C', 'T', 'G', 'C', 'T', 'A', 'A', 'T', 'C', 'T', 'T', 'A', 'A', 'T', 'G', 'C', 'T', 'A', 'A', 'T', 'G', 'C', 'G', 'A', 'A', 'G', 'G', 'C']\n"
     ]
    }
   ],
   "source": [
    "print(binding_sites)"
   ]
  },
  {
   "cell_type": "code",
   "execution_count": 22,
   "id": "01ba629b",
   "metadata": {},
   "outputs": [
    {
     "name": "stdout",
     "output_type": "stream",
     "text": [
      "Frequency Matrix: [156.  66. 132.  78.]\n",
      "\n",
      "Position Weight Matrix [A,C,T,G]: [7.28540222 6.04439412 7.04439412 6.28540222]\n"
     ]
    }
   ],
   "source": [
    "#divide the frequency matrix by 0.25 (the background frequency of each nucleotide) and take the log2 of result.\n",
    "\n",
    "freq_matrix = np.array([A,C,T,G]) / (1/6)\n",
    "\n",
    "print('Frequency Matrix:',freq_matrix)\n",
    "\n",
    "Position_Weight_Matrix = np.log2(freq_matrix)\n",
    "print('')\n",
    "\n",
    "print('Position Weight Matrix [A,C,T,G]:',Position_Weight_Matrix)"
   ]
  },
  {
   "cell_type": "code",
   "execution_count": 23,
   "id": "450894df",
   "metadata": {},
   "outputs": [],
   "source": [
    "Position_Weight_Matrix = 0"
   ]
  },
  {
   "cell_type": "markdown",
   "id": "12bc93a6",
   "metadata": {},
   "source": [
    "<h1> $$ Question\\space  2.2$$"
   ]
  },
  {
   "cell_type": "markdown",
   "id": "a0b4943f",
   "metadata": {},
   "source": [
    "The heights of the different nucleotides represent how much information the nucleotides have"
   ]
  },
  {
   "cell_type": "markdown",
   "id": "4267872a",
   "metadata": {},
   "source": [
    "<h1> $$ Question\\space  3.1$$"
   ]
  },
  {
   "cell_type": "code",
   "execution_count": 27,
   "id": "1e1d3461",
   "metadata": {},
   "outputs": [],
   "source": [
    "enhancer_data = pd.read_csv('enhancer_histone.txt',delimiter='\\t')"
   ]
  },
  {
   "cell_type": "code",
   "execution_count": 28,
   "id": "4080156d",
   "metadata": {},
   "outputs": [
    {
     "data": {
      "text/html": [
       "<div>\n",
       "<style scoped>\n",
       "    .dataframe tbody tr th:only-of-type {\n",
       "        vertical-align: middle;\n",
       "    }\n",
       "\n",
       "    .dataframe tbody tr th {\n",
       "        vertical-align: top;\n",
       "    }\n",
       "\n",
       "    .dataframe thead th {\n",
       "        text-align: right;\n",
       "    }\n",
       "</style>\n",
       "<table border=\"1\" class=\"dataframe\">\n",
       "  <thead>\n",
       "    <tr style=\"text-align: right;\">\n",
       "      <th></th>\n",
       "      <th>ID</th>\n",
       "      <th>label</th>\n",
       "      <th>H3k4me1</th>\n",
       "      <th>H3k4me3</th>\n",
       "      <th>H3k27ac</th>\n",
       "      <th>H3k27me3</th>\n",
       "      <th>H3k36me3</th>\n",
       "    </tr>\n",
       "  </thead>\n",
       "  <tbody>\n",
       "    <tr>\n",
       "      <th>0</th>\n",
       "      <td>enhancer_1</td>\n",
       "      <td>1</td>\n",
       "      <td>0.000168</td>\n",
       "      <td>1.089799</td>\n",
       "      <td>3.706677</td>\n",
       "      <td>1.839418</td>\n",
       "      <td>1.000414</td>\n",
       "    </tr>\n",
       "    <tr>\n",
       "      <th>1</th>\n",
       "      <td>enhancer_2</td>\n",
       "      <td>1</td>\n",
       "      <td>0.355099</td>\n",
       "      <td>0.000000</td>\n",
       "      <td>2.247742</td>\n",
       "      <td>1.591764</td>\n",
       "      <td>0.000000</td>\n",
       "    </tr>\n",
       "    <tr>\n",
       "      <th>2</th>\n",
       "      <td>enhancer_3</td>\n",
       "      <td>1</td>\n",
       "      <td>0.001236</td>\n",
       "      <td>0.000000</td>\n",
       "      <td>2.940914</td>\n",
       "      <td>0.814211</td>\n",
       "      <td>2.696122</td>\n",
       "    </tr>\n",
       "    <tr>\n",
       "      <th>3</th>\n",
       "      <td>enhancer_4</td>\n",
       "      <td>1</td>\n",
       "      <td>0.690140</td>\n",
       "      <td>0.000000</td>\n",
       "      <td>0.687331</td>\n",
       "      <td>0.000000</td>\n",
       "      <td>0.527291</td>\n",
       "    </tr>\n",
       "    <tr>\n",
       "      <th>4</th>\n",
       "      <td>enhancer_5</td>\n",
       "      <td>1</td>\n",
       "      <td>1.376770</td>\n",
       "      <td>0.631267</td>\n",
       "      <td>2.090756</td>\n",
       "      <td>1.581667</td>\n",
       "      <td>0.793976</td>\n",
       "    </tr>\n",
       "    <tr>\n",
       "      <th>...</th>\n",
       "      <td>...</td>\n",
       "      <td>...</td>\n",
       "      <td>...</td>\n",
       "      <td>...</td>\n",
       "      <td>...</td>\n",
       "      <td>...</td>\n",
       "      <td>...</td>\n",
       "    </tr>\n",
       "    <tr>\n",
       "      <th>995</th>\n",
       "      <td>control_496</td>\n",
       "      <td>0</td>\n",
       "      <td>1.539002</td>\n",
       "      <td>0.499277</td>\n",
       "      <td>0.000000</td>\n",
       "      <td>1.934047</td>\n",
       "      <td>0.000000</td>\n",
       "    </tr>\n",
       "    <tr>\n",
       "      <th>996</th>\n",
       "      <td>control_497</td>\n",
       "      <td>0</td>\n",
       "      <td>0.004665</td>\n",
       "      <td>0.356522</td>\n",
       "      <td>0.000000</td>\n",
       "      <td>1.646765</td>\n",
       "      <td>0.198733</td>\n",
       "    </tr>\n",
       "    <tr>\n",
       "      <th>997</th>\n",
       "      <td>control_498</td>\n",
       "      <td>0</td>\n",
       "      <td>0.368634</td>\n",
       "      <td>2.356287</td>\n",
       "      <td>1.937731</td>\n",
       "      <td>0.684271</td>\n",
       "      <td>1.801650</td>\n",
       "    </tr>\n",
       "    <tr>\n",
       "      <th>998</th>\n",
       "      <td>control_499</td>\n",
       "      <td>0</td>\n",
       "      <td>0.000000</td>\n",
       "      <td>1.668051</td>\n",
       "      <td>0.000000</td>\n",
       "      <td>1.213437</td>\n",
       "      <td>0.403462</td>\n",
       "    </tr>\n",
       "    <tr>\n",
       "      <th>999</th>\n",
       "      <td>control_500</td>\n",
       "      <td>0</td>\n",
       "      <td>1.177402</td>\n",
       "      <td>0.000000</td>\n",
       "      <td>1.970539</td>\n",
       "      <td>0.119612</td>\n",
       "      <td>0.777841</td>\n",
       "    </tr>\n",
       "  </tbody>\n",
       "</table>\n",
       "<p>1000 rows × 7 columns</p>\n",
       "</div>"
      ],
      "text/plain": [
       "              ID  label   H3k4me1   H3k4me3   H3k27ac  H3k27me3  H3k36me3\n",
       "0     enhancer_1      1  0.000168  1.089799  3.706677  1.839418  1.000414\n",
       "1     enhancer_2      1  0.355099  0.000000  2.247742  1.591764  0.000000\n",
       "2     enhancer_3      1  0.001236  0.000000  2.940914  0.814211  2.696122\n",
       "3     enhancer_4      1  0.690140  0.000000  0.687331  0.000000  0.527291\n",
       "4     enhancer_5      1  1.376770  0.631267  2.090756  1.581667  0.793976\n",
       "..           ...    ...       ...       ...       ...       ...       ...\n",
       "995  control_496      0  1.539002  0.499277  0.000000  1.934047  0.000000\n",
       "996  control_497      0  0.004665  0.356522  0.000000  1.646765  0.198733\n",
       "997  control_498      0  0.368634  2.356287  1.937731  0.684271  1.801650\n",
       "998  control_499      0  0.000000  1.668051  0.000000  1.213437  0.403462\n",
       "999  control_500      0  1.177402  0.000000  1.970539  0.119612  0.777841\n",
       "\n",
       "[1000 rows x 7 columns]"
      ]
     },
     "execution_count": 28,
     "metadata": {},
     "output_type": "execute_result"
    }
   ],
   "source": [
    "enhancer_data"
   ]
  },
  {
   "cell_type": "code",
   "execution_count": 156,
   "id": "f5e07020",
   "metadata": {},
   "outputs": [],
   "source": [
    "#P represents partitions in accordance with the columns of the original data\n",
    "\n",
    "p_one, p_two, p_three, p_four, p_five = shuffle(enhancer_data['H3k4me1'],enhancer_data['H3k4me3'],\n",
    "                    enhancer_data['H3k27ac'],enhancer_data['H3k27me3'], enhancer_data['H3k36me3'])\n",
    "\n",
    "p_label = shuffle(enhancer_data['label'])"
   ]
  },
  {
   "cell_type": "code",
   "execution_count": 184,
   "id": "6218e190",
   "metadata": {},
   "outputs": [
    {
     "data": {
      "text/plain": [
       "660    0.140345\n",
       "291    3.798905\n",
       "411    4.019728\n",
       "685    0.000000\n",
       "570    0.000000\n",
       "         ...   \n",
       "697    1.424927\n",
       "931    0.000000\n",
       "518    0.966867\n",
       "716    0.000000\n",
       "347    0.099942\n",
       "Name: H3k4me1, Length: 1000, dtype: float64"
      ]
     },
     "execution_count": 184,
     "metadata": {},
     "output_type": "execute_result"
    }
   ],
   "source": [
    "np.shape(([[p_one],[p_two]]))\n",
    "\n",
    "p_one\n",
    "\n",
    "#np.shape(X)"
   ]
  },
  {
   "cell_type": "code",
   "execution_count": 158,
   "id": "509204c5",
   "metadata": {},
   "outputs": [
    {
     "name": "stdout",
     "output_type": "stream",
     "text": [
      "StratifiedKFold(n_splits=2, random_state=None, shuffle=False)\n",
      "TRAIN: [3 4] TEST: [0 1 2]\n",
      "TRAIN: [0 1 2] TEST: [3 4]\n"
     ]
    }
   ],
   "source": [
    "X = np.array([[p_one],[p_two],[p_three],[p_four],[p_five]])\n",
    "y = np.array([0,1,1,0,1])\n",
    "skf = StratifiedKFold(n_splits=2)\n",
    "skf.get_n_splits(X, y)\n",
    "print(skf)\n",
    "StratifiedKFold(n_splits=2, random_state=None, shuffle=False)\n",
    "for train_index, test_index in skf.split(X, y):\n",
    "    print(\"TRAIN:\", train_index, \"TEST:\", test_index)\n",
    "    X_train, X_test = X[train_index], X[test_index]\n",
    "    y_train, y_test = y[train_index], y[test_index]"
   ]
  },
  {
   "cell_type": "code",
   "execution_count": 139,
   "id": "11de7773",
   "metadata": {},
   "outputs": [],
   "source": [
    "clf = RandomForestClassifier()"
   ]
  },
  {
   "cell_type": "code",
   "execution_count": 182,
   "id": "23b5fb0b",
   "metadata": {},
   "outputs": [
    {
     "ename": "ValueError",
     "evalue": "Found array with dim 3. Estimator expected <= 2.",
     "output_type": "error",
     "traceback": [
      "\u001b[0;31m---------------------------------------------------------------------------\u001b[0m",
      "\u001b[0;31mValueError\u001b[0m                                Traceback (most recent call last)",
      "\u001b[0;32m<ipython-input-182-afd4cda53619>\u001b[0m in \u001b[0;36m<module>\u001b[0;34m\u001b[0m\n\u001b[0;32m----> 1\u001b[0;31m \u001b[0mclf\u001b[0m\u001b[0;34m.\u001b[0m\u001b[0mfit\u001b[0m\u001b[0;34m(\u001b[0m\u001b[0mX\u001b[0m\u001b[0;34m,\u001b[0m\u001b[0my\u001b[0m\u001b[0;34m)\u001b[0m\u001b[0;34m\u001b[0m\u001b[0;34m\u001b[0m\u001b[0m\n\u001b[0m",
      "\u001b[0;32m/opt/anaconda3/lib/python3.8/site-packages/sklearn/ensemble/_forest.py\u001b[0m in \u001b[0;36mfit\u001b[0;34m(self, X, y, sample_weight)\u001b[0m\n\u001b[1;32m    302\u001b[0m                 \u001b[0;34m\"sparse multilabel-indicator for y is not supported.\"\u001b[0m\u001b[0;34m\u001b[0m\u001b[0;34m\u001b[0m\u001b[0m\n\u001b[1;32m    303\u001b[0m             )\n\u001b[0;32m--> 304\u001b[0;31m         X, y = self._validate_data(X, y, multi_output=True,\n\u001b[0m\u001b[1;32m    305\u001b[0m                                    accept_sparse=\"csc\", dtype=DTYPE)\n\u001b[1;32m    306\u001b[0m         \u001b[0;32mif\u001b[0m \u001b[0msample_weight\u001b[0m \u001b[0;32mis\u001b[0m \u001b[0;32mnot\u001b[0m \u001b[0;32mNone\u001b[0m\u001b[0;34m:\u001b[0m\u001b[0;34m\u001b[0m\u001b[0;34m\u001b[0m\u001b[0m\n",
      "\u001b[0;32m/opt/anaconda3/lib/python3.8/site-packages/sklearn/base.py\u001b[0m in \u001b[0;36m_validate_data\u001b[0;34m(self, X, y, reset, validate_separately, **check_params)\u001b[0m\n\u001b[1;32m    431\u001b[0m                 \u001b[0my\u001b[0m \u001b[0;34m=\u001b[0m \u001b[0mcheck_array\u001b[0m\u001b[0;34m(\u001b[0m\u001b[0my\u001b[0m\u001b[0;34m,\u001b[0m \u001b[0;34m**\u001b[0m\u001b[0mcheck_y_params\u001b[0m\u001b[0;34m)\u001b[0m\u001b[0;34m\u001b[0m\u001b[0;34m\u001b[0m\u001b[0m\n\u001b[1;32m    432\u001b[0m             \u001b[0;32melse\u001b[0m\u001b[0;34m:\u001b[0m\u001b[0;34m\u001b[0m\u001b[0;34m\u001b[0m\u001b[0m\n\u001b[0;32m--> 433\u001b[0;31m                 \u001b[0mX\u001b[0m\u001b[0;34m,\u001b[0m \u001b[0my\u001b[0m \u001b[0;34m=\u001b[0m \u001b[0mcheck_X_y\u001b[0m\u001b[0;34m(\u001b[0m\u001b[0mX\u001b[0m\u001b[0;34m,\u001b[0m \u001b[0my\u001b[0m\u001b[0;34m,\u001b[0m \u001b[0;34m**\u001b[0m\u001b[0mcheck_params\u001b[0m\u001b[0;34m)\u001b[0m\u001b[0;34m\u001b[0m\u001b[0;34m\u001b[0m\u001b[0m\n\u001b[0m\u001b[1;32m    434\u001b[0m             \u001b[0mout\u001b[0m \u001b[0;34m=\u001b[0m \u001b[0mX\u001b[0m\u001b[0;34m,\u001b[0m \u001b[0my\u001b[0m\u001b[0;34m\u001b[0m\u001b[0;34m\u001b[0m\u001b[0m\n\u001b[1;32m    435\u001b[0m \u001b[0;34m\u001b[0m\u001b[0m\n",
      "\u001b[0;32m/opt/anaconda3/lib/python3.8/site-packages/sklearn/utils/validation.py\u001b[0m in \u001b[0;36minner_f\u001b[0;34m(*args, **kwargs)\u001b[0m\n\u001b[1;32m     61\u001b[0m             \u001b[0mextra_args\u001b[0m \u001b[0;34m=\u001b[0m \u001b[0mlen\u001b[0m\u001b[0;34m(\u001b[0m\u001b[0margs\u001b[0m\u001b[0;34m)\u001b[0m \u001b[0;34m-\u001b[0m \u001b[0mlen\u001b[0m\u001b[0;34m(\u001b[0m\u001b[0mall_args\u001b[0m\u001b[0;34m)\u001b[0m\u001b[0;34m\u001b[0m\u001b[0;34m\u001b[0m\u001b[0m\n\u001b[1;32m     62\u001b[0m             \u001b[0;32mif\u001b[0m \u001b[0mextra_args\u001b[0m \u001b[0;34m<=\u001b[0m \u001b[0;36m0\u001b[0m\u001b[0;34m:\u001b[0m\u001b[0;34m\u001b[0m\u001b[0;34m\u001b[0m\u001b[0m\n\u001b[0;32m---> 63\u001b[0;31m                 \u001b[0;32mreturn\u001b[0m \u001b[0mf\u001b[0m\u001b[0;34m(\u001b[0m\u001b[0;34m*\u001b[0m\u001b[0margs\u001b[0m\u001b[0;34m,\u001b[0m \u001b[0;34m**\u001b[0m\u001b[0mkwargs\u001b[0m\u001b[0;34m)\u001b[0m\u001b[0;34m\u001b[0m\u001b[0;34m\u001b[0m\u001b[0m\n\u001b[0m\u001b[1;32m     64\u001b[0m \u001b[0;34m\u001b[0m\u001b[0m\n\u001b[1;32m     65\u001b[0m             \u001b[0;31m# extra_args > 0\u001b[0m\u001b[0;34m\u001b[0m\u001b[0;34m\u001b[0m\u001b[0;34m\u001b[0m\u001b[0m\n",
      "\u001b[0;32m/opt/anaconda3/lib/python3.8/site-packages/sklearn/utils/validation.py\u001b[0m in \u001b[0;36mcheck_X_y\u001b[0;34m(X, y, accept_sparse, accept_large_sparse, dtype, order, copy, force_all_finite, ensure_2d, allow_nd, multi_output, ensure_min_samples, ensure_min_features, y_numeric, estimator)\u001b[0m\n\u001b[1;32m    812\u001b[0m         \u001b[0;32mraise\u001b[0m \u001b[0mValueError\u001b[0m\u001b[0;34m(\u001b[0m\u001b[0;34m\"y cannot be None\"\u001b[0m\u001b[0;34m)\u001b[0m\u001b[0;34m\u001b[0m\u001b[0;34m\u001b[0m\u001b[0m\n\u001b[1;32m    813\u001b[0m \u001b[0;34m\u001b[0m\u001b[0m\n\u001b[0;32m--> 814\u001b[0;31m     X = check_array(X, accept_sparse=accept_sparse,\n\u001b[0m\u001b[1;32m    815\u001b[0m                     \u001b[0maccept_large_sparse\u001b[0m\u001b[0;34m=\u001b[0m\u001b[0maccept_large_sparse\u001b[0m\u001b[0;34m,\u001b[0m\u001b[0;34m\u001b[0m\u001b[0;34m\u001b[0m\u001b[0m\n\u001b[1;32m    816\u001b[0m                     \u001b[0mdtype\u001b[0m\u001b[0;34m=\u001b[0m\u001b[0mdtype\u001b[0m\u001b[0;34m,\u001b[0m \u001b[0morder\u001b[0m\u001b[0;34m=\u001b[0m\u001b[0morder\u001b[0m\u001b[0;34m,\u001b[0m \u001b[0mcopy\u001b[0m\u001b[0;34m=\u001b[0m\u001b[0mcopy\u001b[0m\u001b[0;34m,\u001b[0m\u001b[0;34m\u001b[0m\u001b[0;34m\u001b[0m\u001b[0m\n",
      "\u001b[0;32m/opt/anaconda3/lib/python3.8/site-packages/sklearn/utils/validation.py\u001b[0m in \u001b[0;36minner_f\u001b[0;34m(*args, **kwargs)\u001b[0m\n\u001b[1;32m     61\u001b[0m             \u001b[0mextra_args\u001b[0m \u001b[0;34m=\u001b[0m \u001b[0mlen\u001b[0m\u001b[0;34m(\u001b[0m\u001b[0margs\u001b[0m\u001b[0;34m)\u001b[0m \u001b[0;34m-\u001b[0m \u001b[0mlen\u001b[0m\u001b[0;34m(\u001b[0m\u001b[0mall_args\u001b[0m\u001b[0;34m)\u001b[0m\u001b[0;34m\u001b[0m\u001b[0;34m\u001b[0m\u001b[0m\n\u001b[1;32m     62\u001b[0m             \u001b[0;32mif\u001b[0m \u001b[0mextra_args\u001b[0m \u001b[0;34m<=\u001b[0m \u001b[0;36m0\u001b[0m\u001b[0;34m:\u001b[0m\u001b[0;34m\u001b[0m\u001b[0;34m\u001b[0m\u001b[0m\n\u001b[0;32m---> 63\u001b[0;31m                 \u001b[0;32mreturn\u001b[0m \u001b[0mf\u001b[0m\u001b[0;34m(\u001b[0m\u001b[0;34m*\u001b[0m\u001b[0margs\u001b[0m\u001b[0;34m,\u001b[0m \u001b[0;34m**\u001b[0m\u001b[0mkwargs\u001b[0m\u001b[0;34m)\u001b[0m\u001b[0;34m\u001b[0m\u001b[0;34m\u001b[0m\u001b[0m\n\u001b[0m\u001b[1;32m     64\u001b[0m \u001b[0;34m\u001b[0m\u001b[0m\n\u001b[1;32m     65\u001b[0m             \u001b[0;31m# extra_args > 0\u001b[0m\u001b[0;34m\u001b[0m\u001b[0;34m\u001b[0m\u001b[0;34m\u001b[0m\u001b[0m\n",
      "\u001b[0;32m/opt/anaconda3/lib/python3.8/site-packages/sklearn/utils/validation.py\u001b[0m in \u001b[0;36mcheck_array\u001b[0;34m(array, accept_sparse, accept_large_sparse, dtype, order, copy, force_all_finite, ensure_2d, allow_nd, ensure_min_samples, ensure_min_features, estimator)\u001b[0m\n\u001b[1;32m    657\u001b[0m                     \"into decimal numbers with dtype='numeric'\") from e\n\u001b[1;32m    658\u001b[0m         \u001b[0;32mif\u001b[0m \u001b[0;32mnot\u001b[0m \u001b[0mallow_nd\u001b[0m \u001b[0;32mand\u001b[0m \u001b[0marray\u001b[0m\u001b[0;34m.\u001b[0m\u001b[0mndim\u001b[0m \u001b[0;34m>=\u001b[0m \u001b[0;36m3\u001b[0m\u001b[0;34m:\u001b[0m\u001b[0;34m\u001b[0m\u001b[0;34m\u001b[0m\u001b[0m\n\u001b[0;32m--> 659\u001b[0;31m             raise ValueError(\"Found array with dim %d. %s expected <= 2.\"\n\u001b[0m\u001b[1;32m    660\u001b[0m                              % (array.ndim, estimator_name))\n\u001b[1;32m    661\u001b[0m \u001b[0;34m\u001b[0m\u001b[0m\n",
      "\u001b[0;31mValueError\u001b[0m: Found array with dim 3. Estimator expected <= 2."
     ]
    }
   ],
   "source": [
    "clf.fit(X,y)"
   ]
  },
  {
   "cell_type": "markdown",
   "id": "e2167beb",
   "metadata": {},
   "source": [
    "<h1> $$ Question\\space  3.2$$"
   ]
  },
  {
   "cell_type": "code",
   "execution_count": null,
   "id": "cf946d55",
   "metadata": {},
   "outputs": [],
   "source": [
    "#plt.plot(ROC_curves)"
   ]
  },
  {
   "cell_type": "markdown",
   "id": "35e0ccde",
   "metadata": {},
   "source": [
    "<h1> $$ Question\\space  3.3$$"
   ]
  },
  {
   "cell_type": "markdown",
   "id": "b5a62137",
   "metadata": {},
   "source": [
    "The random forest AUC has a better score than the logistic regression AUC"
   ]
  },
  {
   "cell_type": "markdown",
   "id": "6eb843f6",
   "metadata": {},
   "source": [
    "<h1> $$ Question\\space  4$$"
   ]
  },
  {
   "cell_type": "markdown",
   "id": "88ff53fa",
   "metadata": {},
   "source": [
    "1) The hidden states of the figure are the cell-specific enhancers\n",
    "\n",
    "2) The observable signal sequences along the genome are the active regulatory regions // euchromatin domains\n",
    "\n",
    "3) The Emission Probabilities would be our observations of the active regulatory regions\n",
    "\n",
    "4) The Transition Probabilities would be our timed observations between active regulatory regions becoming inactive and vice versa\n",
    "\n",
    "5) The hidden state paths we want to observe are the cell-specific enhancers"
   ]
  }
 ],
 "metadata": {
  "kernelspec": {
   "display_name": "Python 3",
   "language": "python",
   "name": "python3"
  },
  "language_info": {
   "codemirror_mode": {
    "name": "ipython",
    "version": 3
   },
   "file_extension": ".py",
   "mimetype": "text/x-python",
   "name": "python",
   "nbconvert_exporter": "python",
   "pygments_lexer": "ipython3",
   "version": "3.8.8"
  }
 },
 "nbformat": 4,
 "nbformat_minor": 5
}
